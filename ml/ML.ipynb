{
 "cells": [
  {
   "cell_type": "markdown",
   "metadata": {},
   "source": [
    "# Predicting results"
   ]
  },
  {
   "cell_type": "markdown",
   "metadata": {},
   "source": [
    "## Imports"
   ]
  },
  {
   "cell_type": "code",
   "execution_count": 2,
   "metadata": {},
   "outputs": [],
   "source": [
    "import mysql.connector as sql\n",
    "import pandas as pd\n",
    "import numpy as np\n",
    "from datetime import date, timedelta\n",
    "\n",
    "from sklearn.tree import DecisionTreeClassifier\n",
    "from sklearn.model_selection import  train_test_split\n",
    "from sklearn.linear_model import LogisticRegression\n",
    "from sklearn.model_selection import cross_val_score\n",
    "from sklearn.ensemble import RandomForestClassifier, RandomForestRegressor\n",
    "from sklearn import metrics\n",
    "\n",
    "import seaborn as sns\n",
    "import matplotlib.pyplot as plt\n",
    "from matplotlib.lines import Line2D\n",
    "from IPython.display import display, HTML\n",
    "from tqdm import tqdm"
   ]
  },
  {
   "cell_type": "markdown",
   "metadata": {},
   "source": [
    "## Definitions"
   ]
  },
  {
   "cell_type": "code",
   "execution_count": 3,
   "metadata": {},
   "outputs": [],
   "source": [
    "from_year=2016\n",
    "to_year=2018\n",
    "streak_days_long=100\n",
    "streak_days_short=20"
   ]
  },
  {
   "cell_type": "code",
   "execution_count": 4,
   "metadata": {},
   "outputs": [],
   "source": [
    "def get_prev_matches_numbers(date_start, date_end, team_id, df):\n",
    "    dfteam_previous = df[((df[\"team_home_id\"]==team_id) | (df[\"team_away_id\"]==team_id)) & (df[\"kickoff_time\"]<date_end) & (df[\"kickoff_time\"]>date_start)].copy()\n",
    "    if len(dfteam_previous) == 0:\n",
    "        win_rate = 0.\n",
    "        score_diff_avg = 0.\n",
    "    else:\n",
    "        dfteam_previous[\"score_team\"] = dfteam_previous.apply(lambda x: x[\"score_home\"] if x[\"team_home_id\"]==team_id else x[\"score_away\"], axis=1)\n",
    "        dfteam_previous[\"score_oponent\"] = dfteam_previous.apply(lambda x: x[\"score_away\"] if x[\"team_home_id\"]==team_id else x[\"score_home\"], axis=1)\n",
    "        dfteam_previous[\"won\"] = dfteam_previous[\"score_team\"] > dfteam_previous[\"score_oponent\"]\n",
    "        dfteam_previous[\"score_diff\"] = dfteam_previous[\"score_team\"] - dfteam_previous[\"score_oponent\"]\n",
    "        win_rate = float(dfteam_previous[\"won\"].sum()) / len(dfteam_previous)\n",
    "        score_diff_avg = dfteam_previous[\"score_diff\"].mean()\n",
    "    return win_rate, score_diff_avg"
   ]
  },
  {
   "cell_type": "code",
   "execution_count": 5,
   "metadata": {},
   "outputs": [],
   "source": [
    "def calculate_variables_last_X_train(df_games, last_X_days):\n",
    "    # for each game add results of last ones\n",
    "    win_rate_home_list = []\n",
    "    win_rate_away_list = []\n",
    "    score_diff_avg_home_list = []\n",
    "    score_diff_avg_away_list = []\n",
    "    for i, row in tqdm(df_games.iterrows()):\n",
    "        date_end = row[\"kickoff_time\"]\n",
    "        date_start = date_end - timedelta(days=last_X_days)\n",
    "        # For the home team\n",
    "        team_id = row[\"team_home_id\"]\n",
    "        # print(\"Home team:\", team_id)\n",
    "        win_rate_home, score_diff_avg_home = get_prev_matches_numbers(date_start, date_end, team_id, df_games)\n",
    "        win_rate_home_list += [win_rate_home]\n",
    "        score_diff_avg_home_list += [score_diff_avg_home]\n",
    "        # For the away team\n",
    "        team_id = row[\"team_away_id\"]\n",
    "        # print(\"Away team:\", team_id)\n",
    "        win_rate_away, score_diff_avg_away = get_prev_matches_numbers(date_start, date_end, team_id, df_games)\n",
    "        win_rate_away_list += [win_rate_away]\n",
    "        score_diff_avg_away_list += [score_diff_avg_away]\n",
    "\n",
    "    # add historical to df\n",
    "    df_games[\"win_rate_home_last\"+str(last_X_days)] = win_rate_home_list\n",
    "    df_games[\"score_diff_avg_home_last\"+str(last_X_days)] = score_diff_avg_home_list\n",
    "    df_games[\"win_rate_away_last\"+str(last_X_days)] = win_rate_away_list\n",
    "    df_games[\"score_diff_avg_away_last\"+str(last_X_days)] = score_diff_avg_away_list\n",
    "\n",
    "    return df_games"
   ]
  },
  {
   "cell_type": "code",
   "execution_count": 6,
   "metadata": {},
   "outputs": [],
   "source": [
    "def calculate_variables_last_X_predict(df_predict, df_games, last_X_days):\n",
    "    # for each game add results of last ones\n",
    "    win_rate_home_list = []\n",
    "    win_rate_away_list = []\n",
    "    score_diff_avg_home_list = []\n",
    "    score_diff_avg_away_list = []\n",
    "    for i, row in tqdm(df_predict.iterrows()):\n",
    "        date_end = row[\"kickoff_time\"]\n",
    "        date_start = date_end - timedelta(days=last_X_days)\n",
    "        # For the home team\n",
    "        team_id = row[\"team_home_id\"]\n",
    "        # print(\"Home team:\", team_id)\n",
    "        win_rate_home, score_diff_avg_home = get_prev_matches_numbers(date_start, date_end, team_id, df_games)\n",
    "        win_rate_home_list += [win_rate_home]\n",
    "        score_diff_avg_home_list += [score_diff_avg_home]\n",
    "        # For the away team\n",
    "        team_id = row[\"team_away_id\"]\n",
    "        # print(\"Away team:\", team_id)\n",
    "        win_rate_away, score_diff_avg_away = get_prev_matches_numbers(date_start, date_end, team_id, df_games)\n",
    "        win_rate_away_list += [win_rate_away]\n",
    "        score_diff_avg_away_list += [score_diff_avg_away]\n",
    "\n",
    "    # add historical to df\n",
    "    df_predict[\"win_rate_home_last\" + str(last_X_days)] = win_rate_home_list\n",
    "    df_predict[\"score_diff_avg_home_last\" + str(last_X_days)] = score_diff_avg_home_list\n",
    "    df_predict[\"win_rate_away_last\" + str(last_X_days)] = win_rate_away_list\n",
    "    df_predict[\"score_diff_avg_away_last\" + str(last_X_days)] = score_diff_avg_away_list\n",
    "\n",
    "    return df_predict"
   ]
  },
  {
   "cell_type": "markdown",
   "metadata": {},
   "source": [
    "## Loading data from db"
   ]
  },
  {
   "cell_type": "code",
   "execution_count": 7,
   "metadata": {},
   "outputs": [],
   "source": [
    "#DB connection\n",
    "db_connection = sql.connect(host='localhost', port=3306, database='acb', user='root', password='root')\n",
    "df_games = pd.read_sql('SELECT * FROM game where game.season >= {}'.format(from_year), con=db_connection)\n",
    "\n",
    "#print(df_games.shape)\n",
    "#print(df_games.columns)\n",
    "#df_games.head()"
   ]
  },
  {
   "cell_type": "markdown",
   "metadata": {},
   "source": [
    "## Correlations"
   ]
  },
  {
   "cell_type": "code",
   "execution_count": 8,
   "metadata": {
    "scrolled": false
   },
   "outputs": [],
   "source": [
    "#correlation matrix\n",
    "#corrmat = df_games.corr()\n",
    "#f, ax = plt.subplots(figsize=(20,18))\n",
    "#sns.heatmap(corrmat, square=True, cmap=sns.diverging_palette(240, 10, as_cmap=True))\n",
    "#plt.show()"
   ]
  },
  {
   "cell_type": "code",
   "execution_count": 9,
   "metadata": {
    "scrolled": false
   },
   "outputs": [],
   "source": [
    "#cols_aux = [c for c in df_games.columns if (c.startswith(\"score\") and not c.endswith(\"extra\"))]\n",
    "#print(cols_aux)\n",
    "#sns.set(style=\"ticks\", color_codes=True)\n",
    "#sns.pairplot(df_games[cols_aux])\n",
    "#plt.show()"
   ]
  },
  {
   "cell_type": "markdown",
   "metadata": {},
   "source": [
    "## Preprocessing"
   ]
  },
  {
   "cell_type": "code",
   "execution_count": 10,
   "metadata": {
    "scrolled": false
   },
   "outputs": [
    {
     "name": "stderr",
     "output_type": "stream",
     "text": [
      "802it [00:09, 88.70it/s]\n",
      "802it [00:08, 94.55it/s] \n"
     ]
    },
    {
     "data": {
      "text/html": [
       "<div>\n",
       "<style scoped>\n",
       "    .dataframe tbody tr th:only-of-type {\n",
       "        vertical-align: middle;\n",
       "    }\n",
       "\n",
       "    .dataframe tbody tr th {\n",
       "        vertical-align: top;\n",
       "    }\n",
       "\n",
       "    .dataframe thead th {\n",
       "        text-align: right;\n",
       "    }\n",
       "</style>\n",
       "<table border=\"1\" class=\"dataframe\">\n",
       "  <thead>\n",
       "    <tr style=\"text-align: right;\">\n",
       "      <th></th>\n",
       "      <th>team_home_id</th>\n",
       "      <th>team_away_id</th>\n",
       "      <th>season</th>\n",
       "      <th>journey</th>\n",
       "      <th>score_home</th>\n",
       "      <th>score_away</th>\n",
       "      <th>kickoff_time</th>\n",
       "      <th>referee_1</th>\n",
       "      <th>score_difference</th>\n",
       "      <th>win_rate_home_last100</th>\n",
       "      <th>score_diff_avg_home_last100</th>\n",
       "      <th>win_rate_away_last100</th>\n",
       "      <th>score_diff_avg_away_last100</th>\n",
       "      <th>win_rate_home_last20</th>\n",
       "      <th>score_diff_avg_home_last20</th>\n",
       "      <th>win_rate_away_last20</th>\n",
       "      <th>score_diff_avg_away_last20</th>\n",
       "    </tr>\n",
       "  </thead>\n",
       "  <tbody>\n",
       "    <tr>\n",
       "      <th>0</th>\n",
       "      <td>1</td>\n",
       "      <td>8</td>\n",
       "      <td>2018</td>\n",
       "      <td>1</td>\n",
       "      <td>88</td>\n",
       "      <td>73</td>\n",
       "      <td>2018-09-30 19:15:00</td>\n",
       "      <td>Jiménez Trujillo</td>\n",
       "      <td>15</td>\n",
       "      <td>0.000000</td>\n",
       "      <td>0.000000</td>\n",
       "      <td>0.000000</td>\n",
       "      <td>0.000000</td>\n",
       "      <td>0.0</td>\n",
       "      <td>0.0</td>\n",
       "      <td>0.0</td>\n",
       "      <td>0.0</td>\n",
       "    </tr>\n",
       "    <tr>\n",
       "      <th>1</th>\n",
       "      <td>18</td>\n",
       "      <td>1</td>\n",
       "      <td>2018</td>\n",
       "      <td>2</td>\n",
       "      <td>70</td>\n",
       "      <td>88</td>\n",
       "      <td>2018-10-05 20:45:00</td>\n",
       "      <td>Antonio Conde</td>\n",
       "      <td>-18</td>\n",
       "      <td>0.000000</td>\n",
       "      <td>-13.000000</td>\n",
       "      <td>1.000000</td>\n",
       "      <td>15.000000</td>\n",
       "      <td>0.0</td>\n",
       "      <td>-13.0</td>\n",
       "      <td>1.0</td>\n",
       "      <td>15.0</td>\n",
       "    </tr>\n",
       "    <tr>\n",
       "      <th>2</th>\n",
       "      <td>3</td>\n",
       "      <td>2</td>\n",
       "      <td>2018</td>\n",
       "      <td>12</td>\n",
       "      <td>78</td>\n",
       "      <td>73</td>\n",
       "      <td>2018-12-16 19:30:00</td>\n",
       "      <td>Carlos Peruga</td>\n",
       "      <td>5</td>\n",
       "      <td>0.727273</td>\n",
       "      <td>6.000000</td>\n",
       "      <td>0.909091</td>\n",
       "      <td>13.181818</td>\n",
       "      <td>0.0</td>\n",
       "      <td>-7.0</td>\n",
       "      <td>1.0</td>\n",
       "      <td>4.0</td>\n",
       "    </tr>\n",
       "    <tr>\n",
       "      <th>3</th>\n",
       "      <td>17</td>\n",
       "      <td>9</td>\n",
       "      <td>2018</td>\n",
       "      <td>12</td>\n",
       "      <td>83</td>\n",
       "      <td>68</td>\n",
       "      <td>2018-12-16 19:30:00</td>\n",
       "      <td>M.A. Pérez Pérez</td>\n",
       "      <td>15</td>\n",
       "      <td>0.272727</td>\n",
       "      <td>-4.454545</td>\n",
       "      <td>0.545455</td>\n",
       "      <td>-3.090909</td>\n",
       "      <td>0.0</td>\n",
       "      <td>-24.0</td>\n",
       "      <td>1.0</td>\n",
       "      <td>7.0</td>\n",
       "    </tr>\n",
       "    <tr>\n",
       "      <th>4</th>\n",
       "      <td>4</td>\n",
       "      <td>16</td>\n",
       "      <td>2018</td>\n",
       "      <td>12</td>\n",
       "      <td>76</td>\n",
       "      <td>87</td>\n",
       "      <td>2018-12-15 20:30:00</td>\n",
       "      <td>Daniel Hierrezuelo</td>\n",
       "      <td>-11</td>\n",
       "      <td>0.454545</td>\n",
       "      <td>-3.636364</td>\n",
       "      <td>0.181818</td>\n",
       "      <td>-10.545455</td>\n",
       "      <td>0.0</td>\n",
       "      <td>-19.0</td>\n",
       "      <td>0.0</td>\n",
       "      <td>-14.0</td>\n",
       "    </tr>\n",
       "  </tbody>\n",
       "</table>\n",
       "</div>"
      ],
      "text/plain": [
       "   team_home_id  team_away_id  season  journey  score_home  score_away  \\\n",
       "0             1             8    2018        1          88          73   \n",
       "1            18             1    2018        2          70          88   \n",
       "2             3             2    2018       12          78          73   \n",
       "3            17             9    2018       12          83          68   \n",
       "4             4            16    2018       12          76          87   \n",
       "\n",
       "         kickoff_time           referee_1  score_difference  \\\n",
       "0 2018-09-30 19:15:00    Jiménez Trujillo                15   \n",
       "1 2018-10-05 20:45:00       Antonio Conde               -18   \n",
       "2 2018-12-16 19:30:00       Carlos Peruga                 5   \n",
       "3 2018-12-16 19:30:00    M.A. Pérez Pérez                15   \n",
       "4 2018-12-15 20:30:00  Daniel Hierrezuelo               -11   \n",
       "\n",
       "   win_rate_home_last100  score_diff_avg_home_last100  win_rate_away_last100  \\\n",
       "0               0.000000                     0.000000               0.000000   \n",
       "1               0.000000                   -13.000000               1.000000   \n",
       "2               0.727273                     6.000000               0.909091   \n",
       "3               0.272727                    -4.454545               0.545455   \n",
       "4               0.454545                    -3.636364               0.181818   \n",
       "\n",
       "   score_diff_avg_away_last100  win_rate_home_last20  \\\n",
       "0                     0.000000                   0.0   \n",
       "1                    15.000000                   0.0   \n",
       "2                    13.181818                   0.0   \n",
       "3                    -3.090909                   0.0   \n",
       "4                   -10.545455                   0.0   \n",
       "\n",
       "   score_diff_avg_home_last20  win_rate_away_last20  \\\n",
       "0                         0.0                   0.0   \n",
       "1                       -13.0                   1.0   \n",
       "2                        -7.0                   1.0   \n",
       "3                       -24.0                   1.0   \n",
       "4                       -19.0                   0.0   \n",
       "\n",
       "   score_diff_avg_away_last20  \n",
       "0                         0.0  \n",
       "1                        15.0  \n",
       "2                         4.0  \n",
       "3                         7.0  \n",
       "4                       -14.0  "
      ]
     },
     "execution_count": 10,
     "metadata": {},
     "output_type": "execute_result"
    }
   ],
   "source": [
    "# cols to keep\n",
    "cols_to_keep = ['team_home_id', 'team_away_id', 'season', 'journey', 'kickoff_time',\n",
    "                'score_home', 'score_away', 'referee_1']\n",
    "cols_to_del = [c for c in df_games.columns if c not in cols_to_keep]\n",
    "df_games.drop(cols_to_del, axis=1, inplace=True)\n",
    "\n",
    "# check if nulls\n",
    "#print(\"Number of nulls in df:\", df_games.isnull().sum().max())\n",
    "\n",
    "# checking amount of times a home team won\n",
    "#win_home = df_games[\"score_away\"] < df_games[\"score_home\"]\n",
    "#print(\"Home Team Win percentage: {0:.1f}%\".format(100 * win_home.values.sum() / len(win_home)))\n",
    "\n",
    "# create score difference feature\n",
    "df_games[\"score_difference\"] = df_games[\"score_home\"] - df_games[\"score_away\"]\n",
    "#print(\"Mean of score difference:\", df_games[\"score_difference\"].mean())\n",
    "\n",
    "df_games=calculate_variables_last_X_train(df_games, streak_days_long)\n",
    "df_games=calculate_variables_last_X_train(df_games, streak_days_short)\n",
    "df_games.head()"
   ]
  },
  {
   "cell_type": "code",
   "execution_count": 11,
   "metadata": {},
   "outputs": [
    {
     "data": {
      "text/html": [
       "<div>\n",
       "<style scoped>\n",
       "    .dataframe tbody tr th:only-of-type {\n",
       "        vertical-align: middle;\n",
       "    }\n",
       "\n",
       "    .dataframe tbody tr th {\n",
       "        vertical-align: top;\n",
       "    }\n",
       "\n",
       "    .dataframe thead th {\n",
       "        text-align: right;\n",
       "    }\n",
       "</style>\n",
       "<table border=\"1\" class=\"dataframe\">\n",
       "  <thead>\n",
       "    <tr style=\"text-align: right;\">\n",
       "      <th></th>\n",
       "      <th>team_home_id</th>\n",
       "      <th>team_away_id</th>\n",
       "      <th>season</th>\n",
       "      <th>journey</th>\n",
       "      <th>score_home</th>\n",
       "      <th>score_away</th>\n",
       "      <th>kickoff_time</th>\n",
       "      <th>referee_1</th>\n",
       "      <th>score_difference</th>\n",
       "      <th>win_rate_home_last100</th>\n",
       "      <th>score_diff_avg_home_last100</th>\n",
       "      <th>win_rate_away_last100</th>\n",
       "      <th>score_diff_avg_away_last100</th>\n",
       "      <th>win_rate_home_last20</th>\n",
       "      <th>score_diff_avg_home_last20</th>\n",
       "      <th>win_rate_away_last20</th>\n",
       "      <th>score_diff_avg_away_last20</th>\n",
       "    </tr>\n",
       "  </thead>\n",
       "  <tbody>\n",
       "    <tr>\n",
       "      <th>0</th>\n",
       "      <td>8</td>\n",
       "      <td>1</td>\n",
       "      <td>2018</td>\n",
       "      <td>1</td>\n",
       "      <td>73</td>\n",
       "      <td>88</td>\n",
       "      <td>2018-09-30 19:15:00</td>\n",
       "      <td>Jiménez Trujillo</td>\n",
       "      <td>-15</td>\n",
       "      <td>0.000000</td>\n",
       "      <td>0.000000</td>\n",
       "      <td>0.000000</td>\n",
       "      <td>0.000000</td>\n",
       "      <td>0.0</td>\n",
       "      <td>0.0</td>\n",
       "      <td>0.0</td>\n",
       "      <td>0.0</td>\n",
       "    </tr>\n",
       "    <tr>\n",
       "      <th>1</th>\n",
       "      <td>1</td>\n",
       "      <td>18</td>\n",
       "      <td>2018</td>\n",
       "      <td>2</td>\n",
       "      <td>88</td>\n",
       "      <td>70</td>\n",
       "      <td>2018-10-05 20:45:00</td>\n",
       "      <td>Antonio Conde</td>\n",
       "      <td>18</td>\n",
       "      <td>1.000000</td>\n",
       "      <td>15.000000</td>\n",
       "      <td>0.000000</td>\n",
       "      <td>-13.000000</td>\n",
       "      <td>1.0</td>\n",
       "      <td>15.0</td>\n",
       "      <td>0.0</td>\n",
       "      <td>-13.0</td>\n",
       "    </tr>\n",
       "    <tr>\n",
       "      <th>2</th>\n",
       "      <td>2</td>\n",
       "      <td>3</td>\n",
       "      <td>2018</td>\n",
       "      <td>12</td>\n",
       "      <td>73</td>\n",
       "      <td>78</td>\n",
       "      <td>2018-12-16 19:30:00</td>\n",
       "      <td>Carlos Peruga</td>\n",
       "      <td>-5</td>\n",
       "      <td>0.909091</td>\n",
       "      <td>13.181818</td>\n",
       "      <td>0.727273</td>\n",
       "      <td>6.000000</td>\n",
       "      <td>1.0</td>\n",
       "      <td>4.0</td>\n",
       "      <td>0.0</td>\n",
       "      <td>-7.0</td>\n",
       "    </tr>\n",
       "    <tr>\n",
       "      <th>3</th>\n",
       "      <td>9</td>\n",
       "      <td>17</td>\n",
       "      <td>2018</td>\n",
       "      <td>12</td>\n",
       "      <td>68</td>\n",
       "      <td>83</td>\n",
       "      <td>2018-12-16 19:30:00</td>\n",
       "      <td>M.A. Pérez Pérez</td>\n",
       "      <td>-15</td>\n",
       "      <td>0.545455</td>\n",
       "      <td>-3.090909</td>\n",
       "      <td>0.272727</td>\n",
       "      <td>-4.454545</td>\n",
       "      <td>1.0</td>\n",
       "      <td>7.0</td>\n",
       "      <td>0.0</td>\n",
       "      <td>-24.0</td>\n",
       "    </tr>\n",
       "    <tr>\n",
       "      <th>4</th>\n",
       "      <td>16</td>\n",
       "      <td>4</td>\n",
       "      <td>2018</td>\n",
       "      <td>12</td>\n",
       "      <td>87</td>\n",
       "      <td>76</td>\n",
       "      <td>2018-12-15 20:30:00</td>\n",
       "      <td>Daniel Hierrezuelo</td>\n",
       "      <td>11</td>\n",
       "      <td>0.181818</td>\n",
       "      <td>-10.545455</td>\n",
       "      <td>0.454545</td>\n",
       "      <td>-3.636364</td>\n",
       "      <td>0.0</td>\n",
       "      <td>-14.0</td>\n",
       "      <td>0.0</td>\n",
       "      <td>-19.0</td>\n",
       "    </tr>\n",
       "  </tbody>\n",
       "</table>\n",
       "</div>"
      ],
      "text/plain": [
       "   team_home_id  team_away_id  season  journey  score_home  score_away  \\\n",
       "0             8             1    2018        1          73          88   \n",
       "1             1            18    2018        2          88          70   \n",
       "2             2             3    2018       12          73          78   \n",
       "3             9            17    2018       12          68          83   \n",
       "4            16             4    2018       12          87          76   \n",
       "\n",
       "         kickoff_time           referee_1  score_difference  \\\n",
       "0 2018-09-30 19:15:00    Jiménez Trujillo               -15   \n",
       "1 2018-10-05 20:45:00       Antonio Conde                18   \n",
       "2 2018-12-16 19:30:00       Carlos Peruga                -5   \n",
       "3 2018-12-16 19:30:00    M.A. Pérez Pérez               -15   \n",
       "4 2018-12-15 20:30:00  Daniel Hierrezuelo                11   \n",
       "\n",
       "   win_rate_home_last100  score_diff_avg_home_last100  win_rate_away_last100  \\\n",
       "0               0.000000                     0.000000               0.000000   \n",
       "1               1.000000                    15.000000               0.000000   \n",
       "2               0.909091                    13.181818               0.727273   \n",
       "3               0.545455                    -3.090909               0.272727   \n",
       "4               0.181818                   -10.545455               0.454545   \n",
       "\n",
       "   score_diff_avg_away_last100  win_rate_home_last20  \\\n",
       "0                     0.000000                   0.0   \n",
       "1                   -13.000000                   1.0   \n",
       "2                     6.000000                   1.0   \n",
       "3                    -4.454545                   1.0   \n",
       "4                    -3.636364                   0.0   \n",
       "\n",
       "   score_diff_avg_home_last20  win_rate_away_last20  \\\n",
       "0                         0.0                   0.0   \n",
       "1                        15.0                   0.0   \n",
       "2                         4.0                   0.0   \n",
       "3                         7.0                   0.0   \n",
       "4                       -14.0                   0.0   \n",
       "\n",
       "   score_diff_avg_away_last20  \n",
       "0                         0.0  \n",
       "1                       -13.0  \n",
       "2                        -7.0  \n",
       "3                       -24.0  \n",
       "4                       -19.0  "
      ]
     },
     "execution_count": 11,
     "metadata": {},
     "output_type": "execute_result"
    }
   ],
   "source": [
    "df_games_inverse = df_games.copy()\n",
    "for c in df_games_inverse.columns:\n",
    "    if \"home\" in c:\n",
    "        df_games_inverse[c.replace(\"home\", \"away\")] = df_games[c]\n",
    "    if \"away\" in c:\n",
    "        df_games_inverse[c.replace(\"away\", \"home\")] = df_games[c]\n",
    "df_games_inverse[\"score_difference\"] = -df_games[\"score_difference\"]        \n",
    "df_games_inverse.head()"
   ]
  },
  {
   "cell_type": "markdown",
   "metadata": {},
   "source": [
    "## Regression"
   ]
  },
  {
   "cell_type": "code",
   "execution_count": 12,
   "metadata": {
    "scrolled": false
   },
   "outputs": [
    {
     "name": "stdout",
     "output_type": "stream",
     "text": [
      "Rows for training: 1244\n",
      "Rows for test: 360\n",
      "Index(['team_home_id', 'team_away_id', 'win_rate_home_last100',\n",
      "       'score_diff_avg_home_last100', 'win_rate_away_last100',\n",
      "       'score_diff_avg_away_last100', 'win_rate_home_last20',\n",
      "       'score_diff_avg_home_last20', 'win_rate_away_last20',\n",
      "       'score_diff_avg_away_last20'],\n",
      "      dtype='object')\n"
     ]
    },
    {
     "data": {
      "image/png": "[encoded data removed]",
      "text/plain": [
       "<Figure size 1440x1440 with 1 Axes>"
      ]
     },
     "metadata": {
      "needs_background": "light"
     },
     "output_type": "display_data"
    },
    {
     "name": "stdout",
     "output_type": "stream",
     "text": [
      "Percentage of the times the mean was positive: 0.5\n",
      "Percentage of the times the median was positive: 0.5027777777777778\n",
      "Percentage of the times the score was in the given interval: 96.11111111111111%\n",
      "Mean absolute error: 11.270411412554799 points\n",
      "Percentage of the times the winner was correct: 0.6222222222222222%\n"
     ]
    }
   ],
   "source": [
    "df_final = pd.concat([df_games, df_games_inverse], ignore_index = True)\n",
    "#df_final = df_games.copy()\n",
    "df_final.drop([\"score_home\", \"score_away\", \"journey\", \"kickoff_time\", \"referee_1\"], axis=1, inplace=True)\n",
    "#df_final = df_final[[\"win_rate_home\", \"score_diff_avg_home\", \"win_rate_away\", \"score_diff_avg_away\", \"season\", \"score_difference\"]]\n",
    "\n",
    "# Years for train // Years for test (generally 2016-2017 and 2018)\n",
    "train = df_final[df_final[\"season\"]<to_year]\n",
    "test = df_final[df_final[\"season\"]>=to_year]\n",
    "\n",
    "print(\"Rows for training:\", len(train))\n",
    "print(\"Rows for test:\", len(test))\n",
    "\n",
    "X_train = train.drop(['score_difference', \"season\"], axis=1)\n",
    "y_train = train['score_difference']\n",
    "X_test = test.drop(['score_difference', \"season\"], axis=1)\n",
    "y_test = test['score_difference'].values\n",
    "#X_train, X_test, y_train, y_test = train_test_split(X, y, test_size=0.25, random_state=123)\n",
    "\n",
    "# Train algorithm\n",
    "print(X_train.columns)\n",
    "model = RandomForestRegressor(n_estimators=10000, random_state=0, max_depth=20, n_jobs=-1)\n",
    "model.fit(X_train, y_train)\n",
    "\n",
    "#print(model.feature_importances_)\n",
    "\n",
    "# Estimating an interval\n",
    "preds_estimators = {}\n",
    "for i in range(len(model.estimators_)):\n",
    "    e = model.estimators_[i]\n",
    "    preds_estimators[\"Est\" + str(i).zfill(2)] = e.predict(X_test)\n",
    "df_preds_estimators = pd.DataFrame(data=preds_estimators)\n",
    "\n",
    "# Plotting the intervals and the real value\n",
    "axes = df_preds_estimators.transpose().plot.box(figsize=(20, 20), positions=range(0,len(X_test)), showfliers=True,\n",
    "                                                flierprops=dict(marker='+', color='lightblue'),\n",
    "                                                color={'whiskers': 'lightblue', 'caps': 'lightblue',\n",
    "                                                       'medians': 'lightblue', 'boxes': 'lightblue'})\n",
    "axes.plot(y_test, color='red', marker='o', linestyle=' ')\n",
    "axes.set_title(\"Predictions of the score difference for each game and real result\")\n",
    "axes.set_xlabel(\"Game\")\n",
    "axes.set_ylabel(\"Score difference\")\n",
    "axes.legend([Line2D([0], [0], color='lightblue', marker='o', linestyle=' '),\n",
    "             Line2D([0], [0], color='red', marker='o', linestyle=' ')], ['Preds', 'Real'])\n",
    "plt.show()\n",
    "\n",
    "# Some conclusions about the intervals\n",
    "df_preds_estimators[\"Upper\"] = df_preds_estimators.apply(\n",
    "    lambda x: np.percentile(x, 75) + 1.5 * (np.percentile(x, 75) - np.percentile(x, 25)), axis=1)\n",
    "df_preds_estimators[\"Lower\"] = df_preds_estimators.apply(\n",
    "    lambda x: np.percentile(x, 25) - 1.5 * (np.percentile(x, 75) - np.percentile(x, 25)), axis=1)\n",
    "df_preds_estimators[\"Real\"] = y_test\n",
    "\n",
    "mean_aux = df_preds_estimators.apply(lambda x: 1 if x.mean() >= 0 else 0, axis=1)\n",
    "print(\"Percentage of the times the mean was positive:\", mean_aux.mean())\n",
    "median_aux=df_preds_estimators.apply(lambda x: 1 if np.percentile(x, 50)>=0 else 0, axis=1)\n",
    "print(\"Percentage of the times the median was positive:\", median_aux.mean())\n",
    "\n",
    "df_preds_estimators[\"score_in_range?\"] = (df_preds_estimators[\"Real\"] >= df_preds_estimators[\"Lower\"]) \\\n",
    "                                         & (df_preds_estimators[\"Real\"] <= df_preds_estimators[\"Upper\"])\n",
    "print(\"Percentage of the times the score was in the given interval: {}%\".format(\n",
    "    100 * float(df_preds_estimators[\"score_in_range?\"].sum()) / len(df_preds_estimators)))\n",
    "\n",
    "\n",
    "# Predicting score directly\n",
    "y_pred = model.predict(X_test)\n",
    "\n",
    "d = {'Real': y_test, 'Pred': y_pred}\n",
    "df_res = pd.DataFrame(data=d)\n",
    "df_res[\"winner_correct?\"] = np.sign(df_res[\"Real\"]) == np.sign(df_res[\"Pred\"])\n",
    "print(\"Mean absolute error: {} points\".format(metrics.mean_absolute_error(y_test, y_pred)))\n",
    "print(\"Percentage of the times the winner was correct: {}%\".format(\n",
    "    float(df_res[\"winner_correct?\"].sum()) / len(df_res)))"
   ]
  },
  {
   "cell_type": "markdown",
   "metadata": {
    "collapsed": true
   },
   "source": [
    "## Classification"
   ]
  },
  {
   "cell_type": "code",
   "execution_count": 13,
   "metadata": {},
   "outputs": [
    {
     "data": {
      "text/plain": [
       "'#df_final = pd.concat([df_games, df_games_inverse], ignore_index = True)\\ndf_final = df_games.copy()\\ndf_final[\"winner\"] = df_final[\"score_difference\"] > 0 \\ndf_final.drop([\"score_home\", \"score_away\", \"journey\", \"kickoff_time\", \"referee_1\", \"score_difference\"], axis=1, inplace=True)\\n#df_final = df_final[[\"win_rate_home\", \"score_diff_avg_home\", \"win_rate_away\", \"score_diff_avg_away\", \"season\", \"score_difference\"]]\\n\\n# Years for train // Years for test (generally 2016-2017 and 2018)\\ntrain = df_final[df_final[\"season\"]<to_year]\\ntest = df_final[df_final[\"season\"]>=to_year]\\n\\nprint(\"Rows for training:\", len(train))\\nprint(\"Rows for test:\", len(test))\\n\\nX_train = train.drop([\\'winner\\', \"season\"], axis=1)\\ny_train = train[\\'winner\\']\\nX_test = test.drop([\\'winner\\', \"season\"], axis=1)\\ny_test = test[\\'winner\\'].values\\n#X_train, X_test, y_train, y_test = train_test_split(X, y, test_size=0.25, random_state=123)\\n\\n# Train algorithm\\nprint(X_train.columns)\\nmodel = RandomForestClassifier(n_estimators=1000, random_state=20, max_depth=None, n_jobs=-1)\\nmodel.fit(X_train, y_train)\\n\\n#print(model.feature_importances_)\\n\\n# Predicting score directly\\ny_pred = model.predict(X_test)\\n\\nd = {\\'Real\\': y_test, \\'Pred\\': y_pred}\\ndf_res = pd.DataFrame(data=d)\\ndf_res[\"winner_correct?\"] = df_res[\"Real\"] == df_res[\"Pred\"]\\nprint(\"Accuracy: {} points\".format(df_res[\"winner_correct?\"].mean()))'"
      ]
     },
     "execution_count": 13,
     "metadata": {},
     "output_type": "execute_result"
    }
   ],
   "source": [
    "\"\"\"#df_final = pd.concat([df_games, df_games_inverse], ignore_index = True)\n",
    "df_final = df_games.copy()\n",
    "df_final[\"winner\"] = df_final[\"score_difference\"] > 0 \n",
    "df_final.drop([\"score_home\", \"score_away\", \"journey\", \"kickoff_time\", \"referee_1\", \"score_difference\"], axis=1, inplace=True)\n",
    "#df_final = df_final[[\"win_rate_home\", \"score_diff_avg_home\", \"win_rate_away\", \"score_diff_avg_away\", \"season\", \"score_difference\"]]\n",
    "\n",
    "# Years for train // Years for test (generally 2016-2017 and 2018)\n",
    "train = df_final[df_final[\"season\"]<to_year]\n",
    "test = df_final[df_final[\"season\"]>=to_year]\n",
    "\n",
    "print(\"Rows for training:\", len(train))\n",
    "print(\"Rows for test:\", len(test))\n",
    "\n",
    "X_train = train.drop(['winner', \"season\"], axis=1)\n",
    "y_train = train['winner']\n",
    "X_test = test.drop(['winner', \"season\"], axis=1)\n",
    "y_test = test['winner'].values\n",
    "#X_train, X_test, y_train, y_test = train_test_split(X, y, test_size=0.25, random_state=123)\n",
    "\n",
    "# Train algorithm\n",
    "print(X_train.columns)\n",
    "model = RandomForestClassifier(n_estimators=1000, random_state=20, max_depth=None, n_jobs=-1)\n",
    "model.fit(X_train, y_train)\n",
    "\n",
    "#print(model.feature_importances_)\n",
    "\n",
    "# Predicting score directly\n",
    "y_pred = model.predict(X_test)\n",
    "\n",
    "d = {'Real': y_test, 'Pred': y_pred}\n",
    "df_res = pd.DataFrame(data=d)\n",
    "df_res[\"winner_correct?\"] = df_res[\"Real\"] == df_res[\"Pred\"]\n",
    "print(\"Accuracy: {} points\".format(df_res[\"winner_correct?\"].mean()))\"\"\""
   ]
  },
  {
   "cell_type": "markdown",
   "metadata": {},
   "source": [
    "## Predict next journey"
   ]
  },
  {
   "cell_type": "code",
   "execution_count": 13,
   "metadata": {},
   "outputs": [
    {
     "data": {
      "text/html": [
       "<div>\n",
       "<style>\n",
       "    .dataframe thead tr:only-child th {\n",
       "        text-align: right;\n",
       "    }\n",
       "\n",
       "    .dataframe thead th {\n",
       "        text-align: left;\n",
       "    }\n",
       "\n",
       "    .dataframe tbody tr th {\n",
       "        vertical-align: top;\n",
       "    }\n",
       "</style>\n",
       "<table border=\"1\" class=\"dataframe\">\n",
       "  <thead>\n",
       "    <tr style=\"text-align: right;\">\n",
       "      <th></th>\n",
       "      <th>team_home</th>\n",
       "      <th>team_home_id</th>\n",
       "      <th>team_away</th>\n",
       "      <th>team_away_id</th>\n",
       "      <th>season</th>\n",
       "      <th>kickoff_time</th>\n",
       "      <th>journey</th>\n",
       "    </tr>\n",
       "  </thead>\n",
       "  <tbody>\n",
       "    <tr>\n",
       "      <th>0</th>\n",
       "      <td>VALENCIA BASKET CLUB</td>\n",
       "      <td>18</td>\n",
       "      <td>MONBUS OBRADOIRO</td>\n",
       "      <td>5</td>\n",
       "      <td>2018</td>\n",
       "      <td>2019-02-09 18:00:00</td>\n",
       "      <td>20</td>\n",
       "    </tr>\n",
       "    <tr>\n",
       "      <th>1</th>\n",
       "      <td>BARÇA LASSA</td>\n",
       "      <td>2</td>\n",
       "      <td>MONTAKIT FUENLABRADA</td>\n",
       "      <td>8</td>\n",
       "      <td>2018</td>\n",
       "      <td>2019-02-09 18:00:00</td>\n",
       "      <td>20</td>\n",
       "    </tr>\n",
       "    <tr>\n",
       "      <th>2</th>\n",
       "      <td>IBEROSTAR TENERIFE</td>\n",
       "      <td>9</td>\n",
       "      <td>SAN PABLO BURGOS</td>\n",
       "      <td>11</td>\n",
       "      <td>2018</td>\n",
       "      <td>2019-02-09 20:30:00</td>\n",
       "      <td>20</td>\n",
       "    </tr>\n",
       "    <tr>\n",
       "      <th>3</th>\n",
       "      <td>UNICAJA</td>\n",
       "      <td>3</td>\n",
       "      <td>BAXI MANRESA</td>\n",
       "      <td>12</td>\n",
       "      <td>2018</td>\n",
       "      <td>2019-02-09 20:30:00</td>\n",
       "      <td>20</td>\n",
       "    </tr>\n",
       "    <tr>\n",
       "      <th>4</th>\n",
       "      <td>MOVISTAR ESTUDIANTES</td>\n",
       "      <td>7</td>\n",
       "      <td>MORABANC ANDORRA</td>\n",
       "      <td>4</td>\n",
       "      <td>2018</td>\n",
       "      <td>2019-02-10 12:30:00</td>\n",
       "      <td>20</td>\n",
       "    </tr>\n",
       "    <tr>\n",
       "      <th>5</th>\n",
       "      <td>CAFÉS CANDELAS BREOGÁN</td>\n",
       "      <td>15</td>\n",
       "      <td>UCAM MURCIA CB</td>\n",
       "      <td>14</td>\n",
       "      <td>2018</td>\n",
       "      <td>2019-02-10 17:00:00</td>\n",
       "      <td>20</td>\n",
       "    </tr>\n",
       "    <tr>\n",
       "      <th>6</th>\n",
       "      <td>DIVINA SEGUROS JOVENTUT</td>\n",
       "      <td>10</td>\n",
       "      <td>TECNYCONTA ZARAGOZA</td>\n",
       "      <td>13</td>\n",
       "      <td>2018</td>\n",
       "      <td>2019-02-10 19:30:00</td>\n",
       "      <td>20</td>\n",
       "    </tr>\n",
       "    <tr>\n",
       "      <th>7</th>\n",
       "      <td>REAL MADRID</td>\n",
       "      <td>1</td>\n",
       "      <td>KIROLBET BASKONIA</td>\n",
       "      <td>6</td>\n",
       "      <td>2018</td>\n",
       "      <td>2019-02-10 19:30:00</td>\n",
       "      <td>20</td>\n",
       "    </tr>\n",
       "    <tr>\n",
       "      <th>8</th>\n",
       "      <td>HERBALIFE GRAN CANARIA</td>\n",
       "      <td>17</td>\n",
       "      <td>DELTECO GBC</td>\n",
       "      <td>16</td>\n",
       "      <td>2018</td>\n",
       "      <td>2019-02-10 19:30:00</td>\n",
       "      <td>20</td>\n",
       "    </tr>\n",
       "  </tbody>\n",
       "</table>\n",
       "</div>"
      ],
      "text/plain": [
       "                  team_home  team_home_id              team_away  \\\n",
       "0     VALENCIA BASKET CLUB             18       MONBUS OBRADOIRO   \n",
       "1              BARÇA LASSA              2   MONTAKIT FUENLABRADA   \n",
       "2       IBEROSTAR TENERIFE              9       SAN PABLO BURGOS   \n",
       "3                  UNICAJA              3           BAXI MANRESA   \n",
       "4     MOVISTAR ESTUDIANTES              7       MORABANC ANDORRA   \n",
       "5   CAFÉS CANDELAS BREOGÁN             15         UCAM MURCIA CB   \n",
       "6  DIVINA SEGUROS JOVENTUT             10    TECNYCONTA ZARAGOZA   \n",
       "7              REAL MADRID              1      KIROLBET BASKONIA   \n",
       "8   HERBALIFE GRAN CANARIA             17            DELTECO GBC   \n",
       "\n",
       "   team_away_id  season        kickoff_time  journey  \n",
       "0             5    2018 2019-02-09 18:00:00       20  \n",
       "1             8    2018 2019-02-09 18:00:00       20  \n",
       "2            11    2018 2019-02-09 20:30:00       20  \n",
       "3            12    2018 2019-02-09 20:30:00       20  \n",
       "4             4    2018 2019-02-10 12:30:00       20  \n",
       "5            14    2018 2019-02-10 17:00:00       20  \n",
       "6            13    2018 2019-02-10 19:30:00       20  \n",
       "7             6    2018 2019-02-10 19:30:00       20  \n",
       "8            16    2018 2019-02-10 19:30:00       20  "
      ]
     },
     "execution_count": 13,
     "metadata": {},
     "output_type": "execute_result"
    }
   ],
   "source": [
    "# Load csv aux\n",
    "next_journey_matches_df = pd.read_csv(\"caca.csv\", sep=\",\", encoding=\"utf-8\", parse_dates=[\"kickoff_time\"])\n",
    "next_journey_matches_df"
   ]
  },
  {
   "cell_type": "code",
   "execution_count": null,
   "metadata": {
    "scrolled": false
   },
   "outputs": [],
   "source": [
    "#DB connection\n",
    "db_connection = sql.connect(host='localhost', port=3306, database='acb', user='root', password='root')\n",
    "df_aux = pd.read_sql('SELECT * FROM game where game.season >= {}'.format(from_year), con=db_connection)\n",
    "\n",
    "# cols to keep for df_games\n",
    "cols_to_keep = ['team_home_id', 'team_away_id', 'season', 'journey', 'kickoff_time',\n",
    "                'score_home', 'score_away', 'referee_1']\n",
    "cols_to_del = [c for c in df_aux.columns if c not in cols_to_keep]\n",
    "df_aux.drop(cols_to_del, axis=1, inplace=True)\n",
    "\n",
    "# generate the variables from historical games\n",
    "df_predict = calculate_variables_last_X_predict(next_journey_matches_df, df_aux, streak_days_long)\n",
    "df_predict = calculate_variables_last_X_predict(df_predict, df_aux, streak_days_short)\n",
    "\n",
    "# select the columns and predict\n",
    "cols_to_use = X_train.columns\n",
    "print(cols_to_use)\n",
    "df_predict = df_predict[cols_to_use]\n",
    "preds = model.predict(df_predict)\n",
    "print(preds)\n",
    "\n",
    "# Estimating an interval\n",
    "preds_estimators = {}\n",
    "for i in range(len(model.estimators_)):\n",
    "    e = model.estimators_[i]\n",
    "    preds_estimators[\"Est\" + str(i).zfill(2)] = e.predict(df_predict)\n",
    "df_preds_estimators = pd.DataFrame(data=preds_estimators)\n",
    "#print(df_preds_estimators.transpose())\n",
    "\n",
    "# Plotting the intervals and the predicted value\n",
    "axes = df_preds_estimators.transpose().plot.box(figsize=(20, 20), positions=range(0,len(df_predict)), showfliers=True,\n",
    "                                                flierprops=dict(marker='+', color='lightblue'),\n",
    "                                                color={'whiskers': 'lightblue', 'caps': 'lightblue',\n",
    "                                                       'medians': 'lightblue', 'boxes': 'lightblue'})\n",
    "axes.plot(preds, color='red', marker='o', linestyle=' ')\n",
    "axes.set_title(\"Predictions of the score difference for each tree and game (including final pred)\")\n",
    "axes.set_xlabel(\"Game\")\n",
    "axes.set_ylabel(\"Score difference\")\n",
    "axes.legend([Line2D([0], [0], color='lightblue', marker='o', linestyle=' '),\n",
    "             Line2D([0], [0], color='red', marker='o', linestyle=' ')], ['Interval', 'Final'])\n",
    "plt.show()"
   ]
  },
  {
   "cell_type": "markdown",
   "metadata": {},
   "source": [
    "## Predict Copa"
   ]
  },
  {
   "cell_type": "markdown",
   "metadata": {},
   "source": [
    "CUARTOS"
   ]
  },
  {
   "cell_type": "code",
   "execution_count": 14,
   "metadata": {},
   "outputs": [
    {
     "data": {
      "text/html": [
       "<div>\n",
       "<style scoped>\n",
       "    .dataframe tbody tr th:only-of-type {\n",
       "        vertical-align: middle;\n",
       "    }\n",
       "\n",
       "    .dataframe tbody tr th {\n",
       "        vertical-align: top;\n",
       "    }\n",
       "\n",
       "    .dataframe thead th {\n",
       "        text-align: right;\n",
       "    }\n",
       "</style>\n",
       "<table border=\"1\" class=\"dataframe\">\n",
       "  <thead>\n",
       "    <tr style=\"text-align: right;\">\n",
       "      <th></th>\n",
       "      <th>team_home_id</th>\n",
       "      <th>team_away_id</th>\n",
       "      <th>season</th>\n",
       "      <th>kickoff_time</th>\n",
       "      <th>journey</th>\n",
       "    </tr>\n",
       "  </thead>\n",
       "  <tbody>\n",
       "    <tr>\n",
       "      <th>0</th>\n",
       "      <td>9</td>\n",
       "      <td>3</td>\n",
       "      <td>2018</td>\n",
       "      <td>2019-02-12 12:00:00</td>\n",
       "      <td>21</td>\n",
       "    </tr>\n",
       "    <tr>\n",
       "      <th>1</th>\n",
       "      <td>2</td>\n",
       "      <td>18</td>\n",
       "      <td>2018</td>\n",
       "      <td>2019-02-12 12:00:00</td>\n",
       "      <td>21</td>\n",
       "    </tr>\n",
       "    <tr>\n",
       "      <th>2</th>\n",
       "      <td>6</td>\n",
       "      <td>10</td>\n",
       "      <td>2018</td>\n",
       "      <td>2019-02-12 12:00:00</td>\n",
       "      <td>21</td>\n",
       "    </tr>\n",
       "    <tr>\n",
       "      <th>3</th>\n",
       "      <td>1</td>\n",
       "      <td>7</td>\n",
       "      <td>2018</td>\n",
       "      <td>2019-02-12 12:00:00</td>\n",
       "      <td>21</td>\n",
       "    </tr>\n",
       "  </tbody>\n",
       "</table>\n",
       "</div>"
      ],
      "text/plain": [
       "   team_home_id  team_away_id  season        kickoff_time  journey\n",
       "0             9             3    2018 2019-02-12 12:00:00       21\n",
       "1             2            18    2018 2019-02-12 12:00:00       21\n",
       "2             6            10    2018 2019-02-12 12:00:00       21\n",
       "3             1             7    2018 2019-02-12 12:00:00       21"
      ]
     },
     "execution_count": 14,
     "metadata": {},
     "output_type": "execute_result"
    }
   ],
   "source": [
    "d = {'team_home_id': [9, 2, 6, 1], 'team_away_id': [3, 18, 10, 7], 'season': 4*[2018], 'kickoff_time' : 4*[pd.Timestamp(year=2019, month=2, day=12, hour=12)], 'journey' : 4*[21]}\n",
    "df_copa = pd.DataFrame(data=d)\n",
    "df_copa"
   ]
  },
  {
   "cell_type": "code",
   "execution_count": 15,
   "metadata": {
    "scrolled": false
   },
   "outputs": [
    {
     "name": "stderr",
     "output_type": "stream",
     "text": [
      "4it [00:00, 65.02it/s]\n",
      "4it [00:00, 81.58it/s]\n"
     ]
    },
    {
     "name": "stdout",
     "output_type": "stream",
     "text": [
      "Index(['team_home_id', 'team_away_id', 'win_rate_home_last100',\n",
      "       'score_diff_avg_home_last100', 'win_rate_away_last100',\n",
      "       'score_diff_avg_away_last100', 'win_rate_home_last20',\n",
      "       'score_diff_avg_home_last20', 'win_rate_away_last20',\n",
      "       'score_diff_avg_away_last20'],\n",
      "      dtype='object')\n",
      "[-4.82040986  7.84203027  7.87832137 21.51497773]\n"
     ]
    },
    {
     "data": {
      "image/png": "[encoded data removed]",
      "text/plain": [
       "<Figure size 1440x1440 with 1 Axes>"
      ]
     },
     "metadata": {
      "needs_background": "light"
     },
     "output_type": "display_data"
    },
    {
     "name": "stderr",
     "output_type": "stream",
     "text": [
      "4it [00:00, 78.37it/s]\n",
      "4it [00:00, 75.65it/s]"
     ]
    },
    {
     "name": "stdout",
     "output_type": "stream",
     "text": [
      "0    0.2896\n",
      "1    0.6905\n",
      "2    0.7468\n",
      "3    0.9657\n",
      "dtype: float64\n",
      "Index(['team_home_id', 'team_away_id', 'win_rate_home_last100',\n",
      "       'score_diff_avg_home_last100', 'win_rate_away_last100',\n",
      "       'score_diff_avg_away_last100', 'win_rate_home_last20',\n",
      "       'score_diff_avg_home_last20', 'win_rate_away_last20',\n",
      "       'score_diff_avg_away_last20'],\n",
      "      dtype='object')\n"
     ]
    },
    {
     "name": "stderr",
     "output_type": "stream",
     "text": [
      "\n"
     ]
    },
    {
     "name": "stdout",
     "output_type": "stream",
     "text": [
      "[-4.71187373  7.68298565  7.87233982 21.0361146 ]\n"
     ]
    },
    {
     "data": {
      "image/png": "[encoded data removed]",
      "text/plain": [
       "<Figure size 1440x1440 with 1 Axes>"
      ]
     },
     "metadata": {
      "needs_background": "light"
     },
     "output_type": "display_data"
    },
    {
     "name": "stdout",
     "output_type": "stream",
     "text": [
      "0    0.2952\n",
      "1    0.6920\n",
      "2    0.7380\n",
      "3    0.9642\n",
      "dtype: float64\n",
      "(4, 20000)\n"
     ]
    },
    {
     "data": {
      "image/png": "[encoded data removed]",
      "text/plain": [
       "<Figure size 1440x1440 with 1 Axes>"
      ]
     },
     "metadata": {
      "needs_background": "light"
     },
     "output_type": "display_data"
    },
    {
     "name": "stdout",
     "output_type": "stream",
     "text": [
      "0    0.29240\n",
      "1    0.69125\n",
      "2    0.74240\n",
      "3    0.96495\n",
      "dtype: float64\n"
     ]
    }
   ],
   "source": [
    "#DB connection\n",
    "db_connection = sql.connect(host='localhost', port=3306, database='acb', user='root', password='root')\n",
    "df_aux = pd.read_sql('SELECT * FROM game where game.season >= {}'.format(from_year), con=db_connection)\n",
    "\n",
    "# cols to keep for df_games\n",
    "cols_to_keep = ['team_home_id', 'team_away_id', 'season', 'journey', 'kickoff_time',\n",
    "                'score_home', 'score_away', 'referee_1']\n",
    "cols_to_del = [c for c in df_aux.columns if c not in cols_to_keep]\n",
    "df_aux.drop(cols_to_del, axis=1, inplace=True)\n",
    "\n",
    "# generate the variables from historical games\n",
    "df_predict = calculate_variables_last_X_predict(df_copa.copy(), df_aux, streak_days_long)\n",
    "df_predict = calculate_variables_last_X_predict(df_predict, df_aux, streak_days_short)\n",
    "\n",
    "# select the columns and predict\n",
    "cols_to_use = X_train.columns\n",
    "print(cols_to_use)\n",
    "df_predict = df_predict[cols_to_use]\n",
    "preds1 = model.predict(df_predict)\n",
    "print(preds1)\n",
    "\n",
    "# Estimating an interval\n",
    "preds_estimators = {}\n",
    "for i in range(len(model.estimators_)):\n",
    "    e = model.estimators_[i]\n",
    "    preds_estimators[\"Est\" + str(i).zfill(2)] = e.predict(df_predict)\n",
    "df_preds_estimators1 = pd.DataFrame(data=preds_estimators)\n",
    "\n",
    "# Plotting the intervals and the predicted value\n",
    "axes = df_preds_estimators1.transpose().plot.box(figsize=(20, 20), positions=range(0,len(df_predict)), showfliers=True,\n",
    "                                                flierprops=dict(marker='+', color='lightblue'),\n",
    "                                                color={'whiskers': 'lightblue', 'caps': 'lightblue',\n",
    "                                                       'medians': 'lightblue', 'boxes': 'lightblue'})\n",
    "axes.plot(preds1, color='red', marker='o', linestyle=' ')\n",
    "axes.set_title(\"Predictions of the score difference for each tree and game (including final pred)\")\n",
    "axes.set_xlabel(\"Game\")\n",
    "axes.set_ylabel(\"Score difference\")\n",
    "axes.legend([Line2D([0], [0], color='lightblue', marker='o', linestyle=' '),\n",
    "             Line2D([0], [0], color='red', marker='o', linestyle=' '),], ['Interval', 'Final'])\n",
    "plt.show()\n",
    "\n",
    "#print(df_preds_estimators)\n",
    "prob1 = df_preds_estimators1.apply(lambda x: np.mean([1 if x[c]>0 else 0 for c in df_preds_estimators1.columns]), axis=1)\n",
    "prob2 = df_preds_estimators1.apply(lambda x: np.mean([1 if x[c]<0 else 0 for c in df_preds_estimators1.columns]), axis=1)\n",
    "print(prob1)\n",
    "\n",
    "\n",
    "\n",
    "# changing home and away\n",
    "df_predict = df_copa.copy()\n",
    "df_predict[\"team_home_id\"] = df_copa[\"team_away_id\"]\n",
    "df_predict[\"team_away_id\"] = df_copa[\"team_home_id\"]\n",
    "# generate the variables from historical games\n",
    "df_predict = calculate_variables_last_X_predict(df_predict, df_aux, streak_days_long)\n",
    "df_predict = calculate_variables_last_X_predict(df_predict, df_aux, streak_days_short)\n",
    "\n",
    "# select the columns and predict\n",
    "cols_to_use = X_train.columns\n",
    "print(cols_to_use)\n",
    "df_predict = df_predict[cols_to_use]\n",
    "preds2 = -model.predict(df_predict)\n",
    "print(preds2)\n",
    "\n",
    "# Estimating an interval\n",
    "preds_estimators = {}\n",
    "for i in range(len(model.estimators_)):\n",
    "    e = model.estimators_[i]\n",
    "    preds_estimators[\"Est\" + str(i).zfill(2)] = -e.predict(df_predict)\n",
    "df_preds_estimators2 = pd.DataFrame(data=preds_estimators)\n",
    "\n",
    "# Plotting the intervals and the predicted value\n",
    "axes = df_preds_estimators2.transpose().plot.box(figsize=(20, 20), positions=range(0,len(df_predict)), showfliers=True,\n",
    "                                                flierprops=dict(marker='+', color='lightblue'),\n",
    "                                                color={'whiskers': 'lightblue', 'caps': 'lightblue',\n",
    "                                                       'medians': 'lightblue', 'boxes': 'lightblue'})\n",
    "axes.plot(preds2, color='red', marker='o', linestyle=' ')\n",
    "axes.set_title(\"Predictions of the score difference for each tree and game (including final pred)\")\n",
    "axes.set_xlabel(\"Game\")\n",
    "axes.set_ylabel(\"Score difference\")\n",
    "axes.legend([Line2D([0], [0], color='lightblue', marker='o', linestyle=' '),\n",
    "             Line2D([0], [0], color='red', marker='o', linestyle=' '),], ['Interval', 'Final'])\n",
    "plt.show()\n",
    "\n",
    "prob1 = df_preds_estimators2.apply(lambda x: np.mean([1 if x[c]>0 else 0 for c in df_preds_estimators2.columns]), axis=1)\n",
    "prob2 = df_preds_estimators2.apply(lambda x: np.mean([1 if x[c]<0 else 0 for c in df_preds_estimators2.columns]), axis=1)\n",
    "print(prob1)\n",
    "\n",
    "\n",
    "\n",
    "df_preds_estimators = df_preds_estimators1.merge(df_preds_estimators2, left_index = True, right_index= True)\n",
    "print(df_preds_estimators.shape)\n",
    "\n",
    "# Plotting the intervals and the predicted value\n",
    "axes = df_preds_estimators.transpose().plot.box(figsize=(20, 20), positions=range(0,len(df_predict)), showfliers=True,\n",
    "                                                flierprops=dict(marker='+', color='lightblue'),\n",
    "                                                color={'whiskers': 'lightblue', 'caps': 'lightblue',\n",
    "                                                       'medians': 'lightblue', 'boxes': 'lightblue'})\n",
    "axes.plot(preds1, color='red', marker='o', linestyle=' ')\n",
    "axes.plot(preds2, color='green', marker='o', linestyle=' ')\n",
    "axes.set_title(\"Predictions of the score difference for each tree and game (including final pred)\")\n",
    "axes.set_xlabel(\"Game\")\n",
    "axes.set_ylabel(\"Score difference\")\n",
    "axes.legend([Line2D([0], [0], color='lightblue', marker='o', linestyle=' '),\n",
    "             Line2D([0], [0], color='red', marker='o', linestyle=' '),\n",
    "             Line2D([0], [0], color='green', marker='o', linestyle=' ')], ['Interval', 'When home', 'When away'])\n",
    "plt.show()\n",
    "\n",
    "#print(df_preds_estimators)\n",
    "prob1 = df_preds_estimators.apply(lambda x: np.mean([1 if x[c]>0 else 0 for c in df_preds_estimators.columns]), axis=1)\n",
    "prob2 = df_preds_estimators.apply(lambda x: np.mean([1 if x[c]<0 else 0 for c in df_preds_estimators.columns]), axis=1)\n",
    "print(prob1)"
   ]
  },
  {
   "cell_type": "code",
   "execution_count": 16,
   "metadata": {},
   "outputs": [
    {
     "name": "stdout",
     "output_type": "stream",
     "text": [
      "Prob of being in the interval Inf to -31: 0.42%\n",
      "Prob of being in the interval -30 to -16: 23.080000000000002%\n",
      "Prob of being in the interval -15 to -6: 35.83%\n",
      "Prob of being in the interval -5 to -1: 11.225%\n",
      "Prob of being in the interval 0 to 0: 0.005%\n",
      "Prob of being in the interval 1 to 5: 6.2%\n",
      "Prob of being in the interval 6 to 15: 12.21%\n",
      "Prob of being in the interval 16 to 30: 10.325%\n",
      "Prob of being in the interval 31 to Inf: 0.475%\n"
     ]
    }
   ],
   "source": [
    "# Analyze the interval\n",
    "preds_interval = df_preds_estimators.iloc[0]\n",
    "inits_intervals=[1, 6, 16, 31]\n",
    "inits_intervals =  [-i for i in inits_intervals[::-1]] + inits_intervals\n",
    "\n",
    "prev = inits_intervals[0]\n",
    "aux = [1 if sd <=(prev+0.001) else 0 for sd in preds_interval]\n",
    "print(\"Prob of being in the interval Inf to {}: {}%\".format(prev, np.mean(aux)*100))\n",
    "#print(\"Estimated fair bet ratio for the interval Inf to {}: {}\".format(prev, 1/np.mean(aux)))\n",
    "\n",
    "for i in range(1, len(inits_intervals)):\n",
    "    prev = inits_intervals[i-1] if inits_intervals[i-1]>0 else inits_intervals[i-1]+1\n",
    "    end = inits_intervals[i]-1 if inits_intervals[i]>0 else inits_intervals[i]\n",
    "    aux = [1 if sd >=(prev-0.001) and sd<(end+0.001) else 0 for sd in preds_interval]\n",
    "    print(\"Prob of being in the interval {} to {}: {}%\".format(prev, end, np.mean(aux)*100))\n",
    "    #print(\"Estimated fair bet ratio for the interval {} to {}: {}\".format(prev, end, 1/np.mean(aux)))\n",
    "\n",
    "prev = inits_intervals[-1]\n",
    "aux = [1 if sd >=(prev-0.001) else 0 for sd in preds_interval]\n",
    "print(\"Prob of being in the interval {} to Inf: {}%\".format(prev, np.mean(aux)*100))\n",
    "#print(\"Estimated fair bet ratio for the interval {} to Inf: {}\".format(prev, 1/np.mean(aux)))"
   ]
  },
  {
   "cell_type": "markdown",
   "metadata": {
    "collapsed": true
   },
   "source": [
    "SEMIS"
   ]
  },
  {
   "cell_type": "code",
   "execution_count": 17,
   "metadata": {},
   "outputs": [
    {
     "data": {
      "text/html": [
       "<div>\n",
       "<style scoped>\n",
       "    .dataframe tbody tr th:only-of-type {\n",
       "        vertical-align: middle;\n",
       "    }\n",
       "\n",
       "    .dataframe tbody tr th {\n",
       "        vertical-align: top;\n",
       "    }\n",
       "\n",
       "    .dataframe thead th {\n",
       "        text-align: right;\n",
       "    }\n",
       "</style>\n",
       "<table border=\"1\" class=\"dataframe\">\n",
       "  <thead>\n",
       "    <tr style=\"text-align: right;\">\n",
       "      <th></th>\n",
       "      <th>team_home_id</th>\n",
       "      <th>team_away_id</th>\n",
       "      <th>season</th>\n",
       "      <th>kickoff_time</th>\n",
       "      <th>journey</th>\n",
       "    </tr>\n",
       "  </thead>\n",
       "  <tbody>\n",
       "    <tr>\n",
       "      <th>0</th>\n",
       "      <td>3</td>\n",
       "      <td>2</td>\n",
       "      <td>2018</td>\n",
       "      <td>2019-02-12 12:00:00</td>\n",
       "      <td>21</td>\n",
       "    </tr>\n",
       "    <tr>\n",
       "      <th>1</th>\n",
       "      <td>6</td>\n",
       "      <td>1</td>\n",
       "      <td>2018</td>\n",
       "      <td>2019-02-12 12:00:00</td>\n",
       "      <td>21</td>\n",
       "    </tr>\n",
       "  </tbody>\n",
       "</table>\n",
       "</div>"
      ],
      "text/plain": [
       "   team_home_id  team_away_id  season        kickoff_time  journey\n",
       "0             3             2    2018 2019-02-12 12:00:00       21\n",
       "1             6             1    2018 2019-02-12 12:00:00       21"
      ]
     },
     "execution_count": 17,
     "metadata": {},
     "output_type": "execute_result"
    }
   ],
   "source": [
    "d = {'team_home_id': [3,6], 'team_away_id': [2,1], 'season': 2*[2018], 'kickoff_time' : 2*[pd.Timestamp(year=2019, month=2, day=12, hour=12)], 'journey' : 2*[21]}\n",
    "df_copa = pd.DataFrame(data=d)\n",
    "df_copa"
   ]
  },
  {
   "cell_type": "code",
   "execution_count": 18,
   "metadata": {},
   "outputs": [
    {
     "name": "stderr",
     "output_type": "stream",
     "text": [
      "2it [00:00, 71.90it/s]\n",
      "2it [00:00, 64.01it/s]\n"
     ]
    },
    {
     "name": "stdout",
     "output_type": "stream",
     "text": [
      "Index(['team_home_id', 'team_away_id', 'win_rate_home_last100',\n",
      "       'score_diff_avg_home_last100', 'win_rate_away_last100',\n",
      "       'score_diff_avg_away_last100', 'win_rate_home_last20',\n",
      "       'score_diff_avg_home_last20', 'win_rate_away_last20',\n",
      "       'score_diff_avg_away_last20'],\n",
      "      dtype='object')\n",
      "[-9.07379248  0.56007838]\n"
     ]
    },
    {
     "data": {
      "image/png": "[encoded data removed]",
      "text/plain": [
       "<Figure size 1440x1440 with 1 Axes>"
      ]
     },
     "metadata": {
      "needs_background": "light"
     },
     "output_type": "display_data"
    },
    {
     "name": "stderr",
     "output_type": "stream",
     "text": [
      "2it [00:00, 81.91it/s]\n",
      "2it [00:00, 67.09it/s]"
     ]
    },
    {
     "name": "stdout",
     "output_type": "stream",
     "text": [
      "0    0.2812\n",
      "1    0.5099\n",
      "dtype: float64\n",
      "Index(['team_home_id', 'team_away_id', 'win_rate_home_last100',\n",
      "       'score_diff_avg_home_last100', 'win_rate_away_last100',\n",
      "       'score_diff_avg_away_last100', 'win_rate_home_last20',\n",
      "       'score_diff_avg_home_last20', 'win_rate_away_last20',\n",
      "       'score_diff_avg_away_last20'],\n",
      "      dtype='object')\n"
     ]
    },
    {
     "name": "stderr",
     "output_type": "stream",
     "text": [
      "\n"
     ]
    },
    {
     "name": "stdout",
     "output_type": "stream",
     "text": [
      "[-9.0901715   0.53086399]\n"
     ]
    },
    {
     "data": {
      "image/png": "[encoded data removed]",
      "text/plain": [
       "<Figure size 1440x1440 with 1 Axes>"
      ]
     },
     "metadata": {
      "needs_background": "light"
     },
     "output_type": "display_data"
    },
    {
     "name": "stdout",
     "output_type": "stream",
     "text": [
      "0    0.2733\n",
      "1    0.5150\n",
      "dtype: float64\n",
      "(2, 20000)\n"
     ]
    },
    {
     "data": {
      "image/png": "[encoded data removed]",
      "text/plain": [
       "<Figure size 1440x1440 with 1 Axes>"
      ]
     },
     "metadata": {
      "needs_background": "light"
     },
     "output_type": "display_data"
    },
    {
     "name": "stdout",
     "output_type": "stream",
     "text": [
      "0    0.27725\n",
      "1    0.51245\n",
      "dtype: float64\n"
     ]
    }
   ],
   "source": [
    "#DB connection\n",
    "db_connection = sql.connect(host='localhost', port=3306, database='acb', user='root', password='root')\n",
    "df_aux = pd.read_sql('SELECT * FROM game where game.season >= {}'.format(from_year), con=db_connection)\n",
    "\n",
    "# cols to keep for df_games\n",
    "cols_to_keep = ['team_home_id', 'team_away_id', 'season', 'journey', 'kickoff_time',\n",
    "                'score_home', 'score_away', 'referee_1']\n",
    "cols_to_del = [c for c in df_aux.columns if c not in cols_to_keep]\n",
    "df_aux.drop(cols_to_del, axis=1, inplace=True)\n",
    "\n",
    "# generate the variables from historical games\n",
    "df_predict = calculate_variables_last_X_predict(df_copa.copy(), df_aux, streak_days_long)\n",
    "df_predict = calculate_variables_last_X_predict(df_predict, df_aux, streak_days_short)\n",
    "\n",
    "# select the columns and predict\n",
    "cols_to_use = X_train.columns\n",
    "print(cols_to_use)\n",
    "df_predict = df_predict[cols_to_use]\n",
    "preds1 = model.predict(df_predict)\n",
    "print(preds1)\n",
    "\n",
    "# Estimating an interval\n",
    "preds_estimators = {}\n",
    "for i in range(len(model.estimators_)):\n",
    "    e = model.estimators_[i]\n",
    "    preds_estimators[\"Est\" + str(i).zfill(2)] = e.predict(df_predict)\n",
    "df_preds_estimators1 = pd.DataFrame(data=preds_estimators)\n",
    "\n",
    "# Plotting the intervals and the predicted value\n",
    "axes = df_preds_estimators1.transpose().plot.box(figsize=(20, 20), positions=range(0,len(df_predict)), showfliers=True,\n",
    "                                                flierprops=dict(marker='+', color='lightblue'),\n",
    "                                                color={'whiskers': 'lightblue', 'caps': 'lightblue',\n",
    "                                                       'medians': 'lightblue', 'boxes': 'lightblue'})\n",
    "axes.plot(preds1, color='red', marker='o', linestyle=' ')\n",
    "axes.set_title(\"Predictions of the score difference for each tree and game (including final pred)\")\n",
    "axes.set_xlabel(\"Game\")\n",
    "axes.set_ylabel(\"Score difference\")\n",
    "axes.legend([Line2D([0], [0], color='lightblue', marker='o', linestyle=' '),\n",
    "             Line2D([0], [0], color='red', marker='o', linestyle=' '),], ['Interval', 'Final'])\n",
    "plt.show()\n",
    "\n",
    "#print(df_preds_estimators)\n",
    "prob1 = df_preds_estimators1.apply(lambda x: np.mean([1 if x[c]>0 else 0 for c in df_preds_estimators1.columns]), axis=1)\n",
    "prob2 = df_preds_estimators1.apply(lambda x: np.mean([1 if x[c]<0 else 0 for c in df_preds_estimators1.columns]), axis=1)\n",
    "print(prob1)\n",
    "\n",
    "\n",
    "\n",
    "# changing home and away\n",
    "df_predict = df_copa.copy()\n",
    "df_predict[\"team_home_id\"] = df_copa[\"team_away_id\"]\n",
    "df_predict[\"team_away_id\"] = df_copa[\"team_home_id\"]\n",
    "# generate the variables from historical games\n",
    "df_predict = calculate_variables_last_X_predict(df_predict, df_aux, streak_days_long)\n",
    "df_predict = calculate_variables_last_X_predict(df_predict, df_aux, streak_days_short)\n",
    "\n",
    "# select the columns and predict\n",
    "cols_to_use = X_train.columns\n",
    "print(cols_to_use)\n",
    "df_predict = df_predict[cols_to_use]\n",
    "preds2 = -model.predict(df_predict)\n",
    "print(preds2)\n",
    "\n",
    "# Estimating an interval\n",
    "preds_estimators = {}\n",
    "for i in range(len(model.estimators_)):\n",
    "    e = model.estimators_[i]\n",
    "    preds_estimators[\"Est\" + str(i).zfill(2)] = -e.predict(df_predict)\n",
    "df_preds_estimators2 = pd.DataFrame(data=preds_estimators)\n",
    "\n",
    "# Plotting the intervals and the predicted value\n",
    "axes = df_preds_estimators2.transpose().plot.box(figsize=(20, 20), positions=range(0,len(df_predict)), showfliers=True,\n",
    "                                                flierprops=dict(marker='+', color='lightblue'),\n",
    "                                                color={'whiskers': 'lightblue', 'caps': 'lightblue',\n",
    "                                                       'medians': 'lightblue', 'boxes': 'lightblue'})\n",
    "axes.plot(preds2, color='red', marker='o', linestyle=' ')\n",
    "axes.set_title(\"Predictions of the score difference for each tree and game (including final pred)\")\n",
    "axes.set_xlabel(\"Game\")\n",
    "axes.set_ylabel(\"Score difference\")\n",
    "axes.legend([Line2D([0], [0], color='lightblue', marker='o', linestyle=' '),\n",
    "             Line2D([0], [0], color='red', marker='o', linestyle=' '),], ['Interval', 'Final'])\n",
    "plt.show()\n",
    "\n",
    "prob1 = df_preds_estimators2.apply(lambda x: np.mean([1 if x[c]>0 else 0 for c in df_preds_estimators2.columns]), axis=1)\n",
    "prob2 = df_preds_estimators2.apply(lambda x: np.mean([1 if x[c]<0 else 0 for c in df_preds_estimators2.columns]), axis=1)\n",
    "print(prob1)\n",
    "\n",
    "\n",
    "\n",
    "df_preds_estimators = df_preds_estimators1.merge(df_preds_estimators2, left_index = True, right_index= True)\n",
    "print(df_preds_estimators.shape)\n",
    "\n",
    "# Plotting the intervals and the predicted value\n",
    "axes = df_preds_estimators.transpose().plot.box(figsize=(20, 20), positions=range(0,len(df_predict)), showfliers=True,\n",
    "                                                flierprops=dict(marker='+', color='lightblue'),\n",
    "                                                color={'whiskers': 'lightblue', 'caps': 'lightblue',\n",
    "                                                       'medians': 'lightblue', 'boxes': 'lightblue'})\n",
    "axes.plot(preds1, color='red', marker='o', linestyle=' ')\n",
    "axes.plot(preds2, color='green', marker='o', linestyle=' ')\n",
    "axes.set_title(\"Predictions of the score difference for each tree and game (including final pred)\")\n",
    "axes.set_xlabel(\"Game\")\n",
    "axes.set_ylabel(\"Score difference\")\n",
    "axes.legend([Line2D([0], [0], color='lightblue', marker='o', linestyle=' '),\n",
    "             Line2D([0], [0], color='red', marker='o', linestyle=' '),\n",
    "             Line2D([0], [0], color='green', marker='o', linestyle=' ')], ['Interval', 'When home', 'When away'])\n",
    "plt.show()\n",
    "\n",
    "#print(df_preds_estimators)\n",
    "prob1 = df_preds_estimators.apply(lambda x: np.mean([1 if x[c]>0 else 0 for c in df_preds_estimators.columns]), axis=1)\n",
    "prob2 = df_preds_estimators.apply(lambda x: np.mean([1 if x[c]<0 else 0 for c in df_preds_estimators.columns]), axis=1)\n",
    "print(prob1)"
   ]
  },
  {
   "cell_type": "code",
   "execution_count": 19,
   "metadata": {},
   "outputs": [
    {
     "name": "stdout",
     "output_type": "stream",
     "text": [
      "Prob of being in the interval Inf to -31: 0.155%\n",
      "Prob of being in the interval -30 to -16: 13.995%\n",
      "Prob of being in the interval -15 to -6: 18.715%\n",
      "Prob of being in the interval -5 to -1: 15.834999999999999%\n",
      "Prob of being in the interval 0 to 0: 0.005%\n",
      "Prob of being in the interval 1 to 5: 13.719999999999999%\n",
      "Prob of being in the interval 6 to 15: 19.009999999999998%\n",
      "Prob of being in the interval 16 to 30: 18.365000000000002%\n",
      "Prob of being in the interval 31 to Inf: 0.095%\n"
     ]
    }
   ],
   "source": [
    "# Analyze the interva\n",
    "preds_interval = df_preds_estimators.iloc[1]\n",
    "inits_intervals=[1, 6, 16, 31]\n",
    "inits_intervals =  [-i for i in inits_intervals[::-1]] + inits_intervals\n",
    "\n",
    "prev = inits_intervals[0]\n",
    "aux = [1 if sd <=(prev+0.001) else 0 for sd in preds_interval]\n",
    "print(\"Prob of being in the interval Inf to {}: {}%\".format(prev, np.mean(aux)*100))\n",
    "#print(\"Estimated fair bet ratio for the interval Inf to {}: {}\".format(prev, 1/np.mean(aux)))\n",
    "\n",
    "for i in range(1, len(inits_intervals)):\n",
    "    prev = inits_intervals[i-1] if inits_intervals[i-1]>0 else inits_intervals[i-1]+1\n",
    "    end = inits_intervals[i]-1 if inits_intervals[i]>0 else inits_intervals[i]\n",
    "    aux = [1 if sd >=(prev-0.001) and sd<(end+0.001) else 0 for sd in preds_interval]\n",
    "    print(\"Prob of being in the interval {} to {}: {}%\".format(prev, end, np.mean(aux)*100))\n",
    "    #print(\"Estimated fair bet ratio for the interval {} to {}: {}\".format(prev, end, 1/np.mean(aux)))\n",
    "\n",
    "prev = inits_intervals[-1]\n",
    "aux = [1 if sd >=(prev-0.001) else 0 for sd in preds_interval]\n",
    "print(\"Prob of being in the interval {} to Inf: {}%\".format(prev, np.mean(aux)*100))\n",
    "#print(\"Estimated fair bet ratio for the interval {} to Inf: {}\".format(prev, 1/np.mean(aux)))"
   ]
  },
  {
   "cell_type": "markdown",
   "metadata": {},
   "source": [
    "FINAL"
   ]
  },
  {
   "cell_type": "code",
   "execution_count": 20,
   "metadata": {},
   "outputs": [
    {
     "data": {
      "text/html": [
       "<div>\n",
       "<style scoped>\n",
       "    .dataframe tbody tr th:only-of-type {\n",
       "        vertical-align: middle;\n",
       "    }\n",
       "\n",
       "    .dataframe tbody tr th {\n",
       "        vertical-align: top;\n",
       "    }\n",
       "\n",
       "    .dataframe thead th {\n",
       "        text-align: right;\n",
       "    }\n",
       "</style>\n",
       "<table border=\"1\" class=\"dataframe\">\n",
       "  <thead>\n",
       "    <tr style=\"text-align: right;\">\n",
       "      <th></th>\n",
       "      <th>team_home_id</th>\n",
       "      <th>team_away_id</th>\n",
       "      <th>season</th>\n",
       "      <th>kickoff_time</th>\n",
       "      <th>journey</th>\n",
       "    </tr>\n",
       "  </thead>\n",
       "  <tbody>\n",
       "    <tr>\n",
       "      <th>0</th>\n",
       "      <td>2</td>\n",
       "      <td>1</td>\n",
       "      <td>2018</td>\n",
       "      <td>2019-02-12 12:00:00</td>\n",
       "      <td>21</td>\n",
       "    </tr>\n",
       "    <tr>\n",
       "      <th>1</th>\n",
       "      <td>2</td>\n",
       "      <td>6</td>\n",
       "      <td>2018</td>\n",
       "      <td>2019-02-12 12:00:00</td>\n",
       "      <td>21</td>\n",
       "    </tr>\n",
       "  </tbody>\n",
       "</table>\n",
       "</div>"
      ],
      "text/plain": [
       "   team_home_id  team_away_id  season        kickoff_time  journey\n",
       "0             2             1    2018 2019-02-12 12:00:00       21\n",
       "1             2             6    2018 2019-02-12 12:00:00       21"
      ]
     },
     "execution_count": 20,
     "metadata": {},
     "output_type": "execute_result"
    }
   ],
   "source": [
    "d = {'team_home_id': [2,2], 'team_away_id': [1,6], 'season': 2*[2018], 'kickoff_time' : 2*[pd.Timestamp(year=2019, month=2, day=12, hour=12)], 'journey' : 2*[21]}\n",
    "df_copa = pd.DataFrame(data=d)\n",
    "df_copa"
   ]
  },
  {
   "cell_type": "code",
   "execution_count": 21,
   "metadata": {
    "scrolled": false
   },
   "outputs": [
    {
     "name": "stderr",
     "output_type": "stream",
     "text": [
      "2it [00:00, 63.84it/s]\n",
      "2it [00:00, 58.14it/s]\n"
     ]
    },
    {
     "name": "stdout",
     "output_type": "stream",
     "text": [
      "Index(['team_home_id', 'team_away_id', 'win_rate_home_last100',\n",
      "       'score_diff_avg_home_last100', 'win_rate_away_last100',\n",
      "       'score_diff_avg_away_last100', 'win_rate_home_last20',\n",
      "       'score_diff_avg_home_last20', 'win_rate_away_last20',\n",
      "       'score_diff_avg_away_last20'],\n",
      "      dtype='object')\n",
      "[-0.8893827  -3.26799177]\n"
     ]
    },
    {
     "data": {
      "image/png": "[encoded data removed]",
      "text/plain": [
       "<Figure size 1440x1440 with 1 Axes>"
      ]
     },
     "metadata": {
      "needs_background": "light"
     },
     "output_type": "display_data"
    },
    {
     "name": "stderr",
     "output_type": "stream",
     "text": [
      "2it [00:00, 72.64it/s]\n",
      "2it [00:00, 51.65it/s]"
     ]
    },
    {
     "name": "stdout",
     "output_type": "stream",
     "text": [
      "0    0.4722\n",
      "1    0.4035\n",
      "dtype: float64\n",
      "Index(['team_home_id', 'team_away_id', 'win_rate_home_last100',\n",
      "       'score_diff_avg_home_last100', 'win_rate_away_last100',\n",
      "       'score_diff_avg_away_last100', 'win_rate_home_last20',\n",
      "       'score_diff_avg_home_last20', 'win_rate_away_last20',\n",
      "       'score_diff_avg_away_last20'],\n",
      "      dtype='object')\n"
     ]
    },
    {
     "name": "stderr",
     "output_type": "stream",
     "text": [
      "\n"
     ]
    },
    {
     "name": "stdout",
     "output_type": "stream",
     "text": [
      "[-1.12105318 -3.21255788]\n"
     ]
    },
    {
     "data": {
      "image/png": "[encoded data removed]",
      "text/plain": [
       "<Figure size 1440x1440 with 1 Axes>"
      ]
     },
     "metadata": {
      "needs_background": "light"
     },
     "output_type": "display_data"
    },
    {
     "name": "stdout",
     "output_type": "stream",
     "text": [
      "0    0.4649\n",
      "1    0.4014\n",
      "dtype: float64\n",
      "(2, 20000)\n"
     ]
    },
    {
     "data": {
      "image/png": "[encoded data removed]",
      "text/plain": [
       "<Figure size 1440x1440 with 1 Axes>"
      ]
     },
     "metadata": {
      "needs_background": "light"
     },
     "output_type": "display_data"
    },
    {
     "name": "stdout",
     "output_type": "stream",
     "text": [
      "0    0.46855\n",
      "1    0.40245\n",
      "dtype: float64\n"
     ]
    }
   ],
   "source": [
    "#DB connection\n",
    "db_connection = sql.connect(host='localhost', port=3306, database='acb', user='root', password='root')\n",
    "df_aux = pd.read_sql('SELECT * FROM game where game.season >= {}'.format(from_year), con=db_connection)\n",
    "\n",
    "# cols to keep for df_games\n",
    "cols_to_keep = ['team_home_id', 'team_away_id', 'season', 'journey', 'kickoff_time',\n",
    "                'score_home', 'score_away', 'referee_1']\n",
    "cols_to_del = [c for c in df_aux.columns if c not in cols_to_keep]\n",
    "df_aux.drop(cols_to_del, axis=1, inplace=True)\n",
    "\n",
    "# generate the variables from historical games\n",
    "df_predict = calculate_variables_last_X_predict(df_copa.copy(), df_aux, streak_days_long)\n",
    "df_predict = calculate_variables_last_X_predict(df_predict, df_aux, streak_days_short)\n",
    "\n",
    "# select the columns and predict\n",
    "cols_to_use = X_train.columns\n",
    "print(cols_to_use)\n",
    "df_predict = df_predict[cols_to_use]\n",
    "preds1 = model.predict(df_predict)\n",
    "print(preds1)\n",
    "\n",
    "# Estimating an interval\n",
    "preds_estimators = {}\n",
    "for i in range(len(model.estimators_)):\n",
    "    e = model.estimators_[i]\n",
    "    preds_estimators[\"Est\" + str(i).zfill(2)] = e.predict(df_predict)\n",
    "df_preds_estimators1 = pd.DataFrame(data=preds_estimators)\n",
    "\n",
    "# Plotting the intervals and the predicted value\n",
    "axes = df_preds_estimators1.transpose().plot.box(figsize=(20, 20), positions=range(0,len(df_predict)), showfliers=True,\n",
    "                                                flierprops=dict(marker='+', color='lightblue'),\n",
    "                                                color={'whiskers': 'lightblue', 'caps': 'lightblue',\n",
    "                                                       'medians': 'lightblue', 'boxes': 'lightblue'})\n",
    "axes.plot(preds1, color='red', marker='o', linestyle=' ')\n",
    "axes.set_title(\"Predictions of the score difference for each tree and game (including final pred)\")\n",
    "axes.set_xlabel(\"Game\")\n",
    "axes.set_ylabel(\"Score difference\")\n",
    "axes.legend([Line2D([0], [0], color='lightblue', marker='o', linestyle=' '),\n",
    "             Line2D([0], [0], color='red', marker='o', linestyle=' '),], ['Interval', 'Final'])\n",
    "plt.show()\n",
    "\n",
    "#print(df_preds_estimators)\n",
    "prob1 = df_preds_estimators1.apply(lambda x: np.mean([1 if x[c]>0 else 0 for c in df_preds_estimators1.columns]), axis=1)\n",
    "prob2 = df_preds_estimators1.apply(lambda x: np.mean([1 if x[c]<0 else 0 for c in df_preds_estimators1.columns]), axis=1)\n",
    "print(prob1)\n",
    "\n",
    "\n",
    "\n",
    "# changing home and away\n",
    "df_predict = df_copa.copy()\n",
    "df_predict[\"team_home_id\"] = df_copa[\"team_away_id\"]\n",
    "df_predict[\"team_away_id\"] = df_copa[\"team_home_id\"]\n",
    "# generate the variables from historical games\n",
    "df_predict = calculate_variables_last_X_predict(df_predict, df_aux, streak_days_long)\n",
    "df_predict = calculate_variables_last_X_predict(df_predict, df_aux, streak_days_short)\n",
    "\n",
    "# select the columns and predict\n",
    "cols_to_use = X_train.columns\n",
    "print(cols_to_use)\n",
    "df_predict = df_predict[cols_to_use]\n",
    "preds2 = -model.predict(df_predict)\n",
    "print(preds2)\n",
    "\n",
    "# Estimating an interval\n",
    "preds_estimators = {}\n",
    "for i in range(len(model.estimators_)):\n",
    "    e = model.estimators_[i]\n",
    "    preds_estimators[\"Est\" + str(i).zfill(2)] = -e.predict(df_predict)\n",
    "df_preds_estimators2 = pd.DataFrame(data=preds_estimators)\n",
    "\n",
    "# Plotting the intervals and the predicted value\n",
    "axes = df_preds_estimators2.transpose().plot.box(figsize=(20, 20), positions=range(0,len(df_predict)), showfliers=True,\n",
    "                                                flierprops=dict(marker='+', color='lightblue'),\n",
    "                                                color={'whiskers': 'lightblue', 'caps': 'lightblue',\n",
    "                                                       'medians': 'lightblue', 'boxes': 'lightblue'})\n",
    "axes.plot(preds2, color='red', marker='o', linestyle=' ')\n",
    "axes.set_title(\"Predictions of the score difference for each tree and game (including final pred)\")\n",
    "axes.set_xlabel(\"Game\")\n",
    "axes.set_ylabel(\"Score difference\")\n",
    "axes.legend([Line2D([0], [0], color='lightblue', marker='o', linestyle=' '),\n",
    "             Line2D([0], [0], color='red', marker='o', linestyle=' '),], ['Interval', 'Final'])\n",
    "plt.show()\n",
    "\n",
    "prob1 = df_preds_estimators2.apply(lambda x: np.mean([1 if x[c]>0 else 0 for c in df_preds_estimators2.columns]), axis=1)\n",
    "prob2 = df_preds_estimators2.apply(lambda x: np.mean([1 if x[c]<0 else 0 for c in df_preds_estimators2.columns]), axis=1)\n",
    "print(prob1)\n",
    "\n",
    "\n",
    "\n",
    "df_preds_estimators = df_preds_estimators1.merge(df_preds_estimators2, left_index = True, right_index= True)\n",
    "print(df_preds_estimators.shape)\n",
    "\n",
    "# Plotting the intervals and the predicted value\n",
    "axes = df_preds_estimators.transpose().plot.box(figsize=(20, 20), positions=range(0,len(df_predict)), showfliers=True,\n",
    "                                                flierprops=dict(marker='+', color='lightblue'),\n",
    "                                                color={'whiskers': 'lightblue', 'caps': 'lightblue',\n",
    "                                                       'medians': 'lightblue', 'boxes': 'lightblue'})\n",
    "axes.plot(preds1, color='red', marker='o', linestyle=' ')\n",
    "axes.plot(preds2, color='green', marker='o', linestyle=' ')\n",
    "axes.set_title(\"Predictions of the score difference for each tree and game (including final pred)\")\n",
    "axes.set_xlabel(\"Game\")\n",
    "axes.set_ylabel(\"Score difference\")\n",
    "axes.legend([Line2D([0], [0], color='lightblue', marker='o', linestyle=' '),\n",
    "             Line2D([0], [0], color='red', marker='o', linestyle=' '),\n",
    "             Line2D([0], [0], color='green', marker='o', linestyle=' ')], ['Interval', 'When home', 'When away'])\n",
    "plt.show()\n",
    "\n",
    "#print(df_preds_estimators)\n",
    "prob1 = df_preds_estimators.apply(lambda x: np.mean([1 if x[c]>0 else 0 for c in df_preds_estimators.columns]), axis=1)\n",
    "prob2 = df_preds_estimators.apply(lambda x: np.mean([1 if x[c]<0 else 0 for c in df_preds_estimators.columns]), axis=1)\n",
    "print(prob1)"
   ]
  },
  {
   "cell_type": "code",
   "execution_count": 22,
   "metadata": {},
   "outputs": [
    {
     "name": "stdout",
     "output_type": "stream",
     "text": [
      "Prob of being in the interval Inf to -31: 0.09%\n",
      "Prob of being in the interval -30 to -16: 29.18%\n",
      "Prob of being in the interval -15 to -6: 16.525000000000002%\n",
      "Prob of being in the interval -5 to -1: 13.900000000000002%\n",
      "Prob of being in the interval 0 to 0: 0.005%\n",
      "Prob of being in the interval 1 to 5: 14.249999999999998%\n",
      "Prob of being in the interval 6 to 15: 16.1%\n",
      "Prob of being in the interval 16 to 30: 8.765%\n",
      "Prob of being in the interval 31 to Inf: 1.06%\n"
     ]
    }
   ],
   "source": [
    "# Analyze the interva\n",
    "preds_interval = df_preds_estimators.iloc[1]\n",
    "inits_intervals=[1, 6, 16, 31]\n",
    "inits_intervals =  [-i for i in inits_intervals[::-1]] + inits_intervals\n",
    "\n",
    "prev = inits_intervals[0]\n",
    "aux = [1 if sd <=(prev+0.001) else 0 for sd in preds_interval]\n",
    "print(\"Prob of being in the interval Inf to {}: {}%\".format(prev, np.mean(aux)*100))\n",
    "#print(\"Estimated fair bet ratio for the interval Inf to {}: {}\".format(prev, 1/np.mean(aux)))\n",
    "\n",
    "for i in range(1, len(inits_intervals)):\n",
    "    prev = inits_intervals[i-1] if inits_intervals[i-1]>0 else inits_intervals[i-1]+1\n",
    "    end = inits_intervals[i]-1 if inits_intervals[i]>0 else inits_intervals[i]\n",
    "    aux = [1 if sd >=(prev-0.001) and sd<(end+0.001) else 0 for sd in preds_interval]\n",
    "    print(\"Prob of being in the interval {} to {}: {}%\".format(prev, end, np.mean(aux)*100))\n",
    "    #print(\"Estimated fair bet ratio for the interval {} to {}: {}\".format(prev, end, 1/np.mean(aux)))\n",
    "\n",
    "prev = inits_intervals[-1]\n",
    "aux = [1 if sd >=(prev-0.001) else 0 for sd in preds_interval]\n",
    "print(\"Prob of being in the interval {} to Inf: {}%\".format(prev, np.mean(aux)*100))\n",
    "#print(\"Estimated fair bet ratio for the interval {} to Inf: {}\".format(prev, 1/np.mean(aux)))"
   ]
  },
  {
   "cell_type": "markdown",
   "metadata": {},
   "source": [
    "WINNER"
   ]
  },
  {
   "cell_type": "code",
   "execution_count": 23,
   "metadata": {},
   "outputs": [
    {
     "data": {
      "text/html": [
       "<div>\n",
       "<style scoped>\n",
       "    .dataframe tbody tr th:only-of-type {\n",
       "        vertical-align: middle;\n",
       "    }\n",
       "\n",
       "    .dataframe tbody tr th {\n",
       "        vertical-align: top;\n",
       "    }\n",
       "\n",
       "    .dataframe thead th {\n",
       "        text-align: right;\n",
       "    }\n",
       "</style>\n",
       "<table border=\"1\" class=\"dataframe\">\n",
       "  <thead>\n",
       "    <tr style=\"text-align: right;\">\n",
       "      <th></th>\n",
       "      <th>team_home_id</th>\n",
       "      <th>team_away_id</th>\n",
       "      <th>season</th>\n",
       "      <th>kickoff_time</th>\n",
       "      <th>journey</th>\n",
       "    </tr>\n",
       "  </thead>\n",
       "  <tbody>\n",
       "    <tr>\n",
       "      <th>0</th>\n",
       "      <td>9</td>\n",
       "      <td>3</td>\n",
       "      <td>2018</td>\n",
       "      <td>2019-02-12 12:00:00</td>\n",
       "      <td>21</td>\n",
       "    </tr>\n",
       "    <tr>\n",
       "      <th>1</th>\n",
       "      <td>9</td>\n",
       "      <td>2</td>\n",
       "      <td>2018</td>\n",
       "      <td>2019-02-12 12:00:00</td>\n",
       "      <td>21</td>\n",
       "    </tr>\n",
       "    <tr>\n",
       "      <th>2</th>\n",
       "      <td>9</td>\n",
       "      <td>18</td>\n",
       "      <td>2018</td>\n",
       "      <td>2019-02-12 12:00:00</td>\n",
       "      <td>21</td>\n",
       "    </tr>\n",
       "    <tr>\n",
       "      <th>3</th>\n",
       "      <td>9</td>\n",
       "      <td>6</td>\n",
       "      <td>2018</td>\n",
       "      <td>2019-02-12 12:00:00</td>\n",
       "      <td>21</td>\n",
       "    </tr>\n",
       "    <tr>\n",
       "      <th>4</th>\n",
       "      <td>9</td>\n",
       "      <td>10</td>\n",
       "      <td>2018</td>\n",
       "      <td>2019-02-12 12:00:00</td>\n",
       "      <td>21</td>\n",
       "    </tr>\n",
       "    <tr>\n",
       "      <th>5</th>\n",
       "      <td>9</td>\n",
       "      <td>1</td>\n",
       "      <td>2018</td>\n",
       "      <td>2019-02-12 12:00:00</td>\n",
       "      <td>21</td>\n",
       "    </tr>\n",
       "    <tr>\n",
       "      <th>6</th>\n",
       "      <td>9</td>\n",
       "      <td>7</td>\n",
       "      <td>2018</td>\n",
       "      <td>2019-02-12 12:00:00</td>\n",
       "      <td>21</td>\n",
       "    </tr>\n",
       "    <tr>\n",
       "      <th>7</th>\n",
       "      <td>3</td>\n",
       "      <td>2</td>\n",
       "      <td>2018</td>\n",
       "      <td>2019-02-12 12:00:00</td>\n",
       "      <td>21</td>\n",
       "    </tr>\n",
       "    <tr>\n",
       "      <th>8</th>\n",
       "      <td>3</td>\n",
       "      <td>18</td>\n",
       "      <td>2018</td>\n",
       "      <td>2019-02-12 12:00:00</td>\n",
       "      <td>21</td>\n",
       "    </tr>\n",
       "    <tr>\n",
       "      <th>9</th>\n",
       "      <td>3</td>\n",
       "      <td>6</td>\n",
       "      <td>2018</td>\n",
       "      <td>2019-02-12 12:00:00</td>\n",
       "      <td>21</td>\n",
       "    </tr>\n",
       "    <tr>\n",
       "      <th>10</th>\n",
       "      <td>3</td>\n",
       "      <td>10</td>\n",
       "      <td>2018</td>\n",
       "      <td>2019-02-12 12:00:00</td>\n",
       "      <td>21</td>\n",
       "    </tr>\n",
       "    <tr>\n",
       "      <th>11</th>\n",
       "      <td>3</td>\n",
       "      <td>1</td>\n",
       "      <td>2018</td>\n",
       "      <td>2019-02-12 12:00:00</td>\n",
       "      <td>21</td>\n",
       "    </tr>\n",
       "    <tr>\n",
       "      <th>12</th>\n",
       "      <td>3</td>\n",
       "      <td>7</td>\n",
       "      <td>2018</td>\n",
       "      <td>2019-02-12 12:00:00</td>\n",
       "      <td>21</td>\n",
       "    </tr>\n",
       "    <tr>\n",
       "      <th>13</th>\n",
       "      <td>2</td>\n",
       "      <td>18</td>\n",
       "      <td>2018</td>\n",
       "      <td>2019-02-12 12:00:00</td>\n",
       "      <td>21</td>\n",
       "    </tr>\n",
       "    <tr>\n",
       "      <th>14</th>\n",
       "      <td>2</td>\n",
       "      <td>6</td>\n",
       "      <td>2018</td>\n",
       "      <td>2019-02-12 12:00:00</td>\n",
       "      <td>21</td>\n",
       "    </tr>\n",
       "    <tr>\n",
       "      <th>15</th>\n",
       "      <td>2</td>\n",
       "      <td>10</td>\n",
       "      <td>2018</td>\n",
       "      <td>2019-02-12 12:00:00</td>\n",
       "      <td>21</td>\n",
       "    </tr>\n",
       "    <tr>\n",
       "      <th>16</th>\n",
       "      <td>2</td>\n",
       "      <td>1</td>\n",
       "      <td>2018</td>\n",
       "      <td>2019-02-12 12:00:00</td>\n",
       "      <td>21</td>\n",
       "    </tr>\n",
       "    <tr>\n",
       "      <th>17</th>\n",
       "      <td>2</td>\n",
       "      <td>7</td>\n",
       "      <td>2018</td>\n",
       "      <td>2019-02-12 12:00:00</td>\n",
       "      <td>21</td>\n",
       "    </tr>\n",
       "    <tr>\n",
       "      <th>18</th>\n",
       "      <td>18</td>\n",
       "      <td>6</td>\n",
       "      <td>2018</td>\n",
       "      <td>2019-02-12 12:00:00</td>\n",
       "      <td>21</td>\n",
       "    </tr>\n",
       "    <tr>\n",
       "      <th>19</th>\n",
       "      <td>18</td>\n",
       "      <td>10</td>\n",
       "      <td>2018</td>\n",
       "      <td>2019-02-12 12:00:00</td>\n",
       "      <td>21</td>\n",
       "    </tr>\n",
       "    <tr>\n",
       "      <th>20</th>\n",
       "      <td>18</td>\n",
       "      <td>1</td>\n",
       "      <td>2018</td>\n",
       "      <td>2019-02-12 12:00:00</td>\n",
       "      <td>21</td>\n",
       "    </tr>\n",
       "    <tr>\n",
       "      <th>21</th>\n",
       "      <td>18</td>\n",
       "      <td>7</td>\n",
       "      <td>2018</td>\n",
       "      <td>2019-02-12 12:00:00</td>\n",
       "      <td>21</td>\n",
       "    </tr>\n",
       "    <tr>\n",
       "      <th>22</th>\n",
       "      <td>6</td>\n",
       "      <td>10</td>\n",
       "      <td>2018</td>\n",
       "      <td>2019-02-12 12:00:00</td>\n",
       "      <td>21</td>\n",
       "    </tr>\n",
       "    <tr>\n",
       "      <th>23</th>\n",
       "      <td>6</td>\n",
       "      <td>1</td>\n",
       "      <td>2018</td>\n",
       "      <td>2019-02-12 12:00:00</td>\n",
       "      <td>21</td>\n",
       "    </tr>\n",
       "    <tr>\n",
       "      <th>24</th>\n",
       "      <td>6</td>\n",
       "      <td>7</td>\n",
       "      <td>2018</td>\n",
       "      <td>2019-02-12 12:00:00</td>\n",
       "      <td>21</td>\n",
       "    </tr>\n",
       "    <tr>\n",
       "      <th>25</th>\n",
       "      <td>10</td>\n",
       "      <td>1</td>\n",
       "      <td>2018</td>\n",
       "      <td>2019-02-12 12:00:00</td>\n",
       "      <td>21</td>\n",
       "    </tr>\n",
       "    <tr>\n",
       "      <th>26</th>\n",
       "      <td>10</td>\n",
       "      <td>7</td>\n",
       "      <td>2018</td>\n",
       "      <td>2019-02-12 12:00:00</td>\n",
       "      <td>21</td>\n",
       "    </tr>\n",
       "    <tr>\n",
       "      <th>27</th>\n",
       "      <td>1</td>\n",
       "      <td>7</td>\n",
       "      <td>2018</td>\n",
       "      <td>2019-02-12 12:00:00</td>\n",
       "      <td>21</td>\n",
       "    </tr>\n",
       "  </tbody>\n",
       "</table>\n",
       "</div>"
      ],
      "text/plain": [
       "    team_home_id  team_away_id  season        kickoff_time  journey\n",
       "0              9             3    2018 2019-02-12 12:00:00       21\n",
       "1              9             2    2018 2019-02-12 12:00:00       21\n",
       "2              9            18    2018 2019-02-12 12:00:00       21\n",
       "3              9             6    2018 2019-02-12 12:00:00       21\n",
       "4              9            10    2018 2019-02-12 12:00:00       21\n",
       "5              9             1    2018 2019-02-12 12:00:00       21\n",
       "6              9             7    2018 2019-02-12 12:00:00       21\n",
       "7              3             2    2018 2019-02-12 12:00:00       21\n",
       "8              3            18    2018 2019-02-12 12:00:00       21\n",
       "9              3             6    2018 2019-02-12 12:00:00       21\n",
       "10             3            10    2018 2019-02-12 12:00:00       21\n",
       "11             3             1    2018 2019-02-12 12:00:00       21\n",
       "12             3             7    2018 2019-02-12 12:00:00       21\n",
       "13             2            18    2018 2019-02-12 12:00:00       21\n",
       "14             2             6    2018 2019-02-12 12:00:00       21\n",
       "15             2            10    2018 2019-02-12 12:00:00       21\n",
       "16             2             1    2018 2019-02-12 12:00:00       21\n",
       "17             2             7    2018 2019-02-12 12:00:00       21\n",
       "18            18             6    2018 2019-02-12 12:00:00       21\n",
       "19            18            10    2018 2019-02-12 12:00:00       21\n",
       "20            18             1    2018 2019-02-12 12:00:00       21\n",
       "21            18             7    2018 2019-02-12 12:00:00       21\n",
       "22             6            10    2018 2019-02-12 12:00:00       21\n",
       "23             6             1    2018 2019-02-12 12:00:00       21\n",
       "24             6             7    2018 2019-02-12 12:00:00       21\n",
       "25            10             1    2018 2019-02-12 12:00:00       21\n",
       "26            10             7    2018 2019-02-12 12:00:00       21\n",
       "27             1             7    2018 2019-02-12 12:00:00       21"
      ]
     },
     "execution_count": 23,
     "metadata": {},
     "output_type": "execute_result"
    }
   ],
   "source": [
    "d = {'team_home_id': [9, 9, 9, 9, 9, 9, 9,3,3,3,3,3,3,2,2,2,2,2,18,18,18,18,6,6,6,10,10,1], 'team_away_id': [3,2,18,6,10,1,7,2,18,6,10,1,7,18,6,10,1,7,6,10,1,7,10,1,7,1,7,7], 'season': 28*[2018], 'kickoff_time' : 28*[pd.Timestamp(year=2019, month=2, day=12, hour=12)], 'journey' : 28*[21]}\n",
    "df_copa = pd.DataFrame(data=d)\n",
    "df_copa"
   ]
  },
  {
   "cell_type": "code",
   "execution_count": 24,
   "metadata": {},
   "outputs": [
    {
     "name": "stderr",
     "output_type": "stream",
     "text": [
      "28it [00:00, 74.60it/s]\n",
      "28it [00:00, 70.74it/s]\n"
     ]
    },
    {
     "name": "stdout",
     "output_type": "stream",
     "text": [
      "Index(['team_home_id', 'team_away_id', 'win_rate_home_last100',\n",
      "       'score_diff_avg_home_last100', 'win_rate_away_last100',\n",
      "       'score_diff_avg_away_last100', 'win_rate_home_last20',\n",
      "       'score_diff_avg_home_last20', 'win_rate_away_last20',\n",
      "       'score_diff_avg_away_last20'],\n",
      "      dtype='object')\n",
      "[ -4.82040986 -10.5696948   -1.63979169  -6.67335725  -5.84347424\n",
      " -10.57587291   5.2287127   -9.07379248   1.80293757  -2.71189879\n",
      "  -0.16488385  -6.83968365   5.26404827   7.84203027  -3.26799177\n",
      "  12.61906816  -0.8893827   19.38288562   2.3323208   -1.71865905\n",
      "  -3.32415081   7.87509066   7.87832137   0.56007838  17.72680738\n",
      " -11.77433682   2.74560821  21.51497773]\n"
     ]
    },
    {
     "name": "stderr",
     "output_type": "stream",
     "text": [
      "28it [00:00, 70.81it/s]\n",
      "28it [00:00, 91.11it/s]\n"
     ]
    },
    {
     "name": "stdout",
     "output_type": "stream",
     "text": [
      "Index(['team_home_id', 'team_away_id', 'win_rate_home_last100',\n",
      "       'score_diff_avg_home_last100', 'win_rate_away_last100',\n",
      "       'score_diff_avg_away_last100', 'win_rate_home_last20',\n",
      "       'score_diff_avg_home_last20', 'win_rate_away_last20',\n",
      "       'score_diff_avg_away_last20'],\n",
      "      dtype='object')\n",
      "[ -4.71187373 -10.99855577  -1.72143283  -7.04368839  -5.87377955\n",
      " -10.84797746   4.89822433  -9.0901715    2.13081013  -2.68599549\n",
      "   0.03719829  -7.24163984   5.28575359   7.68298565  -3.21255788\n",
      "  12.59662565  -1.12105318  19.31374462   2.04647164  -1.85629868\n",
      "  -3.6171503    7.64310743   7.87233982   0.53086399  17.80239145\n",
      " -11.88866788   2.6272439   21.0361146 ]\n",
      "(28, 20000)\n",
      "0    0.46855\n",
      "1    0.40245\n",
      "dtype: float64\n"
     ]
    },
    {
     "data": {
      "text/html": [
       "<div>\n",
       "<style scoped>\n",
       "    .dataframe tbody tr th:only-of-type {\n",
       "        vertical-align: middle;\n",
       "    }\n",
       "\n",
       "    .dataframe tbody tr th {\n",
       "        vertical-align: top;\n",
       "    }\n",
       "\n",
       "    .dataframe thead th {\n",
       "        text-align: right;\n",
       "    }\n",
       "</style>\n",
       "<table border=\"1\" class=\"dataframe\">\n",
       "  <thead>\n",
       "    <tr style=\"text-align: right;\">\n",
       "      <th></th>\n",
       "      <th>team_home_id</th>\n",
       "      <th>team_away_id</th>\n",
       "      <th>season</th>\n",
       "      <th>kickoff_time</th>\n",
       "      <th>journey</th>\n",
       "      <th>prob1</th>\n",
       "      <th>prob2</th>\n",
       "    </tr>\n",
       "  </thead>\n",
       "  <tbody>\n",
       "    <tr>\n",
       "      <th>0</th>\n",
       "      <td>9</td>\n",
       "      <td>3</td>\n",
       "      <td>2018</td>\n",
       "      <td>2019-02-12 12:00:00</td>\n",
       "      <td>21</td>\n",
       "      <td>0.29240</td>\n",
       "      <td>0.70755</td>\n",
       "    </tr>\n",
       "    <tr>\n",
       "      <th>1</th>\n",
       "      <td>9</td>\n",
       "      <td>2</td>\n",
       "      <td>2018</td>\n",
       "      <td>2019-02-12 12:00:00</td>\n",
       "      <td>21</td>\n",
       "      <td>0.24240</td>\n",
       "      <td>0.75760</td>\n",
       "    </tr>\n",
       "    <tr>\n",
       "      <th>2</th>\n",
       "      <td>9</td>\n",
       "      <td>18</td>\n",
       "      <td>2018</td>\n",
       "      <td>2019-02-12 12:00:00</td>\n",
       "      <td>21</td>\n",
       "      <td>0.47635</td>\n",
       "      <td>0.52360</td>\n",
       "    </tr>\n",
       "    <tr>\n",
       "      <th>3</th>\n",
       "      <td>9</td>\n",
       "      <td>6</td>\n",
       "      <td>2018</td>\n",
       "      <td>2019-02-12 12:00:00</td>\n",
       "      <td>21</td>\n",
       "      <td>0.27740</td>\n",
       "      <td>0.72260</td>\n",
       "    </tr>\n",
       "    <tr>\n",
       "      <th>4</th>\n",
       "      <td>9</td>\n",
       "      <td>10</td>\n",
       "      <td>2018</td>\n",
       "      <td>2019-02-12 12:00:00</td>\n",
       "      <td>21</td>\n",
       "      <td>0.31775</td>\n",
       "      <td>0.68185</td>\n",
       "    </tr>\n",
       "    <tr>\n",
       "      <th>5</th>\n",
       "      <td>9</td>\n",
       "      <td>1</td>\n",
       "      <td>2018</td>\n",
       "      <td>2019-02-12 12:00:00</td>\n",
       "      <td>21</td>\n",
       "      <td>0.18640</td>\n",
       "      <td>0.81360</td>\n",
       "    </tr>\n",
       "    <tr>\n",
       "      <th>6</th>\n",
       "      <td>9</td>\n",
       "      <td>7</td>\n",
       "      <td>2018</td>\n",
       "      <td>2019-02-12 12:00:00</td>\n",
       "      <td>21</td>\n",
       "      <td>0.64140</td>\n",
       "      <td>0.35855</td>\n",
       "    </tr>\n",
       "    <tr>\n",
       "      <th>7</th>\n",
       "      <td>3</td>\n",
       "      <td>2</td>\n",
       "      <td>2018</td>\n",
       "      <td>2019-02-12 12:00:00</td>\n",
       "      <td>21</td>\n",
       "      <td>0.27725</td>\n",
       "      <td>0.72275</td>\n",
       "    </tr>\n",
       "    <tr>\n",
       "      <th>8</th>\n",
       "      <td>3</td>\n",
       "      <td>18</td>\n",
       "      <td>2018</td>\n",
       "      <td>2019-02-12 12:00:00</td>\n",
       "      <td>21</td>\n",
       "      <td>0.62585</td>\n",
       "      <td>0.37410</td>\n",
       "    </tr>\n",
       "    <tr>\n",
       "      <th>9</th>\n",
       "      <td>3</td>\n",
       "      <td>6</td>\n",
       "      <td>2018</td>\n",
       "      <td>2019-02-12 12:00:00</td>\n",
       "      <td>21</td>\n",
       "      <td>0.45020</td>\n",
       "      <td>0.54980</td>\n",
       "    </tr>\n",
       "    <tr>\n",
       "      <th>10</th>\n",
       "      <td>3</td>\n",
       "      <td>10</td>\n",
       "      <td>2018</td>\n",
       "      <td>2019-02-12 12:00:00</td>\n",
       "      <td>21</td>\n",
       "      <td>0.55080</td>\n",
       "      <td>0.44880</td>\n",
       "    </tr>\n",
       "    <tr>\n",
       "      <th>11</th>\n",
       "      <td>3</td>\n",
       "      <td>1</td>\n",
       "      <td>2018</td>\n",
       "      <td>2019-02-12 12:00:00</td>\n",
       "      <td>21</td>\n",
       "      <td>0.33065</td>\n",
       "      <td>0.66935</td>\n",
       "    </tr>\n",
       "    <tr>\n",
       "      <th>12</th>\n",
       "      <td>3</td>\n",
       "      <td>7</td>\n",
       "      <td>2018</td>\n",
       "      <td>2019-02-12 12:00:00</td>\n",
       "      <td>21</td>\n",
       "      <td>0.63825</td>\n",
       "      <td>0.36160</td>\n",
       "    </tr>\n",
       "    <tr>\n",
       "      <th>13</th>\n",
       "      <td>2</td>\n",
       "      <td>18</td>\n",
       "      <td>2018</td>\n",
       "      <td>2019-02-12 12:00:00</td>\n",
       "      <td>21</td>\n",
       "      <td>0.69125</td>\n",
       "      <td>0.30875</td>\n",
       "    </tr>\n",
       "    <tr>\n",
       "      <th>14</th>\n",
       "      <td>2</td>\n",
       "      <td>6</td>\n",
       "      <td>2018</td>\n",
       "      <td>2019-02-12 12:00:00</td>\n",
       "      <td>21</td>\n",
       "      <td>0.40245</td>\n",
       "      <td>0.59750</td>\n",
       "    </tr>\n",
       "    <tr>\n",
       "      <th>15</th>\n",
       "      <td>2</td>\n",
       "      <td>10</td>\n",
       "      <td>2018</td>\n",
       "      <td>2019-02-12 12:00:00</td>\n",
       "      <td>21</td>\n",
       "      <td>0.76945</td>\n",
       "      <td>0.23050</td>\n",
       "    </tr>\n",
       "    <tr>\n",
       "      <th>16</th>\n",
       "      <td>2</td>\n",
       "      <td>1</td>\n",
       "      <td>2018</td>\n",
       "      <td>2019-02-12 12:00:00</td>\n",
       "      <td>21</td>\n",
       "      <td>0.46855</td>\n",
       "      <td>0.53145</td>\n",
       "    </tr>\n",
       "    <tr>\n",
       "      <th>17</th>\n",
       "      <td>2</td>\n",
       "      <td>7</td>\n",
       "      <td>2018</td>\n",
       "      <td>2019-02-12 12:00:00</td>\n",
       "      <td>21</td>\n",
       "      <td>0.96490</td>\n",
       "      <td>0.03510</td>\n",
       "    </tr>\n",
       "    <tr>\n",
       "      <th>18</th>\n",
       "      <td>18</td>\n",
       "      <td>6</td>\n",
       "      <td>2018</td>\n",
       "      <td>2019-02-12 12:00:00</td>\n",
       "      <td>21</td>\n",
       "      <td>0.59060</td>\n",
       "      <td>0.40935</td>\n",
       "    </tr>\n",
       "    <tr>\n",
       "      <th>19</th>\n",
       "      <td>18</td>\n",
       "      <td>10</td>\n",
       "      <td>2018</td>\n",
       "      <td>2019-02-12 12:00:00</td>\n",
       "      <td>21</td>\n",
       "      <td>0.39700</td>\n",
       "      <td>0.60295</td>\n",
       "    </tr>\n",
       "    <tr>\n",
       "      <th>20</th>\n",
       "      <td>18</td>\n",
       "      <td>1</td>\n",
       "      <td>2018</td>\n",
       "      <td>2019-02-12 12:00:00</td>\n",
       "      <td>21</td>\n",
       "      <td>0.41045</td>\n",
       "      <td>0.58950</td>\n",
       "    </tr>\n",
       "    <tr>\n",
       "      <th>21</th>\n",
       "      <td>18</td>\n",
       "      <td>7</td>\n",
       "      <td>2018</td>\n",
       "      <td>2019-02-12 12:00:00</td>\n",
       "      <td>21</td>\n",
       "      <td>0.72845</td>\n",
       "      <td>0.27155</td>\n",
       "    </tr>\n",
       "    <tr>\n",
       "      <th>22</th>\n",
       "      <td>6</td>\n",
       "      <td>10</td>\n",
       "      <td>2018</td>\n",
       "      <td>2019-02-12 12:00:00</td>\n",
       "      <td>21</td>\n",
       "      <td>0.74240</td>\n",
       "      <td>0.25740</td>\n",
       "    </tr>\n",
       "    <tr>\n",
       "      <th>23</th>\n",
       "      <td>6</td>\n",
       "      <td>1</td>\n",
       "      <td>2018</td>\n",
       "      <td>2019-02-12 12:00:00</td>\n",
       "      <td>21</td>\n",
       "      <td>0.51245</td>\n",
       "      <td>0.48750</td>\n",
       "    </tr>\n",
       "    <tr>\n",
       "      <th>24</th>\n",
       "      <td>6</td>\n",
       "      <td>7</td>\n",
       "      <td>2018</td>\n",
       "      <td>2019-02-12 12:00:00</td>\n",
       "      <td>21</td>\n",
       "      <td>0.93620</td>\n",
       "      <td>0.06380</td>\n",
       "    </tr>\n",
       "    <tr>\n",
       "      <th>25</th>\n",
       "      <td>10</td>\n",
       "      <td>1</td>\n",
       "      <td>2018</td>\n",
       "      <td>2019-02-12 12:00:00</td>\n",
       "      <td>21</td>\n",
       "      <td>0.17180</td>\n",
       "      <td>0.82815</td>\n",
       "    </tr>\n",
       "    <tr>\n",
       "      <th>26</th>\n",
       "      <td>10</td>\n",
       "      <td>7</td>\n",
       "      <td>2018</td>\n",
       "      <td>2019-02-12 12:00:00</td>\n",
       "      <td>21</td>\n",
       "      <td>0.52975</td>\n",
       "      <td>0.47010</td>\n",
       "    </tr>\n",
       "    <tr>\n",
       "      <th>27</th>\n",
       "      <td>1</td>\n",
       "      <td>7</td>\n",
       "      <td>2018</td>\n",
       "      <td>2019-02-12 12:00:00</td>\n",
       "      <td>21</td>\n",
       "      <td>0.96495</td>\n",
       "      <td>0.03505</td>\n",
       "    </tr>\n",
       "  </tbody>\n",
       "</table>\n",
       "</div>"
      ],
      "text/plain": [
       "    team_home_id  team_away_id  season        kickoff_time  journey    prob1  \\\n",
       "0              9             3    2018 2019-02-12 12:00:00       21  0.29240   \n",
       "1              9             2    2018 2019-02-12 12:00:00       21  0.24240   \n",
       "2              9            18    2018 2019-02-12 12:00:00       21  0.47635   \n",
       "3              9             6    2018 2019-02-12 12:00:00       21  0.27740   \n",
       "4              9            10    2018 2019-02-12 12:00:00       21  0.31775   \n",
       "5              9             1    2018 2019-02-12 12:00:00       21  0.18640   \n",
       "6              9             7    2018 2019-02-12 12:00:00       21  0.64140   \n",
       "7              3             2    2018 2019-02-12 12:00:00       21  0.27725   \n",
       "8              3            18    2018 2019-02-12 12:00:00       21  0.62585   \n",
       "9              3             6    2018 2019-02-12 12:00:00       21  0.45020   \n",
       "10             3            10    2018 2019-02-12 12:00:00       21  0.55080   \n",
       "11             3             1    2018 2019-02-12 12:00:00       21  0.33065   \n",
       "12             3             7    2018 2019-02-12 12:00:00       21  0.63825   \n",
       "13             2            18    2018 2019-02-12 12:00:00       21  0.69125   \n",
       "14             2             6    2018 2019-02-12 12:00:00       21  0.40245   \n",
       "15             2            10    2018 2019-02-12 12:00:00       21  0.76945   \n",
       "16             2             1    2018 2019-02-12 12:00:00       21  0.46855   \n",
       "17             2             7    2018 2019-02-12 12:00:00       21  0.96490   \n",
       "18            18             6    2018 2019-02-12 12:00:00       21  0.59060   \n",
       "19            18            10    2018 2019-02-12 12:00:00       21  0.39700   \n",
       "20            18             1    2018 2019-02-12 12:00:00       21  0.41045   \n",
       "21            18             7    2018 2019-02-12 12:00:00       21  0.72845   \n",
       "22             6            10    2018 2019-02-12 12:00:00       21  0.74240   \n",
       "23             6             1    2018 2019-02-12 12:00:00       21  0.51245   \n",
       "24             6             7    2018 2019-02-12 12:00:00       21  0.93620   \n",
       "25            10             1    2018 2019-02-12 12:00:00       21  0.17180   \n",
       "26            10             7    2018 2019-02-12 12:00:00       21  0.52975   \n",
       "27             1             7    2018 2019-02-12 12:00:00       21  0.96495   \n",
       "\n",
       "      prob2  \n",
       "0   0.70755  \n",
       "1   0.75760  \n",
       "2   0.52360  \n",
       "3   0.72260  \n",
       "4   0.68185  \n",
       "5   0.81360  \n",
       "6   0.35855  \n",
       "7   0.72275  \n",
       "8   0.37410  \n",
       "9   0.54980  \n",
       "10  0.44880  \n",
       "11  0.66935  \n",
       "12  0.36160  \n",
       "13  0.30875  \n",
       "14  0.59750  \n",
       "15  0.23050  \n",
       "16  0.53145  \n",
       "17  0.03510  \n",
       "18  0.40935  \n",
       "19  0.60295  \n",
       "20  0.58950  \n",
       "21  0.27155  \n",
       "22  0.25740  \n",
       "23  0.48750  \n",
       "24  0.06380  \n",
       "25  0.82815  \n",
       "26  0.47010  \n",
       "27  0.03505  "
      ]
     },
     "execution_count": 24,
     "metadata": {},
     "output_type": "execute_result"
    }
   ],
   "source": [
    "#DB connection\n",
    "db_connection = sql.connect(host='localhost', port=3306, database='acb', user='root', password='root')\n",
    "df_aux = pd.read_sql('SELECT * FROM game where game.season >= {}'.format(from_year), con=db_connection)\n",
    "\n",
    "# cols to keep for df_games\n",
    "cols_to_keep = ['team_home_id', 'team_away_id', 'season', 'journey', 'kickoff_time',\n",
    "                'score_home', 'score_away', 'referee_1']\n",
    "cols_to_del = [c for c in df_aux.columns if c not in cols_to_keep]\n",
    "df_aux.drop(cols_to_del, axis=1, inplace=True)\n",
    "\n",
    "# generate the variables from historical games\n",
    "df_predict = calculate_variables_last_X_predict(df_copa.copy(), df_aux, streak_days_long)\n",
    "df_predict = calculate_variables_last_X_predict(df_predict, df_aux, streak_days_short)\n",
    "\n",
    "# select the columns and predict\n",
    "cols_to_use = X_train.columns\n",
    "print(cols_to_use)\n",
    "df_predict = df_predict[cols_to_use]\n",
    "preds1 = model.predict(df_predict)\n",
    "print(preds1)\n",
    "\n",
    "# Estimating an interval\n",
    "preds_estimators = {}\n",
    "for i in range(len(model.estimators_)):\n",
    "    e = model.estimators_[i]\n",
    "    preds_estimators[\"Est\" + str(i).zfill(2)] = e.predict(df_predict)\n",
    "df_preds_estimators1 = pd.DataFrame(data=preds_estimators)\n",
    "\n",
    "\n",
    "# changing home and away\n",
    "df_predict = df_copa.copy()\n",
    "df_predict[\"team_home_id\"] = df_copa[\"team_away_id\"]\n",
    "df_predict[\"team_away_id\"] = df_copa[\"team_home_id\"]\n",
    "# generate the variables from historical games\n",
    "df_predict = calculate_variables_last_X_predict(df_predict, df_aux, streak_days_long)\n",
    "df_predict = calculate_variables_last_X_predict(df_predict, df_aux, streak_days_short)\n",
    "\n",
    "# select the columns and predict\n",
    "cols_to_use = X_train.columns\n",
    "print(cols_to_use)\n",
    "df_predict = df_predict[cols_to_use]\n",
    "preds2 = -model.predict(df_predict)\n",
    "print(preds2)\n",
    "\n",
    "# Estimating an interval\n",
    "preds_estimators = {}\n",
    "for i in range(len(model.estimators_)):\n",
    "    e = model.estimators_[i]\n",
    "    preds_estimators[\"Est\" + str(i).zfill(2)] = -e.predict(df_predict)\n",
    "df_preds_estimators2 = pd.DataFrame(data=preds_estimators)\n",
    "\n",
    "\n",
    "df_preds_estimators = df_preds_estimators1.merge(df_preds_estimators2, left_index = True, right_index= True)\n",
    "print(df_preds_estimators.shape)\n",
    "\n",
    "\n",
    "#print(df_preds_estimators)\n",
    "df_copa[\"prob1\"] = df_preds_estimators.apply(lambda x: np.mean([1 if x[c]>0 else 0 for c in df_preds_estimators.columns]), axis=1)\n",
    "df_copa[\"prob2\"] = df_preds_estimators.apply(lambda x: np.mean([1 if x[c]<0 else 0 for c in df_preds_estimators.columns]), axis=1)\n",
    "print(prob1)\n",
    "df_copa"
   ]
  },
  {
   "cell_type": "code",
   "execution_count": 25,
   "metadata": {},
   "outputs": [
    {
     "data": {
      "text/plain": [
       "0.091998415075"
      ]
     },
     "execution_count": 25,
     "metadata": {},
     "output_type": "execute_result"
    }
   ],
   "source": [
    "prob_IBT=df_copa['prob1'][0]*(df_copa['prob1'][13]*df_copa['prob1'][1]+df_copa['prob2'][13]*df_copa['prob1'][2])\n",
    "prob_IBT"
   ]
  },
  {
   "cell_type": "code",
   "execution_count": 26,
   "metadata": {},
   "outputs": [
    {
     "data": {
      "text/plain": [
       "0.2723220208875"
      ]
     },
     "execution_count": 26,
     "metadata": {},
     "output_type": "execute_result"
    }
   ],
   "source": [
    "prob_UNI=df_copa['prob2'][0]*(df_copa['prob1'][13]*df_copa['prob1'][7]+df_copa['prob2'][13]*df_copa['prob1'][8])\n",
    "prob_UNI"
   ]
  },
  {
   "cell_type": "code",
   "execution_count": 27,
   "metadata": {},
   "outputs": [
    {
     "data": {
      "text/plain": [
       "0.506619891728125"
      ]
     },
     "execution_count": 27,
     "metadata": {},
     "output_type": "execute_result"
    }
   ],
   "source": [
    "prob_BAR=df_copa['prob1'][13]*(df_copa['prob1'][0]*df_copa['prob2'][1]+df_copa['prob2'][0]*df_copa['prob2'][7])\n",
    "prob_BAR"
   ]
  },
  {
   "cell_type": "code",
   "execution_count": 28,
   "metadata": {},
   "outputs": [
    {
     "data": {
      "text/plain": [
       "0.12899423558125"
      ]
     },
     "execution_count": 28,
     "metadata": {},
     "output_type": "execute_result"
    }
   ],
   "source": [
    "prob_VAL=df_copa['prob2'][13]*(df_copa['prob1'][0]*df_copa['prob2'][2]+df_copa['prob2'][0]*df_copa['prob2'][8])\n",
    "prob_VAL"
   ]
  },
  {
   "cell_type": "code",
   "execution_count": 29,
   "metadata": {},
   "outputs": [
    {
     "data": {
      "text/plain": [
       "0.9999345632718751"
      ]
     },
     "execution_count": 29,
     "metadata": {},
     "output_type": "execute_result"
    }
   ],
   "source": [
    "suma_lado_izq=prob_IBT+prob_UNI+prob_BAR+prob_VAL\n",
    "suma_lado_izq"
   ]
  },
  {
   "cell_type": "code",
   "execution_count": 30,
   "metadata": {},
   "outputs": [
    {
     "data": {
      "text/plain": [
       "0.3914693295999999"
      ]
     },
     "execution_count": 30,
     "metadata": {},
     "output_type": "execute_result"
    }
   ],
   "source": [
    "prob_BAS=df_copa['prob1'][22]*(df_copa['prob1'][27]*df_copa['prob1'][23]+df_copa['prob2'][27]*df_copa['prob1'][24])\n",
    "prob_BAS"
   ]
  },
  {
   "cell_type": "code",
   "execution_count": 31,
   "metadata": {},
   "outputs": [
    {
     "data": {
      "text/plain": [
       "0.0474506983665"
      ]
     },
     "execution_count": 31,
     "metadata": {},
     "output_type": "execute_result"
    }
   ],
   "source": [
    "prob_JOV=df_copa['prob2'][22]*(df_copa['prob1'][27]*df_copa['prob1'][25]+df_copa['prob2'][27]*df_copa['prob1'][26])\n",
    "prob_JOV"
   ]
  },
  {
   "cell_type": "code",
   "execution_count": 32,
   "metadata": {},
   "outputs": [
    {
     "data": {
      "text/plain": [
       "0.5549290523595"
      ]
     },
     "execution_count": 32,
     "metadata": {},
     "output_type": "execute_result"
    }
   ],
   "source": [
    "prob_MAD=df_copa['prob1'][27]*(df_copa['prob1'][22]*df_copa['prob2'][23]+df_copa['prob2'][22]*df_copa['prob2'][25])\n",
    "prob_MAD"
   ]
  },
  {
   "cell_type": "code",
   "execution_count": 33,
   "metadata": {},
   "outputs": [
    {
     "data": {
      "text/plain": [
       "0.005901328543"
      ]
     },
     "execution_count": 33,
     "metadata": {},
     "output_type": "execute_result"
    }
   ],
   "source": [
    "prob_EST=df_copa['prob2'][27]*(df_copa['prob1'][22]*df_copa['prob2'][24]+df_copa['prob2'][22]*df_copa['prob2'][26])\n",
    "prob_EST"
   ]
  },
  {
   "cell_type": "code",
   "execution_count": 34,
   "metadata": {},
   "outputs": [
    {
     "data": {
      "text/plain": [
       "0.9997504088689998"
      ]
     },
     "execution_count": 34,
     "metadata": {},
     "output_type": "execute_result"
    }
   ],
   "source": [
    "suma_lado_der=prob_BAS+prob_JOV+prob_MAD+prob_EST\n",
    "suma_lado_der"
   ]
  },
  {
   "cell_type": "code",
   "execution_count": 35,
   "metadata": {},
   "outputs": [
    {
     "data": {
      "text/plain": [
       "0.02124196842987327"
      ]
     },
     "execution_count": 35,
     "metadata": {},
     "output_type": "execute_result"
    }
   ],
   "source": [
    "win_IBT=prob_IBT*(prob_BAS*df_copa['prob1'][3]+prob_JOV*df_copa['prob1'][4]+prob_MAD*df_copa['prob1'][5]+prob_EST*df_copa['prob1'][6])\n",
    "win_IBT"
   ]
  },
  {
   "cell_type": "code",
   "execution_count": 36,
   "metadata": {},
   "outputs": [
    {
     "data": {
      "text/plain": [
       "0.10610459778377329"
      ]
     },
     "execution_count": 36,
     "metadata": {},
     "output_type": "execute_result"
    }
   ],
   "source": [
    "win_UNI=prob_UNI*(prob_BAS*df_copa['prob1'][9]+prob_JOV*df_copa['prob1'][10]+prob_MAD*df_copa['prob1'][11]+prob_EST*df_copa['prob1'][12])\n",
    "win_UNI"
   ]
  },
  {
   "cell_type": "code",
   "execution_count": 37,
   "metadata": {},
   "outputs": [
    {
     "data": {
      "text/plain": [
       "0.23292557318308443"
      ]
     },
     "execution_count": 37,
     "metadata": {},
     "output_type": "execute_result"
    }
   ],
   "source": [
    "win_BAR=prob_BAR*(prob_BAS*df_copa['prob1'][14]+prob_JOV*df_copa['prob1'][15]+prob_MAD*df_copa['prob1'][16]+prob_EST*df_copa['prob1'][17])\n",
    "win_BAR"
   ]
  },
  {
   "cell_type": "code",
   "execution_count": 38,
   "metadata": {},
   "outputs": [
    {
     "data": {
      "text/plain": [
       "0.06218930328733224"
      ]
     },
     "execution_count": 38,
     "metadata": {},
     "output_type": "execute_result"
    }
   ],
   "source": [
    "win_VAL=prob_VAL*(prob_BAS*df_copa['prob1'][18]+prob_JOV*df_copa['prob1'][19]+prob_MAD*df_copa['prob1'][20]+prob_EST*df_copa['prob1'][21])\n",
    "win_VAL"
   ]
  },
  {
   "cell_type": "code",
   "execution_count": 39,
   "metadata": {},
   "outputs": [
    {
     "data": {
      "text/plain": [
       "0.22380688245491812"
      ]
     },
     "execution_count": 39,
     "metadata": {},
     "output_type": "execute_result"
    }
   ],
   "source": [
    "win_BAS=prob_BAS*(prob_IBT*df_copa['prob2'][3]+prob_UNI*df_copa['prob2'][9]+prob_BAR*df_copa['prob2'][14]+prob_VAL*df_copa['prob2'][18])\n",
    "win_BAS"
   ]
  },
  {
   "cell_type": "code",
   "execution_count": 40,
   "metadata": {},
   "outputs": [
    {
     "data": {
      "text/plain": [
       "0.018007549599955285"
      ]
     },
     "execution_count": 40,
     "metadata": {},
     "output_type": "execute_result"
    }
   ],
   "source": [
    "win_JOV=prob_JOV*(prob_IBT*df_copa['prob2'][4]+prob_UNI*df_copa['prob2'][10]+prob_BAR*df_copa['prob2'][15]+prob_VAL*df_copa['prob2'][19])\n",
    "win_JOV"
   ]
  },
  {
   "cell_type": "code",
   "execution_count": 41,
   "metadata": {},
   "outputs": [
    {
     "data": {
      "text/plain": [
       "0.33429697383396606"
      ]
     },
     "execution_count": 41,
     "metadata": {},
     "output_type": "execute_result"
    }
   ],
   "source": [
    "win_MAD=prob_MAD*(prob_IBT*df_copa['prob2'][5]+prob_UNI*df_copa['prob2'][11]+prob_BAR*df_copa['prob2'][16]+prob_VAL*df_copa['prob2'][20])\n",
    "win_MAD"
   ]
  },
  {
   "cell_type": "code",
   "execution_count": 42,
   "metadata": {},
   "outputs": [
    {
     "data": {
      "text/plain": [
       "0.0010874284708798517"
      ]
     },
     "execution_count": 42,
     "metadata": {},
     "output_type": "execute_result"
    }
   ],
   "source": [
    "win_EST=prob_EST*(prob_IBT*df_copa['prob2'][6]+prob_UNI*df_copa['prob2'][12]+prob_BAR*df_copa['prob2'][17]+prob_VAL*df_copa['prob2'][21])\n",
    "win_EST"
   ]
  },
  {
   "cell_type": "code",
   "execution_count": 43,
   "metadata": {},
   "outputs": [
    {
     "data": {
      "text/plain": [
       "0.9996602770437826"
      ]
     },
     "execution_count": 43,
     "metadata": {},
     "output_type": "execute_result"
    }
   ],
   "source": [
    "sum_WIN=win_EST+win_MAD+win_JOV+win_BAS+win_VAL+win_BAR+win_UNI+win_IBT\n",
    "sum_WIN"
   ]
  }
 ],
 "metadata": {
  "kernelspec": {
   "display_name": "Python 3",
   "language": "python",
   "name": "python3"
  },
  "language_info": {
   "codemirror_mode": {
    "name": "ipython",
    "version": 3.0
   },
   "file_extension": ".py",
   "mimetype": "text/x-python",
   "name": "python",
   "nbconvert_exporter": "python",
   "pygments_lexer": "ipython3",
   "version": "3.6.8"
  }
 },
 "nbformat": 4,
 "nbformat_minor": 0
}