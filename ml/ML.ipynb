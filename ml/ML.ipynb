{
 "cells": [
  {
   "cell_type": "markdown",
   "metadata": {},
   "source": [
    "# Predicting results"
   ]
  },
  {
   "cell_type": "markdown",
   "metadata": {},
   "source": [
    "## Imports"
   ]
  },
  {
   "cell_type": "code",
   "execution_count": 1,
   "metadata": {
    "collapsed": true
   },
   "outputs": [],
   "source": [
    "import mysql.connector as sql\n",
    "import pandas as pd\n",
    "import numpy as np\n",
    "from datetime import date, timedelta\n",
    "\n",
    "\n",
    "from sklearn.tree import DecisionTreeClassifier\n",
    "from sklearn.model_selection import  train_test_split\n",
    "from sklearn.linear_model import LogisticRegression\n",
    "from sklearn.model_selection import cross_val_score\n",
    "from sklearn.ensemble import RandomForestClassifier, RandomForestRegressor\n",
    "from sklearn import metrics\n",
    "\n",
    "import seaborn as sns\n",
    "import matplotlib.pyplot as plt\n",
    "from matplotlib.lines import Line2D\n",
    "from IPython.display import display, HTML\n",
    "from tqdm import tqdm"
   ]
  },
  {
   "cell_type": "markdown",
   "metadata": {},
   "source": [
    "## Definitions"
   ]
  },
  {
   "cell_type": "code",
   "execution_count": 2,
   "metadata": {
    "collapsed": true
   },
   "outputs": [],
   "source": [
    "from_year=2016\n",
    "to_year=2018\n",
    "streak_days_long=100\n",
    "streak_days_short=20"
   ]
  },
  {
   "cell_type": "code",
   "execution_count": 3,
   "metadata": {
    "collapsed": true
   },
   "outputs": [],
   "source": [
    "def get_prev_matches_numbers(date_start, date_end, team_id, df):\n",
    "    dfteam_previous = df[((df[\"team_home_id\"]==team_id) | (df[\"team_away_id\"]==team_id)) & (df[\"kickoff_time\"]<date_end) & (df[\"kickoff_time\"]>date_start)].copy()\n",
    "    if len(dfteam_previous) == 0:\n",
    "        win_rate = 0.\n",
    "        score_diff_avg = 0.\n",
    "    else:\n",
    "        dfteam_previous[\"score_team\"] = dfteam_previous.apply(lambda x: x[\"score_home\"] if x[\"team_home_id\"]==team_id else x[\"score_away\"], axis=1)\n",
    "        dfteam_previous[\"score_oponent\"] = dfteam_previous.apply(lambda x: x[\"score_away\"] if x[\"team_home_id\"]==team_id else x[\"score_home\"], axis=1)\n",
    "        dfteam_previous[\"won\"] = dfteam_previous[\"score_team\"] > dfteam_previous[\"score_oponent\"]\n",
    "        dfteam_previous[\"score_diff\"] = dfteam_previous[\"score_team\"] - dfteam_previous[\"score_oponent\"]\n",
    "        win_rate = float(dfteam_previous[\"won\"].sum()) / len(dfteam_previous)\n",
    "        score_diff_avg = dfteam_previous[\"score_diff\"].mean()\n",
    "    return win_rate, score_diff_avg"
   ]
  },
  {
   "cell_type": "code",
   "execution_count": 4,
   "metadata": {
    "collapsed": true
   },
   "outputs": [],
   "source": [
    "def calculate_variables_last_X_train(df_games, last_X_days):\n",
    "    # for each game add results of last ones\n",
    "    win_rate_home_list = []\n",
    "    win_rate_away_list = []\n",
    "    score_diff_avg_home_list = []\n",
    "    score_diff_avg_away_list = []\n",
    "    for i, row in tqdm(df_games.iterrows()):\n",
    "        date_end = row[\"kickoff_time\"]\n",
    "        date_start = date_end - timedelta(days=last_X_days)\n",
    "        # For the home team\n",
    "        team_id = row[\"team_home_id\"]\n",
    "        # print(\"Home team:\", team_id)\n",
    "        win_rate_home, score_diff_avg_home = get_prev_matches_numbers(date_start, date_end, team_id, df_games)\n",
    "        win_rate_home_list += [win_rate_home]\n",
    "        score_diff_avg_home_list += [score_diff_avg_home]\n",
    "        # For the away team\n",
    "        team_id = row[\"team_away_id\"]\n",
    "        # print(\"Away team:\", team_id)\n",
    "        win_rate_away, score_diff_avg_away = get_prev_matches_numbers(date_start, date_end, team_id, df_games)\n",
    "        win_rate_away_list += [win_rate_away]\n",
    "        score_diff_avg_away_list += [score_diff_avg_away]\n",
    "\n",
    "    # add historical to df\n",
    "    df_games[\"win_rate_home_last\"+str(last_X_days)] = win_rate_home_list\n",
    "    df_games[\"score_diff_avg_home_last\"+str(last_X_days)] = score_diff_avg_home_list\n",
    "    df_games[\"win_rate_away_last\"+str(last_X_days)] = win_rate_away_list\n",
    "    df_games[\"score_diff_avg_away_last\"+str(last_X_days)] = score_diff_avg_away_list\n",
    "\n",
    "    return df_games"
   ]
  },
  {
   "cell_type": "markdown",
   "metadata": {},
   "source": [
    "## Loading data from db"
   ]
  },
  {
   "cell_type": "code",
   "execution_count": 5,
   "metadata": {},
   "outputs": [],
   "source": [
    "#DB connection\n",
    "db_connection = sql.connect(host='localhost', port=3306, database='acb', user='root', password='root')\n",
    "df_games = pd.read_sql('SELECT * FROM game where game.season >= {}'.format(from_year), con=db_connection)\n",
    "\n",
    "#print(df_games.shape)\n",
    "#print(df_games.columns)\n",
    "#df_games.head()"
   ]
  },
  {
   "cell_type": "markdown",
   "metadata": {},
   "source": [
    "## Correlations"
   ]
  },
  {
   "cell_type": "code",
   "execution_count": 6,
   "metadata": {
    "scrolled": false
   },
   "outputs": [],
   "source": [
    "#correlation matrix\n",
    "#corrmat = df_games.corr()\n",
    "#f, ax = plt.subplots(figsize=(20,18))\n",
    "#sns.heatmap(corrmat, square=True, cmap=sns.diverging_palette(240, 10, as_cmap=True))\n",
    "#plt.show()"
   ]
  },
  {
   "cell_type": "code",
   "execution_count": 7,
   "metadata": {
    "scrolled": false
   },
   "outputs": [],
   "source": [
    "#cols_aux = [c for c in df_games.columns if (c.startswith(\"score\") and not c.endswith(\"extra\"))]\n",
    "#print(cols_aux)\n",
    "#sns.set(style=\"ticks\", color_codes=True)\n",
    "#sns.pairplot(df_games[cols_aux])\n",
    "#plt.show()"
   ]
  },
  {
   "cell_type": "markdown",
   "metadata": {},
   "source": [
    "## Preprocessing"
   ]
  },
  {
   "cell_type": "code",
   "execution_count": 8,
   "metadata": {
    "scrolled": false
   },
   "outputs": [
    {
     "name": "stderr",
     "output_type": "stream",
     "text": [
      "793it [00:07, 103.34it/s]\n",
      "793it [00:06, 130.16it/s]\n"
     ]
    },
    {
     "data": {
      "text/html": [
       "<div>\n",
       "<style>\n",
       "    .dataframe thead tr:only-child th {\n",
       "        text-align: right;\n",
       "    }\n",
       "\n",
       "    .dataframe thead th {\n",
       "        text-align: left;\n",
       "    }\n",
       "\n",
       "    .dataframe tbody tr th {\n",
       "        vertical-align: top;\n",
       "    }\n",
       "</style>\n",
       "<table border=\"1\" class=\"dataframe\">\n",
       "  <thead>\n",
       "    <tr style=\"text-align: right;\">\n",
       "      <th></th>\n",
       "      <th>team_home_id</th>\n",
       "      <th>team_away_id</th>\n",
       "      <th>season</th>\n",
       "      <th>journey</th>\n",
       "      <th>score_home</th>\n",
       "      <th>score_away</th>\n",
       "      <th>kickoff_time</th>\n",
       "      <th>referee_1</th>\n",
       "      <th>score_difference</th>\n",
       "      <th>win_rate_home_last100</th>\n",
       "      <th>score_diff_avg_home_last100</th>\n",
       "      <th>win_rate_away_last100</th>\n",
       "      <th>score_diff_avg_away_last100</th>\n",
       "      <th>win_rate_home_last20</th>\n",
       "      <th>score_diff_avg_home_last20</th>\n",
       "      <th>win_rate_away_last20</th>\n",
       "      <th>score_diff_avg_away_last20</th>\n",
       "    </tr>\n",
       "  </thead>\n",
       "  <tbody>\n",
       "    <tr>\n",
       "      <th>0</th>\n",
       "      <td>1</td>\n",
       "      <td>9</td>\n",
       "      <td>2018</td>\n",
       "      <td>1</td>\n",
       "      <td>88</td>\n",
       "      <td>73</td>\n",
       "      <td>2018-09-30 19:15:00</td>\n",
       "      <td>Jiménez Trujillo</td>\n",
       "      <td>15</td>\n",
       "      <td>0.000000</td>\n",
       "      <td>0.000000</td>\n",
       "      <td>0.000000</td>\n",
       "      <td>0.000000</td>\n",
       "      <td>0.0</td>\n",
       "      <td>0.0</td>\n",
       "      <td>0.0</td>\n",
       "      <td>0.0</td>\n",
       "    </tr>\n",
       "    <tr>\n",
       "      <th>1</th>\n",
       "      <td>18</td>\n",
       "      <td>1</td>\n",
       "      <td>2018</td>\n",
       "      <td>2</td>\n",
       "      <td>70</td>\n",
       "      <td>88</td>\n",
       "      <td>2018-10-05 20:45:00</td>\n",
       "      <td>Antonio Conde</td>\n",
       "      <td>-18</td>\n",
       "      <td>0.000000</td>\n",
       "      <td>-13.000000</td>\n",
       "      <td>1.000000</td>\n",
       "      <td>15.000000</td>\n",
       "      <td>0.0</td>\n",
       "      <td>-13.0</td>\n",
       "      <td>1.0</td>\n",
       "      <td>15.0</td>\n",
       "    </tr>\n",
       "    <tr>\n",
       "      <th>2</th>\n",
       "      <td>3</td>\n",
       "      <td>2</td>\n",
       "      <td>2018</td>\n",
       "      <td>12</td>\n",
       "      <td>78</td>\n",
       "      <td>73</td>\n",
       "      <td>2018-12-16 19:30:00</td>\n",
       "      <td>Carlos Peruga</td>\n",
       "      <td>5</td>\n",
       "      <td>0.727273</td>\n",
       "      <td>6.000000</td>\n",
       "      <td>0.909091</td>\n",
       "      <td>13.181818</td>\n",
       "      <td>0.0</td>\n",
       "      <td>-7.0</td>\n",
       "      <td>1.0</td>\n",
       "      <td>4.0</td>\n",
       "    </tr>\n",
       "    <tr>\n",
       "      <th>3</th>\n",
       "      <td>17</td>\n",
       "      <td>10</td>\n",
       "      <td>2018</td>\n",
       "      <td>12</td>\n",
       "      <td>83</td>\n",
       "      <td>68</td>\n",
       "      <td>2018-12-16 19:30:00</td>\n",
       "      <td>M.A. Pérez Pérez</td>\n",
       "      <td>15</td>\n",
       "      <td>0.272727</td>\n",
       "      <td>-4.454545</td>\n",
       "      <td>0.545455</td>\n",
       "      <td>-3.090909</td>\n",
       "      <td>0.0</td>\n",
       "      <td>-24.0</td>\n",
       "      <td>1.0</td>\n",
       "      <td>7.0</td>\n",
       "    </tr>\n",
       "    <tr>\n",
       "      <th>4</th>\n",
       "      <td>4</td>\n",
       "      <td>16</td>\n",
       "      <td>2018</td>\n",
       "      <td>12</td>\n",
       "      <td>76</td>\n",
       "      <td>87</td>\n",
       "      <td>2018-12-15 20:30:00</td>\n",
       "      <td>Daniel Hierrezuelo</td>\n",
       "      <td>-11</td>\n",
       "      <td>0.454545</td>\n",
       "      <td>-3.636364</td>\n",
       "      <td>0.181818</td>\n",
       "      <td>-10.545455</td>\n",
       "      <td>0.0</td>\n",
       "      <td>-19.0</td>\n",
       "      <td>0.0</td>\n",
       "      <td>-14.0</td>\n",
       "    </tr>\n",
       "  </tbody>\n",
       "</table>\n",
       "</div>"
      ],
      "text/plain": [
       "   team_home_id  team_away_id  season  journey  score_home  score_away  \\\n",
       "0             1             9    2018        1          88          73   \n",
       "1            18             1    2018        2          70          88   \n",
       "2             3             2    2018       12          78          73   \n",
       "3            17            10    2018       12          83          68   \n",
       "4             4            16    2018       12          76          87   \n",
       "\n",
       "         kickoff_time           referee_1  score_difference  \\\n",
       "0 2018-09-30 19:15:00    Jiménez Trujillo                15   \n",
       "1 2018-10-05 20:45:00       Antonio Conde               -18   \n",
       "2 2018-12-16 19:30:00       Carlos Peruga                 5   \n",
       "3 2018-12-16 19:30:00    M.A. Pérez Pérez                15   \n",
       "4 2018-12-15 20:30:00  Daniel Hierrezuelo               -11   \n",
       "\n",
       "   win_rate_home_last100  score_diff_avg_home_last100  win_rate_away_last100  \\\n",
       "0               0.000000                     0.000000               0.000000   \n",
       "1               0.000000                   -13.000000               1.000000   \n",
       "2               0.727273                     6.000000               0.909091   \n",
       "3               0.272727                    -4.454545               0.545455   \n",
       "4               0.454545                    -3.636364               0.181818   \n",
       "\n",
       "   score_diff_avg_away_last100  win_rate_home_last20  \\\n",
       "0                     0.000000                   0.0   \n",
       "1                    15.000000                   0.0   \n",
       "2                    13.181818                   0.0   \n",
       "3                    -3.090909                   0.0   \n",
       "4                   -10.545455                   0.0   \n",
       "\n",
       "   score_diff_avg_home_last20  win_rate_away_last20  \\\n",
       "0                         0.0                   0.0   \n",
       "1                       -13.0                   1.0   \n",
       "2                        -7.0                   1.0   \n",
       "3                       -24.0                   1.0   \n",
       "4                       -19.0                   0.0   \n",
       "\n",
       "   score_diff_avg_away_last20  \n",
       "0                         0.0  \n",
       "1                        15.0  \n",
       "2                         4.0  \n",
       "3                         7.0  \n",
       "4                       -14.0  "
      ]
     },
     "execution_count": 8,
     "metadata": {},
     "output_type": "execute_result"
    }
   ],
   "source": [
    "# cols to keep\n",
    "cols_to_keep = ['team_home_id', 'team_away_id', 'season', 'journey', 'kickoff_time',\n",
    "                'score_home', 'score_away', 'referee_1']\n",
    "cols_to_del = [c for c in df_games.columns if c not in cols_to_keep]\n",
    "df_games.drop(cols_to_del, axis=1, inplace=True)\n",
    "\n",
    "# check if nulls\n",
    "#print(\"Number of nulls in df:\", df_games.isnull().sum().max())\n",
    "\n",
    "# checking amount of times a home team won\n",
    "#win_home = df_games[\"score_away\"] < df_games[\"score_home\"]\n",
    "#print(\"Home Team Win percentage: {0:.1f}%\".format(100 * win_home.values.sum() / len(win_home)))\n",
    "\n",
    "# create score difference feature\n",
    "df_games[\"score_difference\"] = df_games[\"score_home\"] - df_games[\"score_away\"]\n",
    "#print(\"Mean of score difference:\", df_games[\"score_difference\"].mean())\n",
    "\n",
    "df_games=calculate_variables_last_X_train(df_games, streak_days_long)\n",
    "df_games=calculate_variables_last_X_train(df_games, streak_days_short)\n",
    "df_games.head()\n"
   ]
  },
  {
   "cell_type": "code",
   "execution_count": 9,
   "metadata": {},
   "outputs": [
    {
     "data": {
      "text/plain": [
       "'df_games_inverse = df_games.copy()\\nfor c in df_games_inverse.columns:\\n    if \"home\" in c:\\n        df_games_inverse[c.replace(\"home\", \"away\")] = df_games[c]\\n    if \"away\" in c:\\n        df_games_inverse[c.replace(\"away\", \"home\")] = df_games[c]\\ndf_games_inverse[\"score_difference\"] = -df_games[\"score_difference\"]        \\ndf_games_inverse.head()'"
      ]
     },
     "execution_count": 9,
     "metadata": {},
     "output_type": "execute_result"
    }
   ],
   "source": [
    "\"\"\"df_games_inverse = df_games.copy()\n",
    "for c in df_games_inverse.columns:\n",
    "    if \"home\" in c:\n",
    "        df_games_inverse[c.replace(\"home\", \"away\")] = df_games[c]\n",
    "    if \"away\" in c:\n",
    "        df_games_inverse[c.replace(\"away\", \"home\")] = df_games[c]\n",
    "df_games_inverse[\"score_difference\"] = -df_games[\"score_difference\"]        \n",
    "df_games_inverse.head()\"\"\""
   ]
  },
  {
   "cell_type": "markdown",
   "metadata": {},
   "source": [
    "## Regression"
   ]
  },
  {
   "cell_type": "code",
   "execution_count": 10,
   "metadata": {
    "scrolled": false
   },
   "outputs": [
    {
     "name": "stdout",
     "output_type": "stream",
     "text": [
      "Rows for training: 622\n",
      "Rows for test: 171\n",
      "Index(['team_home_id', 'team_away_id', 'win_rate_home_last100',\n",
      "       'score_diff_avg_home_last100', 'win_rate_away_last100',\n",
      "       'score_diff_avg_away_last100', 'win_rate_home_last20',\n",
      "       'score_diff_avg_home_last20', 'win_rate_away_last20',\n",
      "       'score_diff_avg_away_last20'],\n",
      "      dtype='object')\n",
      "Mean absolute error: 10.66528835978836 points\n",
      "Percentage of the times the winner was correct: 0.672514619883041%\n"
     ]
    }
   ],
   "source": [
    "#df_final = pd.concat([df_games, df_games_inverse], ignore_index = True)\n",
    "df_final = df_games.copy()\n",
    "df_final.drop([\"score_home\", \"score_away\", \"journey\", \"kickoff_time\", \"referee_1\"], axis=1, inplace=True)\n",
    "#df_final = df_final[[\"win_rate_home\", \"score_diff_avg_home\", \"win_rate_away\", \"score_diff_avg_away\", \"season\", \"score_difference\"]]\n",
    "\n",
    "# Years for train // Years for test (generally 2016-2017 and 2018)\n",
    "train = df_final[df_final[\"season\"]<to_year]\n",
    "test = df_final[df_final[\"season\"]>=to_year]\n",
    "\n",
    "print(\"Rows for training:\", len(train))\n",
    "print(\"Rows for test:\", len(test))\n",
    "\n",
    "X_train = train.drop(['score_difference', \"season\"], axis=1)\n",
    "y_train = train['score_difference']\n",
    "X_test = test.drop(['score_difference', \"season\"], axis=1)\n",
    "y_test = test['score_difference'].values\n",
    "#X_train, X_test, y_train, y_test = train_test_split(X, y, test_size=0.25, random_state=123)\n",
    "\n",
    "# Train algorithm\n",
    "print(X_train.columns)\n",
    "model = RandomForestRegressor(n_estimators=1000, random_state=20, max_depth=None, n_jobs=-1)\n",
    "model.fit(X_train, y_train)\n",
    "\n",
    "#print(model.feature_importances_)\n",
    "\n",
    "# Estimating an interval\n",
    "preds_estimators = {}\n",
    "for i in range(len(model.estimators_)):\n",
    "    e = model.estimators_[i]\n",
    "    preds_estimators[\"Est\" + str(i).zfill(2)] = e.predict(X_test)\n",
    "df_preds_estimators = pd.DataFrame(data=preds_estimators)\n",
    "\n",
    "\"\"\"\n",
    "# Plotting the intervals and the real value\n",
    "axes = df_preds_estimators.transpose().plot.box(figsize=(20, 20), showfliers=True,\n",
    "                                                flierprops=dict(marker='+', color='lightblue'),\n",
    "                                                color={'whiskers': 'lightblue', 'caps': 'lightblue',\n",
    "                                                       'medians': 'lightblue', 'boxes': 'lightblue'})\n",
    "axes.plot(y_test, color='red', marker='o', linestyle=' ')\n",
    "axes.set_title(\"Predictions of the score difference for each game and real result\")\n",
    "axes.set_xlabel(\"Game\")\n",
    "axes.set_ylabel(\"Score difference\")\n",
    "axes.legend([Line2D([0], [0], color='lightblue', marker='o', linestyle=' '),\n",
    "             Line2D([0], [0], color='red', marker='o', linestyle=' ')], ['Preds', 'Real'])\n",
    "plt.show()\n",
    "\n",
    "# Some conclusions about the intervals\n",
    "df_preds_estimators[\"Upper\"] = df_preds_estimators.apply(\n",
    "    lambda x: np.percentile(x, 75) + 1.5 * (np.percentile(x, 75) - np.percentile(x, 25)), axis=1)\n",
    "df_preds_estimators[\"Lower\"] = df_preds_estimators.apply(\n",
    "    lambda x: np.percentile(x, 25) - 1.5 * (np.percentile(x, 75) - np.percentile(x, 25)), axis=1)\n",
    "df_preds_estimators[\"Real\"] = y_test\n",
    "\n",
    "mean_aux = df_preds_estimators.apply(lambda x: 1 if x.mean() >= 0 else 0, axis=1)\n",
    "print(\"Percentage of the times the mean was positive:\", mean_aux.mean())\n",
    "median_aux=df_preds_estimators.apply(lambda x: 1 if np.percentile(x, 50)>=0 else 0, axis=1)\n",
    "print(\"Percentage of the times the median was positive:\", median_aux.mean())\n",
    "\n",
    "df_preds_estimators[\"score_in_range?\"] = (df_preds_estimators[\"Real\"] >= df_preds_estimators[\"Lower\"]) \\\n",
    "                                         & (df_preds_estimators[\"Real\"] <= df_preds_estimators[\"Upper\"])\n",
    "print(\"Percentage of the times the score was in the given interval: {}%\".format(\n",
    "    100 * float(df_preds_estimators[\"score_in_range?\"].sum()) / len(df_preds_estimators)))\n",
    "\"\"\"\n",
    "\n",
    "# Predicting score directly\n",
    "y_pred = model.predict(X_test)\n",
    "\n",
    "d = {'Real': y_test, 'Pred': y_pred}\n",
    "df_res = pd.DataFrame(data=d)\n",
    "df_res[\"winner_correct?\"] = np.sign(df_res[\"Real\"]) == np.sign(df_res[\"Pred\"])\n",
    "\n",
    "print(\"Mean absolute error: {} points\".format(metrics.mean_absolute_error(y_test, y_pred)))\n",
    "print(\"Percentage of the times the winner was correct: {}%\".format(\n",
    "    float(df_res[\"winner_correct?\"].sum()) / len(df_res)))"
   ]
  },
  {
   "cell_type": "markdown",
   "metadata": {
    "collapsed": true
   },
   "source": [
    "## Classification"
   ]
  },
  {
   "cell_type": "code",
   "execution_count": 11,
   "metadata": {},
   "outputs": [
    {
     "name": "stdout",
     "output_type": "stream",
     "text": [
      "Rows for training: 622\n",
      "Rows for test: 171\n",
      "Index(['team_home_id', 'team_away_id', 'win_rate_home_last100',\n",
      "       'score_diff_avg_home_last100', 'win_rate_away_last100',\n",
      "       'score_diff_avg_away_last100', 'win_rate_home_last20',\n",
      "       'score_diff_avg_home_last20', 'win_rate_away_last20',\n",
      "       'score_diff_avg_away_last20'],\n",
      "      dtype='object')\n",
      "Accuracy: 0.6549707602339181 points\n"
     ]
    }
   ],
   "source": [
    "#df_final = pd.concat([df_games, df_games_inverse], ignore_index = True)\n",
    "df_final = df_games.copy()\n",
    "df_final[\"winner\"] = df_final[\"score_difference\"] > 0 \n",
    "df_final.drop([\"score_home\", \"score_away\", \"journey\", \"kickoff_time\", \"referee_1\", \"score_difference\"], axis=1, inplace=True)\n",
    "#df_final = df_final[[\"win_rate_home\", \"score_diff_avg_home\", \"win_rate_away\", \"score_diff_avg_away\", \"season\", \"score_difference\"]]\n",
    "\n",
    "# Years for train // Years for test (generally 2016-2017 and 2018)\n",
    "train = df_final[df_final[\"season\"]<to_year]\n",
    "test = df_final[df_final[\"season\"]>=to_year]\n",
    "\n",
    "print(\"Rows for training:\", len(train))\n",
    "print(\"Rows for test:\", len(test))\n",
    "\n",
    "X_train = train.drop(['winner', \"season\"], axis=1)\n",
    "y_train = train['winner']\n",
    "X_test = test.drop(['winner', \"season\"], axis=1)\n",
    "y_test = test['winner'].values\n",
    "#X_train, X_test, y_train, y_test = train_test_split(X, y, test_size=0.25, random_state=123)\n",
    "\n",
    "# Train algorithm\n",
    "print(X_train.columns)\n",
    "model = RandomForestClassifier(n_estimators=1000, random_state=20, max_depth=None, n_jobs=-1)\n",
    "model.fit(X_train, y_train)\n",
    "\n",
    "#print(model.feature_importances_)\n",
    "\n",
    "# Predicting score directly\n",
    "y_pred = model.predict(X_test)\n",
    "\n",
    "d = {'Real': y_test, 'Pred': y_pred}\n",
    "df_res = pd.DataFrame(data=d)\n",
    "df_res[\"winner_correct?\"] = df_res[\"Real\"] == df_res[\"Pred\"]\n",
    "\n",
    "print(\"Accuracy: {} points\".format(df_res[\"winner_correct?\"].mean()))"
   ]
  },
  {
   "cell_type": "code",
   "execution_count": null,
   "metadata": {
    "collapsed": true
   },
   "outputs": [],
   "source": []
  },
  {
   "cell_type": "code",
   "execution_count": null,
   "metadata": {
    "collapsed": true
   },
   "outputs": [],
   "source": []
  }
 ],
 "metadata": {
  "kernelspec": {
   "display_name": "Python 3",
   "language": "python",
   "name": "python3"
  },
  "language_info": {
   "codemirror_mode": {
    "name": "ipython",
    "version": 3
   },
   "file_extension": ".py",
   "mimetype": "text/x-python",
   "name": "python",
   "nbconvert_exporter": "python",
   "pygments_lexer": "ipython3",
   "version": "3.6.3"
  }
 },
 "nbformat": 4,
 "nbformat_minor": 1
}
