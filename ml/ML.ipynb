{
 "cells": [
  {
   "cell_type": "markdown",
   "metadata": {},
   "source": [
    "# Predicting results"
   ]
  },
  {
   "cell_type": "markdown",
   "metadata": {},
   "source": [
    "## Imports"
   ]
  },
  {
   "cell_type": "code",
   "execution_count": 24,
   "metadata": {
    "collapsed": true
   },
   "outputs": [],
   "source": [
    "import mysql.connector as sql\n",
    "import pandas as pd\n",
    "import numpy as np\n",
    "from datetime import date, timedelta\n",
    "\n",
    "from sklearn.tree import DecisionTreeClassifier\n",
    "from sklearn.model_selection import  train_test_split\n",
    "from sklearn.linear_model import LogisticRegression\n",
    "from sklearn.model_selection import cross_val_score\n",
    "from sklearn.ensemble import RandomForestClassifier, RandomForestRegressor\n",
    "from sklearn import metrics\n",
    "\n",
    "import seaborn as sns\n",
    "import matplotlib.pyplot as plt\n",
    "from matplotlib.lines import Line2D\n",
    "from IPython.display import display, HTML\n",
    "from tqdm import tqdm"
   ]
  },
  {
   "cell_type": "markdown",
   "metadata": {},
   "source": [
    "## Definitions"
   ]
  },
  {
   "cell_type": "code",
   "execution_count": 25,
   "metadata": {
    "collapsed": true
   },
   "outputs": [],
   "source": [
    "from_year=2016\n",
    "to_year=2018\n",
    "streak_days_long=100\n",
    "streak_days_short=20"
   ]
  },
  {
   "cell_type": "code",
   "execution_count": 26,
   "metadata": {
    "collapsed": true
   },
   "outputs": [],
   "source": [
    "def get_prev_matches_numbers(date_start, date_end, team_id, df):\n",
    "    dfteam_previous = df[((df[\"team_home_id\"]==team_id) | (df[\"team_away_id\"]==team_id)) & (df[\"kickoff_time\"]<date_end) & (df[\"kickoff_time\"]>date_start)].copy()\n",
    "    if len(dfteam_previous) == 0:\n",
    "        win_rate = 0.\n",
    "        score_diff_avg = 0.\n",
    "    else:\n",
    "        dfteam_previous[\"score_team\"] = dfteam_previous.apply(lambda x: x[\"score_home\"] if x[\"team_home_id\"]==team_id else x[\"score_away\"], axis=1)\n",
    "        dfteam_previous[\"score_oponent\"] = dfteam_previous.apply(lambda x: x[\"score_away\"] if x[\"team_home_id\"]==team_id else x[\"score_home\"], axis=1)\n",
    "        dfteam_previous[\"won\"] = dfteam_previous[\"score_team\"] > dfteam_previous[\"score_oponent\"]\n",
    "        dfteam_previous[\"score_diff\"] = dfteam_previous[\"score_team\"] - dfteam_previous[\"score_oponent\"]\n",
    "        win_rate = float(dfteam_previous[\"won\"].sum()) / len(dfteam_previous)\n",
    "        score_diff_avg = dfteam_previous[\"score_diff\"].mean()\n",
    "    return win_rate, score_diff_avg"
   ]
  },
  {
   "cell_type": "code",
   "execution_count": 27,
   "metadata": {
    "collapsed": true
   },
   "outputs": [],
   "source": [
    "def calculate_variables_last_X_train(df_games, last_X_days):\n",
    "    # for each game add results of last ones\n",
    "    win_rate_home_list = []\n",
    "    win_rate_away_list = []\n",
    "    score_diff_avg_home_list = []\n",
    "    score_diff_avg_away_list = []\n",
    "    for i, row in tqdm(df_games.iterrows()):\n",
    "        date_end = row[\"kickoff_time\"]\n",
    "        date_start = date_end - timedelta(days=last_X_days)\n",
    "        # For the home team\n",
    "        team_id = row[\"team_home_id\"]\n",
    "        # print(\"Home team:\", team_id)\n",
    "        win_rate_home, score_diff_avg_home = get_prev_matches_numbers(date_start, date_end, team_id, df_games)\n",
    "        win_rate_home_list += [win_rate_home]\n",
    "        score_diff_avg_home_list += [score_diff_avg_home]\n",
    "        # For the away team\n",
    "        team_id = row[\"team_away_id\"]\n",
    "        # print(\"Away team:\", team_id)\n",
    "        win_rate_away, score_diff_avg_away = get_prev_matches_numbers(date_start, date_end, team_id, df_games)\n",
    "        win_rate_away_list += [win_rate_away]\n",
    "        score_diff_avg_away_list += [score_diff_avg_away]\n",
    "\n",
    "    # add historical to df\n",
    "    df_games[\"win_rate_home_last\"+str(last_X_days)] = win_rate_home_list\n",
    "    df_games[\"score_diff_avg_home_last\"+str(last_X_days)] = score_diff_avg_home_list\n",
    "    df_games[\"win_rate_away_last\"+str(last_X_days)] = win_rate_away_list\n",
    "    df_games[\"score_diff_avg_away_last\"+str(last_X_days)] = score_diff_avg_away_list\n",
    "\n",
    "    return df_games"
   ]
  },
  {
   "cell_type": "code",
   "execution_count": 28,
   "metadata": {
    "collapsed": true
   },
   "outputs": [],
   "source": [
    "def calculate_variables_last_X_predict(df_predict, df_games, last_X_days):\n",
    "    # for each game add results of last ones\n",
    "    win_rate_home_list = []\n",
    "    win_rate_away_list = []\n",
    "    score_diff_avg_home_list = []\n",
    "    score_diff_avg_away_list = []\n",
    "    for i, row in tqdm(df_predict.iterrows()):\n",
    "        date_end = row[\"kickoff_time\"]\n",
    "        date_start = date_end - timedelta(days=last_X_days)\n",
    "        # For the home team\n",
    "        team_id = row[\"team_home_id\"]\n",
    "        # print(\"Home team:\", team_id)\n",
    "        win_rate_home, score_diff_avg_home = get_prev_matches_numbers(date_start, date_end, team_id, df_games)\n",
    "        win_rate_home_list += [win_rate_home]\n",
    "        score_diff_avg_home_list += [score_diff_avg_home]\n",
    "        # For the away team\n",
    "        team_id = row[\"team_away_id\"]\n",
    "        # print(\"Away team:\", team_id)\n",
    "        win_rate_away, score_diff_avg_away = get_prev_matches_numbers(date_start, date_end, team_id, df_games)\n",
    "        win_rate_away_list += [win_rate_away]\n",
    "        score_diff_avg_away_list += [score_diff_avg_away]\n",
    "\n",
    "    # add historical to df\n",
    "    df_predict[\"win_rate_home_last\" + str(last_X_days)] = win_rate_home_list\n",
    "    df_predict[\"score_diff_avg_home_last\" + str(last_X_days)] = score_diff_avg_home_list\n",
    "    df_predict[\"win_rate_away_last\" + str(last_X_days)] = win_rate_away_list\n",
    "    df_predict[\"score_diff_avg_away_last\" + str(last_X_days)] = score_diff_avg_away_list\n",
    "\n",
    "    return df_predict"
   ]
  },
  {
   "cell_type": "markdown",
   "metadata": {},
   "source": [
    "## Loading data from db"
   ]
  },
  {
   "cell_type": "code",
   "execution_count": 29,
   "metadata": {
    "collapsed": true
   },
   "outputs": [],
   "source": [
    "#DB connection\n",
    "db_connection = sql.connect(host='localhost', port=3306, database='acb', user='root', password='root')\n",
    "df_games = pd.read_sql('SELECT * FROM game where game.season >= {}'.format(from_year), con=db_connection)\n",
    "\n",
    "#print(df_games.shape)\n",
    "#print(df_games.columns)\n",
    "#df_games.head()"
   ]
  },
  {
   "cell_type": "markdown",
   "metadata": {},
   "source": [
    "## Correlations"
   ]
  },
  {
   "cell_type": "code",
   "execution_count": 30,
   "metadata": {
    "collapsed": true,
    "scrolled": false
   },
   "outputs": [],
   "source": [
    "#correlation matrix\n",
    "#corrmat = df_games.corr()\n",
    "#f, ax = plt.subplots(figsize=(20,18))\n",
    "#sns.heatmap(corrmat, square=True, cmap=sns.diverging_palette(240, 10, as_cmap=True))\n",
    "#plt.show()"
   ]
  },
  {
   "cell_type": "code",
   "execution_count": 31,
   "metadata": {
    "collapsed": true,
    "scrolled": false
   },
   "outputs": [],
   "source": [
    "#cols_aux = [c for c in df_games.columns if (c.startswith(\"score\") and not c.endswith(\"extra\"))]\n",
    "#print(cols_aux)\n",
    "#sns.set(style=\"ticks\", color_codes=True)\n",
    "#sns.pairplot(df_games[cols_aux])\n",
    "#plt.show()"
   ]
  },
  {
   "cell_type": "markdown",
   "metadata": {},
   "source": [
    "## Preprocessing"
   ]
  },
  {
   "cell_type": "code",
   "execution_count": 32,
   "metadata": {
    "scrolled": false
   },
   "outputs": [
    {
     "name": "stderr",
     "output_type": "stream",
     "text": [
      "793it [00:19, 39.73it/s]\n",
      "793it [00:16, 49.50it/s]\n"
     ]
    },
    {
     "data": {
      "text/html": [
       "<div>\n",
       "<style>\n",
       "    .dataframe thead tr:only-child th {\n",
       "        text-align: right;\n",
       "    }\n",
       "\n",
       "    .dataframe thead th {\n",
       "        text-align: left;\n",
       "    }\n",
       "\n",
       "    .dataframe tbody tr th {\n",
       "        vertical-align: top;\n",
       "    }\n",
       "</style>\n",
       "<table border=\"1\" class=\"dataframe\">\n",
       "  <thead>\n",
       "    <tr style=\"text-align: right;\">\n",
       "      <th></th>\n",
       "      <th>team_home_id</th>\n",
       "      <th>team_away_id</th>\n",
       "      <th>season</th>\n",
       "      <th>journey</th>\n",
       "      <th>score_home</th>\n",
       "      <th>score_away</th>\n",
       "      <th>kickoff_time</th>\n",
       "      <th>referee_1</th>\n",
       "      <th>score_difference</th>\n",
       "      <th>win_rate_home_last100</th>\n",
       "      <th>score_diff_avg_home_last100</th>\n",
       "      <th>win_rate_away_last100</th>\n",
       "      <th>score_diff_avg_away_last100</th>\n",
       "      <th>win_rate_home_last20</th>\n",
       "      <th>score_diff_avg_home_last20</th>\n",
       "      <th>win_rate_away_last20</th>\n",
       "      <th>score_diff_avg_away_last20</th>\n",
       "    </tr>\n",
       "  </thead>\n",
       "  <tbody>\n",
       "    <tr>\n",
       "      <th>0</th>\n",
       "      <td>1</td>\n",
       "      <td>9</td>\n",
       "      <td>2018</td>\n",
       "      <td>1</td>\n",
       "      <td>88</td>\n",
       "      <td>73</td>\n",
       "      <td>2018-09-30 19:15:00</td>\n",
       "      <td>Jiménez Trujillo</td>\n",
       "      <td>15</td>\n",
       "      <td>0.000000</td>\n",
       "      <td>0.000000</td>\n",
       "      <td>0.000000</td>\n",
       "      <td>0.000000</td>\n",
       "      <td>0.0</td>\n",
       "      <td>0.0</td>\n",
       "      <td>0.0</td>\n",
       "      <td>0.0</td>\n",
       "    </tr>\n",
       "    <tr>\n",
       "      <th>1</th>\n",
       "      <td>18</td>\n",
       "      <td>1</td>\n",
       "      <td>2018</td>\n",
       "      <td>2</td>\n",
       "      <td>70</td>\n",
       "      <td>88</td>\n",
       "      <td>2018-10-05 20:45:00</td>\n",
       "      <td>Antonio Conde</td>\n",
       "      <td>-18</td>\n",
       "      <td>0.000000</td>\n",
       "      <td>-13.000000</td>\n",
       "      <td>1.000000</td>\n",
       "      <td>15.000000</td>\n",
       "      <td>0.0</td>\n",
       "      <td>-13.0</td>\n",
       "      <td>1.0</td>\n",
       "      <td>15.0</td>\n",
       "    </tr>\n",
       "    <tr>\n",
       "      <th>2</th>\n",
       "      <td>3</td>\n",
       "      <td>2</td>\n",
       "      <td>2018</td>\n",
       "      <td>12</td>\n",
       "      <td>78</td>\n",
       "      <td>73</td>\n",
       "      <td>2018-12-16 19:30:00</td>\n",
       "      <td>Carlos Peruga</td>\n",
       "      <td>5</td>\n",
       "      <td>0.727273</td>\n",
       "      <td>6.000000</td>\n",
       "      <td>0.909091</td>\n",
       "      <td>13.181818</td>\n",
       "      <td>0.0</td>\n",
       "      <td>-7.0</td>\n",
       "      <td>1.0</td>\n",
       "      <td>4.0</td>\n",
       "    </tr>\n",
       "    <tr>\n",
       "      <th>3</th>\n",
       "      <td>17</td>\n",
       "      <td>10</td>\n",
       "      <td>2018</td>\n",
       "      <td>12</td>\n",
       "      <td>83</td>\n",
       "      <td>68</td>\n",
       "      <td>2018-12-16 19:30:00</td>\n",
       "      <td>M.A. Pérez Pérez</td>\n",
       "      <td>15</td>\n",
       "      <td>0.272727</td>\n",
       "      <td>-4.454545</td>\n",
       "      <td>0.545455</td>\n",
       "      <td>-3.090909</td>\n",
       "      <td>0.0</td>\n",
       "      <td>-24.0</td>\n",
       "      <td>1.0</td>\n",
       "      <td>7.0</td>\n",
       "    </tr>\n",
       "    <tr>\n",
       "      <th>4</th>\n",
       "      <td>4</td>\n",
       "      <td>16</td>\n",
       "      <td>2018</td>\n",
       "      <td>12</td>\n",
       "      <td>76</td>\n",
       "      <td>87</td>\n",
       "      <td>2018-12-15 20:30:00</td>\n",
       "      <td>Daniel Hierrezuelo</td>\n",
       "      <td>-11</td>\n",
       "      <td>0.454545</td>\n",
       "      <td>-3.636364</td>\n",
       "      <td>0.181818</td>\n",
       "      <td>-10.545455</td>\n",
       "      <td>0.0</td>\n",
       "      <td>-19.0</td>\n",
       "      <td>0.0</td>\n",
       "      <td>-14.0</td>\n",
       "    </tr>\n",
       "  </tbody>\n",
       "</table>\n",
       "</div>"
      ],
      "text/plain": [
       "   team_home_id  team_away_id  season  journey  score_home  score_away  \\\n",
       "0             1             9    2018        1          88          73   \n",
       "1            18             1    2018        2          70          88   \n",
       "2             3             2    2018       12          78          73   \n",
       "3            17            10    2018       12          83          68   \n",
       "4             4            16    2018       12          76          87   \n",
       "\n",
       "         kickoff_time           referee_1  score_difference  \\\n",
       "0 2018-09-30 19:15:00    Jiménez Trujillo                15   \n",
       "1 2018-10-05 20:45:00       Antonio Conde               -18   \n",
       "2 2018-12-16 19:30:00       Carlos Peruga                 5   \n",
       "3 2018-12-16 19:30:00    M.A. Pérez Pérez                15   \n",
       "4 2018-12-15 20:30:00  Daniel Hierrezuelo               -11   \n",
       "\n",
       "   win_rate_home_last100  score_diff_avg_home_last100  win_rate_away_last100  \\\n",
       "0               0.000000                     0.000000               0.000000   \n",
       "1               0.000000                   -13.000000               1.000000   \n",
       "2               0.727273                     6.000000               0.909091   \n",
       "3               0.272727                    -4.454545               0.545455   \n",
       "4               0.454545                    -3.636364               0.181818   \n",
       "\n",
       "   score_diff_avg_away_last100  win_rate_home_last20  \\\n",
       "0                     0.000000                   0.0   \n",
       "1                    15.000000                   0.0   \n",
       "2                    13.181818                   0.0   \n",
       "3                    -3.090909                   0.0   \n",
       "4                   -10.545455                   0.0   \n",
       "\n",
       "   score_diff_avg_home_last20  win_rate_away_last20  \\\n",
       "0                         0.0                   0.0   \n",
       "1                       -13.0                   1.0   \n",
       "2                        -7.0                   1.0   \n",
       "3                       -24.0                   1.0   \n",
       "4                       -19.0                   0.0   \n",
       "\n",
       "   score_diff_avg_away_last20  \n",
       "0                         0.0  \n",
       "1                        15.0  \n",
       "2                         4.0  \n",
       "3                         7.0  \n",
       "4                       -14.0  "
      ]
     },
     "execution_count": 32,
     "metadata": {},
     "output_type": "execute_result"
    }
   ],
   "source": [
    "# cols to keep\n",
    "cols_to_keep = ['team_home_id', 'team_away_id', 'season', 'journey', 'kickoff_time',\n",
    "                'score_home', 'score_away', 'referee_1']\n",
    "cols_to_del = [c for c in df_games.columns if c not in cols_to_keep]\n",
    "df_games.drop(cols_to_del, axis=1, inplace=True)\n",
    "\n",
    "# check if nulls\n",
    "#print(\"Number of nulls in df:\", df_games.isnull().sum().max())\n",
    "\n",
    "# checking amount of times a home team won\n",
    "#win_home = df_games[\"score_away\"] < df_games[\"score_home\"]\n",
    "#print(\"Home Team Win percentage: {0:.1f}%\".format(100 * win_home.values.sum() / len(win_home)))\n",
    "\n",
    "# create score difference feature\n",
    "df_games[\"score_difference\"] = df_games[\"score_home\"] - df_games[\"score_away\"]\n",
    "#print(\"Mean of score difference:\", df_games[\"score_difference\"].mean())\n",
    "\n",
    "df_games=calculate_variables_last_X_train(df_games, streak_days_long)\n",
    "df_games=calculate_variables_last_X_train(df_games, streak_days_short)\n",
    "df_games.head()\n"
   ]
  },
  {
   "cell_type": "code",
   "execution_count": 33,
   "metadata": {},
   "outputs": [
    {
     "data": {
      "text/plain": [
       "'df_games_inverse = df_games.copy()\\nfor c in df_games_inverse.columns:\\n    if \"home\" in c:\\n        df_games_inverse[c.replace(\"home\", \"away\")] = df_games[c]\\n    if \"away\" in c:\\n        df_games_inverse[c.replace(\"away\", \"home\")] = df_games[c]\\ndf_games_inverse[\"score_difference\"] = -df_games[\"score_difference\"]        \\ndf_games_inverse.head()'"
      ]
     },
     "execution_count": 33,
     "metadata": {},
     "output_type": "execute_result"
    }
   ],
   "source": [
    "\"\"\"df_games_inverse = df_games.copy()\n",
    "for c in df_games_inverse.columns:\n",
    "    if \"home\" in c:\n",
    "        df_games_inverse[c.replace(\"home\", \"away\")] = df_games[c]\n",
    "    if \"away\" in c:\n",
    "        df_games_inverse[c.replace(\"away\", \"home\")] = df_games[c]\n",
    "df_games_inverse[\"score_difference\"] = -df_games[\"score_difference\"]        \n",
    "df_games_inverse.head()\"\"\""
   ]
  },
  {
   "cell_type": "markdown",
   "metadata": {},
   "source": [
    "## Regression"
   ]
  },
  {
   "cell_type": "code",
   "execution_count": 56,
   "metadata": {
    "scrolled": false
   },
   "outputs": [
    {
     "name": "stdout",
     "output_type": "stream",
     "text": [
      "Rows for training: 622\n",
      "Rows for test: 171\n",
      "Index(['team_home_id', 'team_away_id', 'win_rate_home_last100',\n",
      "       'score_diff_avg_home_last100', 'win_rate_away_last100',\n",
      "       'score_diff_avg_away_last100', 'win_rate_home_last20',\n",
      "       'score_diff_avg_home_last20', 'win_rate_away_last20',\n",
      "       'score_diff_avg_away_last20'],\n",
      "      dtype='object')\n"
     ]
    },
    {
     "data": {
      "image/png": "[encoded data removed]",
      "text/plain": [
       "<Figure size 1440x1440 with 1 Axes>"
      ]
     },
     "metadata": {},
     "output_type": "display_data"
    },
    {
     "name": "stdout",
     "output_type": "stream",
     "text": [
      "Percentage of the times the mean was positive: 0.7134502923976608\n",
      "Percentage of the times the median was positive: 0.7017543859649122\n",
      "Percentage of the times the score was in the given interval: 93.5672514619883%\n",
      "Mean absolute error: 10.66528835978836 points\n",
      "Percentage of the times the winner was correct: 0.672514619883041%\n"
     ]
    }
   ],
   "source": [
    "#df_final = pd.concat([df_games, df_games_inverse], ignore_index = True)\n",
    "df_final = df_games.copy()\n",
    "df_final.drop([\"score_home\", \"score_away\", \"journey\", \"kickoff_time\", \"referee_1\"], axis=1, inplace=True)\n",
    "#df_final = df_final[[\"win_rate_home\", \"score_diff_avg_home\", \"win_rate_away\", \"score_diff_avg_away\", \"season\", \"score_difference\"]]\n",
    "\n",
    "# Years for train // Years for test (generally 2016-2017 and 2018)\n",
    "train = df_final[df_final[\"season\"]<to_year]\n",
    "test = df_final[df_final[\"season\"]>=to_year]\n",
    "\n",
    "print(\"Rows for training:\", len(train))\n",
    "print(\"Rows for test:\", len(test))\n",
    "\n",
    "X_train = train.drop(['score_difference', \"season\"], axis=1)\n",
    "y_train = train['score_difference']\n",
    "X_test = test.drop(['score_difference', \"season\"], axis=1)\n",
    "y_test = test['score_difference'].values\n",
    "#X_train, X_test, y_train, y_test = train_test_split(X, y, test_size=0.25, random_state=123)\n",
    "\n",
    "# Train algorithm\n",
    "print(X_train.columns)\n",
    "model = RandomForestRegressor(n_estimators=1000, random_state=20, max_depth=None, n_jobs=-1)\n",
    "model.fit(X_train, y_train)\n",
    "\n",
    "#print(model.feature_importances_)\n",
    "\n",
    "# Estimating an interval\n",
    "preds_estimators = {}\n",
    "for i in range(len(model.estimators_)):\n",
    "    e = model.estimators_[i]\n",
    "    preds_estimators[\"Est\" + str(i).zfill(2)] = e.predict(X_test)\n",
    "df_preds_estimators = pd.DataFrame(data=preds_estimators)\n",
    "\n",
    "# Plotting the intervals and the real value\n",
    "axes = df_preds_estimators.transpose().plot.box(figsize=(20, 20), positions=range(0,len(X_test)), showfliers=True,\n",
    "                                                flierprops=dict(marker='+', color='lightblue'),\n",
    "                                                color={'whiskers': 'lightblue', 'caps': 'lightblue',\n",
    "                                                       'medians': 'lightblue', 'boxes': 'lightblue'})\n",
    "axes.plot(y_test, color='red', marker='o', linestyle=' ')\n",
    "axes.set_title(\"Predictions of the score difference for each game and real result\")\n",
    "axes.set_xlabel(\"Game\")\n",
    "axes.set_ylabel(\"Score difference\")\n",
    "axes.legend([Line2D([0], [0], color='lightblue', marker='o', linestyle=' '),\n",
    "             Line2D([0], [0], color='red', marker='o', linestyle=' ')], ['Preds', 'Real'])\n",
    "plt.show()\n",
    "\n",
    "# Some conclusions about the intervals\n",
    "df_preds_estimators[\"Upper\"] = df_preds_estimators.apply(\n",
    "    lambda x: np.percentile(x, 75) + 1.5 * (np.percentile(x, 75) - np.percentile(x, 25)), axis=1)\n",
    "df_preds_estimators[\"Lower\"] = df_preds_estimators.apply(\n",
    "    lambda x: np.percentile(x, 25) - 1.5 * (np.percentile(x, 75) - np.percentile(x, 25)), axis=1)\n",
    "df_preds_estimators[\"Real\"] = y_test\n",
    "\n",
    "mean_aux = df_preds_estimators.apply(lambda x: 1 if x.mean() >= 0 else 0, axis=1)\n",
    "print(\"Percentage of the times the mean was positive:\", mean_aux.mean())\n",
    "median_aux=df_preds_estimators.apply(lambda x: 1 if np.percentile(x, 50)>=0 else 0, axis=1)\n",
    "print(\"Percentage of the times the median was positive:\", median_aux.mean())\n",
    "\n",
    "df_preds_estimators[\"score_in_range?\"] = (df_preds_estimators[\"Real\"] >= df_preds_estimators[\"Lower\"]) \\\n",
    "                                         & (df_preds_estimators[\"Real\"] <= df_preds_estimators[\"Upper\"])\n",
    "print(\"Percentage of the times the score was in the given interval: {}%\".format(\n",
    "    100 * float(df_preds_estimators[\"score_in_range?\"].sum()) / len(df_preds_estimators)))\n",
    "\n",
    "\n",
    "# Predicting score directly\n",
    "y_pred = model.predict(X_test)\n",
    "\n",
    "d = {'Real': y_test, 'Pred': y_pred}\n",
    "df_res = pd.DataFrame(data=d)\n",
    "df_res[\"winner_correct?\"] = np.sign(df_res[\"Real\"]) == np.sign(df_res[\"Pred\"])\n",
    "print(\"Mean absolute error: {} points\".format(metrics.mean_absolute_error(y_test, y_pred)))\n",
    "print(\"Percentage of the times the winner was correct: {}%\".format(\n",
    "    float(df_res[\"winner_correct?\"].sum()) / len(df_res)))"
   ]
  },
  {
   "cell_type": "markdown",
   "metadata": {
    "collapsed": true
   },
   "source": [
    "## Classification"
   ]
  },
  {
   "cell_type": "code",
   "execution_count": 11,
   "metadata": {},
   "outputs": [
    {
     "name": "stdout",
     "output_type": "stream",
     "text": [
      "Rows for training: 622\n",
      "Rows for test: 171\n",
      "Index(['team_home_id', 'team_away_id', 'win_rate_home_last100',\n",
      "       'score_diff_avg_home_last100', 'win_rate_away_last100',\n",
      "       'score_diff_avg_away_last100', 'win_rate_home_last20',\n",
      "       'score_diff_avg_home_last20', 'win_rate_away_last20',\n",
      "       'score_diff_avg_away_last20'],\n",
      "      dtype='object')\n",
      "Accuracy: 0.6549707602339181 points\n"
     ]
    }
   ],
   "source": [
    "\"\"\"#df_final = pd.concat([df_games, df_games_inverse], ignore_index = True)\n",
    "df_final = df_games.copy()\n",
    "df_final[\"winner\"] = df_final[\"score_difference\"] > 0 \n",
    "df_final.drop([\"score_home\", \"score_away\", \"journey\", \"kickoff_time\", \"referee_1\", \"score_difference\"], axis=1, inplace=True)\n",
    "#df_final = df_final[[\"win_rate_home\", \"score_diff_avg_home\", \"win_rate_away\", \"score_diff_avg_away\", \"season\", \"score_difference\"]]\n",
    "\n",
    "# Years for train // Years for test (generally 2016-2017 and 2018)\n",
    "train = df_final[df_final[\"season\"]<to_year]\n",
    "test = df_final[df_final[\"season\"]>=to_year]\n",
    "\n",
    "print(\"Rows for training:\", len(train))\n",
    "print(\"Rows for test:\", len(test))\n",
    "\n",
    "X_train = train.drop(['winner', \"season\"], axis=1)\n",
    "y_train = train['winner']\n",
    "X_test = test.drop(['winner', \"season\"], axis=1)\n",
    "y_test = test['winner'].values\n",
    "#X_train, X_test, y_train, y_test = train_test_split(X, y, test_size=0.25, random_state=123)\n",
    "\n",
    "# Train algorithm\n",
    "print(X_train.columns)\n",
    "model = RandomForestClassifier(n_estimators=1000, random_state=20, max_depth=None, n_jobs=-1)\n",
    "model.fit(X_train, y_train)\n",
    "\n",
    "#print(model.feature_importances_)\n",
    "\n",
    "# Predicting score directly\n",
    "y_pred = model.predict(X_test)\n",
    "\n",
    "d = {'Real': y_test, 'Pred': y_pred}\n",
    "df_res = pd.DataFrame(data=d)\n",
    "df_res[\"winner_correct?\"] = df_res[\"Real\"] == df_res[\"Pred\"]\n",
    "print(\"Accuracy: {} points\".format(df_res[\"winner_correct?\"].mean()))\"\"\""
   ]
  },
  {
   "cell_type": "code",
   "execution_count": null,
   "metadata": {
    "collapsed": true
   },
   "outputs": [],
   "source": []
  },
  {
   "cell_type": "code",
   "execution_count": null,
   "metadata": {
    "collapsed": true
   },
   "outputs": [],
   "source": []
  },
  {
   "cell_type": "code",
   "execution_count": null,
   "metadata": {
    "collapsed": true
   },
   "outputs": [],
   "source": []
  },
  {
   "cell_type": "code",
   "execution_count": null,
   "metadata": {
    "collapsed": true
   },
   "outputs": [],
   "source": []
  },
  {
   "cell_type": "code",
   "execution_count": null,
   "metadata": {
    "collapsed": true
   },
   "outputs": [],
   "source": []
  },
  {
   "cell_type": "code",
   "execution_count": null,
   "metadata": {
    "collapsed": true
   },
   "outputs": [],
   "source": []
  },
  {
   "cell_type": "markdown",
   "metadata": {},
   "source": [
    "## Predict next journey"
   ]
  },
  {
   "cell_type": "code",
   "execution_count": 36,
   "metadata": {},
   "outputs": [
    {
     "data": {
      "text/html": [
       "<div>\n",
       "<style>\n",
       "    .dataframe thead tr:only-child th {\n",
       "        text-align: right;\n",
       "    }\n",
       "\n",
       "    .dataframe thead th {\n",
       "        text-align: left;\n",
       "    }\n",
       "\n",
       "    .dataframe tbody tr th {\n",
       "        vertical-align: top;\n",
       "    }\n",
       "</style>\n",
       "<table border=\"1\" class=\"dataframe\">\n",
       "  <thead>\n",
       "    <tr style=\"text-align: right;\">\n",
       "      <th></th>\n",
       "      <th>team_home</th>\n",
       "      <th>team_home_id</th>\n",
       "      <th>team_away</th>\n",
       "      <th>team_away_id</th>\n",
       "      <th>season</th>\n",
       "      <th>kickoff_time</th>\n",
       "      <th>journey</th>\n",
       "    </tr>\n",
       "  </thead>\n",
       "  <tbody>\n",
       "    <tr>\n",
       "      <th>0</th>\n",
       "      <td>VALENCIA BASKET CLUB</td>\n",
       "      <td>18</td>\n",
       "      <td>MONBUS OBRADOIRO</td>\n",
       "      <td>5</td>\n",
       "      <td>2018</td>\n",
       "      <td>2019-02-09 18:00:00</td>\n",
       "      <td>20</td>\n",
       "    </tr>\n",
       "    <tr>\n",
       "      <th>1</th>\n",
       "      <td>BARÇA LASSA</td>\n",
       "      <td>2</td>\n",
       "      <td>MONTAKIT FUENLABRADA</td>\n",
       "      <td>8</td>\n",
       "      <td>2018</td>\n",
       "      <td>2019-02-09 18:00:00</td>\n",
       "      <td>20</td>\n",
       "    </tr>\n",
       "    <tr>\n",
       "      <th>2</th>\n",
       "      <td>IBEROSTAR TENERIFE</td>\n",
       "      <td>9</td>\n",
       "      <td>SAN PABLO BURGOS</td>\n",
       "      <td>11</td>\n",
       "      <td>2018</td>\n",
       "      <td>2019-02-09 20:30:00</td>\n",
       "      <td>20</td>\n",
       "    </tr>\n",
       "    <tr>\n",
       "      <th>3</th>\n",
       "      <td>UNICAJA</td>\n",
       "      <td>3</td>\n",
       "      <td>BAXI MANRESA</td>\n",
       "      <td>12</td>\n",
       "      <td>2018</td>\n",
       "      <td>2019-02-09 20:30:00</td>\n",
       "      <td>20</td>\n",
       "    </tr>\n",
       "    <tr>\n",
       "      <th>4</th>\n",
       "      <td>MOVISTAR ESTUDIANTES</td>\n",
       "      <td>7</td>\n",
       "      <td>MORABANC ANDORRA</td>\n",
       "      <td>4</td>\n",
       "      <td>2018</td>\n",
       "      <td>2019-02-10 12:30:00</td>\n",
       "      <td>20</td>\n",
       "    </tr>\n",
       "    <tr>\n",
       "      <th>5</th>\n",
       "      <td>CAFÉS CANDELAS BREOGÁN</td>\n",
       "      <td>15</td>\n",
       "      <td>UCAM MURCIA CB</td>\n",
       "      <td>14</td>\n",
       "      <td>2018</td>\n",
       "      <td>2019-02-10 17:00:00</td>\n",
       "      <td>20</td>\n",
       "    </tr>\n",
       "    <tr>\n",
       "      <th>6</th>\n",
       "      <td>DIVINA SEGUROS JOVENTUT</td>\n",
       "      <td>10</td>\n",
       "      <td>TECNYCONTA ZARAGOZA</td>\n",
       "      <td>13</td>\n",
       "      <td>2018</td>\n",
       "      <td>2019-02-10 19:30:00</td>\n",
       "      <td>20</td>\n",
       "    </tr>\n",
       "    <tr>\n",
       "      <th>7</th>\n",
       "      <td>REAL MADRID</td>\n",
       "      <td>1</td>\n",
       "      <td>KIROLBET BASKONIA</td>\n",
       "      <td>6</td>\n",
       "      <td>2018</td>\n",
       "      <td>2019-02-10 19:30:00</td>\n",
       "      <td>20</td>\n",
       "    </tr>\n",
       "    <tr>\n",
       "      <th>8</th>\n",
       "      <td>HERBALIFE GRAN CANARIA</td>\n",
       "      <td>17</td>\n",
       "      <td>DELTECO GBC</td>\n",
       "      <td>16</td>\n",
       "      <td>2018</td>\n",
       "      <td>2019-02-10 19:30:00</td>\n",
       "      <td>20</td>\n",
       "    </tr>\n",
       "  </tbody>\n",
       "</table>\n",
       "</div>"
      ],
      "text/plain": [
       "                  team_home  team_home_id              team_away  \\\n",
       "0     VALENCIA BASKET CLUB             18       MONBUS OBRADOIRO   \n",
       "1              BARÇA LASSA              2   MONTAKIT FUENLABRADA   \n",
       "2       IBEROSTAR TENERIFE              9       SAN PABLO BURGOS   \n",
       "3                  UNICAJA              3           BAXI MANRESA   \n",
       "4     MOVISTAR ESTUDIANTES              7       MORABANC ANDORRA   \n",
       "5   CAFÉS CANDELAS BREOGÁN             15         UCAM MURCIA CB   \n",
       "6  DIVINA SEGUROS JOVENTUT             10    TECNYCONTA ZARAGOZA   \n",
       "7              REAL MADRID              1      KIROLBET BASKONIA   \n",
       "8   HERBALIFE GRAN CANARIA             17            DELTECO GBC   \n",
       "\n",
       "   team_away_id  season        kickoff_time  journey  \n",
       "0             5    2018 2019-02-09 18:00:00       20  \n",
       "1             8    2018 2019-02-09 18:00:00       20  \n",
       "2            11    2018 2019-02-09 20:30:00       20  \n",
       "3            12    2018 2019-02-09 20:30:00       20  \n",
       "4             4    2018 2019-02-10 12:30:00       20  \n",
       "5            14    2018 2019-02-10 17:00:00       20  \n",
       "6            13    2018 2019-02-10 19:30:00       20  \n",
       "7             6    2018 2019-02-10 19:30:00       20  \n",
       "8            16    2018 2019-02-10 19:30:00       20  "
      ]
     },
     "execution_count": 36,
     "metadata": {},
     "output_type": "execute_result"
    }
   ],
   "source": [
    "# Load csv aux\n",
    "next_journey_matches_df = pd.read_csv(\"caca.csv\", sep=\",\", encoding=\"utf-8\", parse_dates=[\"kickoff_time\"])\n",
    "next_journey_matches_df"
   ]
  },
  {
   "cell_type": "code",
   "execution_count": 59,
   "metadata": {
    "scrolled": false
   },
   "outputs": [
    {
     "name": "stderr",
     "output_type": "stream",
     "text": [
      "9it [00:00, 36.75it/s]\n",
      "9it [00:00, 50.15it/s]\n"
     ]
    },
    {
     "name": "stdout",
     "output_type": "stream",
     "text": [
      "Index(['team_home_id', 'team_away_id', 'win_rate_home_last100',\n",
      "       'score_diff_avg_home_last100', 'win_rate_away_last100',\n",
      "       'score_diff_avg_away_last100', 'win_rate_home_last20',\n",
      "       'score_diff_avg_home_last20', 'win_rate_away_last20',\n",
      "       'score_diff_avg_away_last20'],\n",
      "      dtype='object')\n",
      "[ 8.64   11.063  13.204  10.41   -1.236   7.686   8.9485  8.925   6.404 ]\n",
      "           0     1     2     3     4     5     6     7     8\n",
      "Est00   28.0   4.0  22.0  24.0 -11.0   4.0 -20.0  13.0   3.0\n",
      "Est01   14.0  14.0  12.0  25.0   7.0   9.0 -12.0  12.0 -26.0\n",
      "Est02   24.0  16.0  12.0  11.0 -20.0   5.0  13.0 -19.0   5.0\n",
      "Est03   -8.0   2.0 -26.0  21.0   2.0   4.0   9.0  12.0  28.0\n",
      "Est04   15.0  -1.0   5.0  13.0   8.0  20.0  13.0   4.0  25.0\n",
      "Est05   46.0  45.0   4.0  18.0   4.0  51.0  -9.0  -1.0  34.0\n",
      "Est06   13.0 -18.0   9.0  13.0  -3.0 -10.0  13.0  10.0  14.0\n",
      "Est07   -7.0  47.0   9.0   6.0  16.0  11.0   2.0   6.0   5.0\n",
      "Est08   -6.0  46.0   4.0 -14.0 -11.0  -6.0  21.0  -9.0   3.0\n",
      "Est09    9.0   4.0   7.0  -5.0   2.0  15.0   6.0  -1.0  11.0\n",
      "Est10   10.0  19.0  46.0  21.0  16.0  26.0  11.0  -4.0  15.0\n",
      "Est100 -17.0   2.0  13.0  13.0 -11.0  21.0  11.0   1.0   8.0\n",
      "Est101  22.0  33.0   9.0 -19.0  -2.0   8.0  11.0   4.0   8.0\n",
      "Est102   4.0  17.0  10.0  -3.0   3.0   2.0 -10.0  22.0  34.0\n",
      "Est103  18.0   9.0  19.0  11.0  -2.0  24.0  11.0   7.0  -6.0\n",
      "Est104 -17.0  -3.0   5.0  19.0 -15.0  -3.0  11.0 -12.0   5.0\n",
      "Est105  24.0   9.0  12.0  10.0 -20.0   9.0  10.0  20.0  -9.0\n",
      "Est106  22.0  13.0   4.0  21.0 -20.0 -26.0  21.0  -8.0 -26.0\n",
      "Est107   6.0   3.0  36.0  15.0  27.0 -16.0  -9.0   4.0 -26.0\n",
      "Est108  -1.0  19.0   5.0   9.0 -20.0   8.0   9.0  21.0  26.0\n",
      "Est109  -8.0  25.0  15.0  13.0  21.0 -14.0   6.0 -12.0 -14.0\n",
      "Est11    5.0  -8.0  22.0   8.0   7.0  26.0  -2.0  10.0 -19.0\n",
      "Est110   7.0  -1.0  14.0  10.0  -8.0  11.0  10.0   3.0  51.0\n",
      "Est111 -24.0  -8.0  45.0  -2.0  -2.0  11.0   9.0  25.0   5.0\n",
      "Est112  -1.0  -3.0  36.0  21.0   3.0   3.0  21.0  11.0  34.0\n",
      "Est113  -8.0  16.0  33.0  21.0  -8.0   3.0  21.0  19.0  26.0\n",
      "Est114  21.0   1.0  21.0   7.0 -11.0 -14.0  11.0   8.0 -23.0\n",
      "Est115  21.0   4.0   5.0   5.0  -2.0  17.0  13.0  14.0  10.0\n",
      "Est116  37.0  17.0  20.0  18.0  21.0   3.0  -5.0  17.0  25.0\n",
      "Est117   2.0  15.0  10.0  16.0   2.0  51.0  12.0   1.0  21.0\n",
      "...      ...   ...   ...   ...   ...   ...   ...   ...   ...\n",
      "Est972  11.0  11.0  17.0  10.0   5.0  26.0  -7.0  18.0  25.0\n",
      "Est973  -6.0  16.0  20.0   2.0  -1.0 -14.0   6.0   2.0  -6.0\n",
      "Est974  -8.0  16.0  45.0  13.0   9.0   3.0  11.0  19.0  -5.0\n",
      "Est975  22.0   2.0 -17.0  13.0  -2.0 -14.0  13.0  19.0 -14.0\n",
      "Est976   5.0  65.0  26.0  -9.0   2.0  26.0  -3.0   3.0  25.0\n",
      "Est977  28.0   3.0   1.0  10.0 -11.0  24.0  21.0  -8.0   3.0\n",
      "Est978  -8.0  37.0  -8.0   2.0   4.0   6.0  27.0  14.0  10.0\n",
      "Est979  17.0  31.0  36.0  36.0   2.0  10.0  18.0  10.0 -26.0\n",
      "Est98   45.0  -3.0  14.0  18.0  12.0  18.0  25.0  22.0  18.0\n",
      "Est980  -1.0  37.0  36.0  14.0 -20.0  -4.0  -2.0  13.0  -6.0\n",
      "Est981  11.0  -2.0  25.0  25.0  16.0  14.0  10.0 -10.0 -26.0\n",
      "Est982  -5.0  -4.0  26.0  14.0 -11.0  -7.0  13.0  27.0  -6.0\n",
      "Est983  33.0  15.0  10.0  27.0  -2.0 -14.0  22.0  -1.0 -14.0\n",
      "Est984   5.0   4.0   7.0   5.0  -2.0  34.0   2.0  18.0 -19.0\n",
      "Est985  24.0  31.0  33.0   5.0  25.0   9.0   6.0   4.0   3.0\n",
      "Est986  22.0  15.0  22.0  27.0  -3.0  37.0  12.0   3.0   5.0\n",
      "Est987   8.0  24.0   7.0  21.0 -11.0  26.0  12.0  10.0  -6.0\n",
      "Est988  14.0  14.0  10.0  -2.0  -2.0 -10.0  12.0  12.0   3.0\n",
      "Est989   6.0  -3.0  11.0  27.0 -11.0  20.0  -8.0  22.0  20.0\n",
      "Est99    6.0  25.0  26.0  21.0   9.0 -14.0   7.0 -10.0  33.0\n",
      "Est990  21.0  25.0  18.0  19.0  12.0  -6.0  19.0  13.0   3.0\n",
      "Est991  11.0  -3.0  10.0  13.0 -11.0   3.0   7.0 -19.0  -4.0\n",
      "Est992   8.0  15.0  22.0  21.0  -8.0   3.0  -3.0  -1.0   5.0\n",
      "Est993  11.0  13.0  17.0   5.0 -11.0   5.0   2.0  14.0  20.0\n",
      "Est994   8.0  19.0  14.0  25.0  21.0  25.0   4.0  12.0  25.0\n",
      "Est995  -3.0  12.0  12.0  13.0 -11.0  16.0  10.0  10.0   9.0\n",
      "Est996  21.0  16.0  19.0  13.0  12.0  28.0  21.0  10.0  34.0\n",
      "Est997  11.0  32.0   6.0  -8.0 -14.0  -3.0   6.0  10.0   3.0\n",
      "Est998  18.0  12.0  14.0  10.0   3.0   5.0  18.0  19.0   5.0\n",
      "Est999  -6.0  -2.0  22.0  13.0  13.0   8.0   5.0 -10.0   3.0\n",
      "\n",
      "[1000 rows x 9 columns]\n"
     ]
    },
    {
     "data": {
      "image/png": "[encoded data removed]",
      "text/plain": [
       "<Figure size 1440x1440 with 1 Axes>"
      ]
     },
     "metadata": {},
     "output_type": "display_data"
    }
   ],
   "source": [
    "#DB connection\n",
    "db_connection = sql.connect(host='localhost', port=3306, database='acb', user='root', password='root')\n",
    "df_aux = pd.read_sql('SELECT * FROM game where game.season >= {}'.format(from_year), con=db_connection)\n",
    "\n",
    "# cols to keep for df_games\n",
    "cols_to_keep = ['team_home_id', 'team_away_id', 'season', 'journey', 'kickoff_time',\n",
    "                'score_home', 'score_away', 'referee_1']\n",
    "cols_to_del = [c for c in df_aux.columns if c not in cols_to_keep]\n",
    "df_aux.drop(cols_to_del, axis=1, inplace=True)\n",
    "\n",
    "# generate the variables from historical games\n",
    "df_predict = calculate_variables_last_X_predict(next_journey_matches_df, df_aux, streak_days_long)\n",
    "df_predict = calculate_variables_last_X_predict(df_predict, df_aux, streak_days_short)\n",
    "\n",
    "# select the columns and predict\n",
    "cols_to_use = X_train.columns\n",
    "print(cols_to_use)\n",
    "df_predict = df_predict[cols_to_use]\n",
    "preds = model.predict(df_predict)\n",
    "print(preds)\n",
    "\n",
    "# Estimating an interval\n",
    "preds_estimators = {}\n",
    "for i in range(len(model.estimators_)):\n",
    "    e = model.estimators_[i]\n",
    "    preds_estimators[\"Est\" + str(i).zfill(2)] = e.predict(df_predict)\n",
    "df_preds_estimators = pd.DataFrame(data=preds_estimators)\n",
    "print(df_preds_estimators.transpose())\n",
    "\n",
    "# Plotting the intervals and the predicted value\n",
    "axes = df_preds_estimators.transpose().plot.box(figsize=(20, 20), positions=range(0,len(df_predict)), showfliers=True,\n",
    "                                                flierprops=dict(marker='+', color='lightblue'),\n",
    "                                                color={'whiskers': 'lightblue', 'caps': 'lightblue',\n",
    "                                                       'medians': 'lightblue', 'boxes': 'lightblue'})\n",
    "axes.plot(preds, color='red', marker='o', linestyle=' ')\n",
    "axes.set_title(\"Predictions of the score difference for each tree and game (including final pred)\")\n",
    "axes.set_xlabel(\"Game\")\n",
    "axes.set_ylabel(\"Score difference\")\n",
    "axes.legend([Line2D([0], [0], color='lightblue', marker='o', linestyle=' '),\n",
    "             Line2D([0], [0], color='red', marker='o', linestyle=' ')], ['Interval', 'Final'])\n",
    "plt.show()\n",
    "\n"
   ]
  },
  {
   "cell_type": "code",
   "execution_count": 81,
   "metadata": {},
   "outputs": [
    {
     "name": "stdout",
     "output_type": "stream",
     "text": [
      "Prob of being in that interval: 60.0 %\n",
      "Estimated bet ratio: 1.6666666666666667\n",
      "Prob of being in that interval: 11.0 %\n",
      "Estimated bet ratio: 9.090909090909092\n",
      "Prob of being in that interval: 28.999999999999996 %\n",
      "Estimated bet ratio: 3.4482758620689657\n"
     ]
    }
   ],
   "source": [
    "# Analyze real madrid interval\n",
    "rm_interval = df_preds_estimators.iloc[7]\n",
    "aux = [1 if sd >=5.99 else 0 for sd in rm_interval]\n",
    "print(\"Prob of being in that interval:\", np.mean(aux)*100, \"%\")\n",
    "print(\"Estimated bet ratio:\", 1/np.mean(aux))\n",
    "aux = [1 if sd <=-5.99 else 0 for sd in rm_interval]\n",
    "print(\"Prob of being in that interval:\", np.mean(aux)*100, \"%\")\n",
    "print(\"Estimated bet ratio:\", 1/np.mean(aux))\n",
    "aux = [1 if abs(sd) < 5.99 else 0 for sd in rm_interval]\n",
    "print(\"Prob of being in that interval:\", np.mean(aux)*100, \"%\")\n",
    "print(\"Estimated bet ratio:\", 1/np.mean(aux))\n"
   ]
  },
  {
   "cell_type": "code",
   "execution_count": 113,
   "metadata": {},
   "outputs": [
    {
     "name": "stdout",
     "output_type": "stream",
     "text": [
      "Prob of being in the interval Inf to -21: 0.1%\n",
      "Estimated fair bet ratio for the interval Inf to -21: 1000.0\n",
      "Prob of being in the interval -20 to -17: 1.0999999999999999%\n",
      "Estimated fair bet ratio for the interval -20 to -17: 90.90909090909092\n",
      "Prob of being in the interval -16 to -14: 0.1%\n",
      "Estimated fair bet ratio for the interval -16 to -14: 1000.0\n",
      "Prob of being in the interval -13 to -10: 4.2%\n",
      "Estimated fair bet ratio for the interval -13 to -10: 23.809523809523807\n",
      "Prob of being in the interval -9 to -7: 4.7%\n",
      "Estimated fair bet ratio for the interval -9 to -7: 21.27659574468085\n",
      "Prob of being in the interval -6 to -3: 5.2%\n",
      "Estimated fair bet ratio for the interval -6 to -3: 19.23076923076923\n",
      "Prob of being in the interval -2 to -1: 4.2%\n",
      "Estimated fair bet ratio for the interval -2 to -1: 23.809523809523807\n",
      "Prob of being in the interval 0 to 0: 0.0%\n"
     ]
    },
    {
     "name": "stderr",
     "output_type": "stream",
     "text": [
      "C:\\Users\\ricardo\\Anaconda3\\lib\\site-packages\\ipykernel_launcher.py:16: RuntimeWarning: divide by zero encountered in double_scalars\n",
      "  app.launch_new_instance()\n"
     ]
    },
    {
     "name": "stdout",
     "output_type": "stream",
     "text": [
      "Estimated fair bet ratio for the interval 0 to 0: inf\n",
      "Prob of being in the interval 1 to 2: 7.3999999999999995%\n",
      "Estimated fair bet ratio for the interval 1 to 2: 13.513513513513514\n",
      "Prob of being in the interval 3 to 6: 17.2%\n",
      "Estimated fair bet ratio for the interval 3 to 6: 5.813953488372094\n",
      "Prob of being in the interval 7 to 9: 4.1000000000000005%\n",
      "Estimated fair bet ratio for the interval 7 to 9: 24.390243902439025\n",
      "Prob of being in the interval 10 to 13: 22.8%\n",
      "Estimated fair bet ratio for the interval 10 to 13: 4.385964912280701\n",
      "Prob of being in the interval 14 to 16: 2.4%\n",
      "Estimated fair bet ratio for the interval 14 to 16: 41.666666666666664\n",
      "Prob of being in the interval 17 to 20: 9.4%\n",
      "Estimated fair bet ratio for the interval 17 to 20: 10.638297872340425\n",
      "Prob of being in the interval 21 to Inf: 17.1%\n",
      "Estimated fair bet ratio for the interval 21 to Inf: 5.847953216374268\n"
     ]
    }
   ],
   "source": [
    "# Analyze real madrid interval\n",
    "rm_preds = df_preds_estimators.iloc[7]\n",
    "inits_intervals=[1, 3, 7, 10, 14, 17, 21]\n",
    "inits_intervals =  [-i for i in inits_intervals[::-1]] + inits_intervals\n",
    "\n",
    "prev = inits_intervals[0]\n",
    "aux = [1 if sd <=(prev+0.001) else 0 for sd in rm_preds]\n",
    "print(\"Prob of being in the interval Inf to {}: {}%\".format(prev, np.mean(aux)*100))\n",
    "print(\"Estimated fair bet ratio for the interval Inf to {}: {}\".format(prev, 1/np.mean(aux)))\n",
    "\n",
    "for i in range(1, len(inits_intervals)):\n",
    "    prev = inits_intervals[i-1] if inits_intervals[i-1]>0 else inits_intervals[i-1]+1\n",
    "    end = inits_intervals[i]-1 if inits_intervals[i]>0 else inits_intervals[i]\n",
    "    aux = [1 if sd >=(prev-0.001) and sd<(end+0.001) else 0 for sd in rm_preds]\n",
    "    print(\"Prob of being in the interval {} to {}: {}%\".format(prev, end, np.mean(aux)*100))\n",
    "    print(\"Estimated fair bet ratio for the interval {} to {}: {}\".format(prev, end, 1/np.mean(aux)))\n",
    "\n",
    "prev = inits_intervals[-1]\n",
    "aux = [1 if sd >=(prev-0.001) else 0 for sd in rm_preds]\n",
    "print(\"Prob of being in the interval {} to Inf: {}%\".format(prev, np.mean(aux)*100))\n",
    "print(\"Estimated fair bet ratio for the interval {} to Inf: {}\".format(prev, 1/np.mean(aux)))"
   ]
  },
  {
   "cell_type": "code",
   "execution_count": 114,
   "metadata": {},
   "outputs": [
    {
     "name": "stdout",
     "output_type": "stream",
     "text": [
      "Prob of being in the interval Inf to -31: 0.0%\n"
     ]
    },
    {
     "name": "stderr",
     "output_type": "stream",
     "text": [
      "C:\\Users\\ricardo\\Anaconda3\\lib\\site-packages\\ipykernel_launcher.py:9: RuntimeWarning: divide by zero encountered in double_scalars\n",
      "  if __name__ == '__main__':\n"
     ]
    },
    {
     "name": "stdout",
     "output_type": "stream",
     "text": [
      "Estimated fair bet ratio for the interval Inf to -31: inf\n",
      "Prob of being in the interval -30 to -26: 0.0%\n"
     ]
    },
    {
     "name": "stderr",
     "output_type": "stream",
     "text": [
      "C:\\Users\\ricardo\\Anaconda3\\lib\\site-packages\\ipykernel_launcher.py:16: RuntimeWarning: divide by zero encountered in double_scalars\n",
      "  app.launch_new_instance()\n"
     ]
    },
    {
     "name": "stdout",
     "output_type": "stream",
     "text": [
      "Estimated fair bet ratio for the interval -30 to -26: inf\n",
      "Prob of being in the interval -25 to -21: 0.1%\n",
      "Estimated fair bet ratio for the interval -25 to -21: 1000.0\n",
      "Prob of being in the interval -20 to -16: 1.2%\n",
      "Estimated fair bet ratio for the interval -20 to -16: 83.33333333333333\n",
      "Prob of being in the interval -15 to -11: 2.6%\n",
      "Estimated fair bet ratio for the interval -15 to -11: 38.46153846153846\n",
      "Prob of being in the interval -10 to -6: 7.1%\n",
      "Estimated fair bet ratio for the interval -10 to -6: 14.084507042253522\n",
      "Prob of being in the interval -5 to -1: 8.6%\n",
      "Estimated fair bet ratio for the interval -5 to -1: 11.627906976744187\n",
      "Prob of being in the interval 0 to 0: 0.0%\n",
      "Estimated fair bet ratio for the interval 0 to 0: inf\n",
      "Prob of being in the interval 1 to 5: 20.4%\n",
      "Estimated fair bet ratio for the interval 1 to 5: 4.901960784313726\n",
      "Prob of being in the interval 6 to 10: 17.4%\n",
      "Estimated fair bet ratio for the interval 6 to 10: 5.74712643678161\n",
      "Prob of being in the interval 11 to 15: 15.9%\n",
      "Estimated fair bet ratio for the interval 11 to 15: 6.289308176100628\n",
      "Prob of being in the interval 16 to 20: 9.6%\n",
      "Estimated fair bet ratio for the interval 16 to 20: 10.416666666666666\n",
      "Prob of being in the interval 21 to 25: 9.0%\n",
      "Estimated fair bet ratio for the interval 21 to 25: 11.11111111111111\n",
      "Prob of being in the interval 26 to 30: 7.1%\n",
      "Estimated fair bet ratio for the interval 26 to 30: 14.084507042253522\n",
      "Prob of being in the interval 31 to Inf: 1.0%\n",
      "Estimated fair bet ratio for the interval 31 to Inf: 100.0\n"
     ]
    }
   ],
   "source": [
    "# Analyze real madrid interval\n",
    "rm_preds = df_preds_estimators.iloc[7]\n",
    "inits_intervals=[1, 6, 11, 16, 21, 26, 31]\n",
    "inits_intervals =  [-i for i in inits_intervals[::-1]] + inits_intervals\n",
    "\n",
    "prev = inits_intervals[0]\n",
    "aux = [1 if sd <=(prev+0.001) else 0 for sd in rm_preds]\n",
    "print(\"Prob of being in the interval Inf to {}: {}%\".format(prev, np.mean(aux)*100))\n",
    "print(\"Estimated fair bet ratio for the interval Inf to {}: {}\".format(prev, 1/np.mean(aux)))\n",
    "\n",
    "for i in range(1, len(inits_intervals)):\n",
    "    prev = inits_intervals[i-1] if inits_intervals[i-1]>0 else inits_intervals[i-1]+1\n",
    "    end = inits_intervals[i]-1 if inits_intervals[i]>0 else inits_intervals[i]\n",
    "    aux = [1 if sd >=(prev-0.001) and sd<(end+0.001) else 0 for sd in rm_preds]\n",
    "    print(\"Prob of being in the interval {} to {}: {}%\".format(prev, end, np.mean(aux)*100))\n",
    "    print(\"Estimated fair bet ratio for the interval {} to {}: {}\".format(prev, end, 1/np.mean(aux)))\n",
    "\n",
    "prev = inits_intervals[-1]\n",
    "aux = [1 if sd >=(prev-0.001) else 0 for sd in rm_preds]\n",
    "print(\"Prob of being in the interval {} to Inf: {}%\".format(prev, np.mean(aux)*100))\n",
    "print(\"Estimated fair bet ratio for the interval {} to Inf: {}\".format(prev, 1/np.mean(aux)))"
   ]
  },
  {
   "cell_type": "code",
   "execution_count": null,
   "metadata": {
    "collapsed": true
   },
   "outputs": [],
   "source": []
  }
 ],
 "metadata": {
  "kernelspec": {
   "display_name": "Python 3",
   "language": "python",
   "name": "python3"
  },
  "language_info": {
   "codemirror_mode": {
    "name": "ipython",
    "version": 3
   },
   "file_extension": ".py",
   "mimetype": "text/x-python",
   "name": "python",
   "nbconvert_exporter": "python",
   "pygments_lexer": "ipython3",
   "version": "3.6.3"
  }
 },
 "nbformat": 4,
 "nbformat_minor": 1
}
